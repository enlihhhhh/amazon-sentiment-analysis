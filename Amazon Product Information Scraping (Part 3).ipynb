{
 "cells": [
  {
   "cell_type": "code",
   "execution_count": 1,
   "id": "ea673673",
   "metadata": {},
   "outputs": [],
   "source": [
    "import pandas as pd\n",
    "import numpy as np\n",
    "import pickle\n",
    "import json\n",
    "import re\n",
    "import requests\n",
    "from bs4 import BeautifulSoup\n",
    "from tqdm.notebook import tqdm\n",
    "from selenium import webdriver\n",
    "from selenium.webdriver.common.keys import Keys\n",
    "import time\n",
    "from tqdm.notebook import tqdm\n",
    "\n",
    "# Creating PrettyPrinter Instance\n",
    "import pprint\n",
    "pp = pprint.PrettyPrinter(indent=2)"
   ]
  },
  {
   "cell_type": "markdown",
   "id": "38d67745",
   "metadata": {},
   "source": [
    "## Helper Functions"
   ]
  },
  {
   "cell_type": "code",
   "execution_count": 2,
   "id": "9233015a",
   "metadata": {},
   "outputs": [],
   "source": [
    "# Function to write data to a JSON file\n",
    "def write_to_json(data, filename):\n",
    "    \"\"\"\n",
    "    Write data to a JSON file.\n",
    "\n",
    "    Args:\n",
    "        data: The data (dictionary, list, etc.) to be written to the JSON file.\n",
    "        filename (str): The name of the JSON file to write.\n",
    "\n",
    "    Returns:\n",
    "        bool: True if the data was successfully written to the file, False otherwise.\n",
    "    \"\"\"\n",
    "    try:\n",
    "        with open(filename, 'w') as json_file:\n",
    "            json.dump(data, json_file, indent=4)\n",
    "        return True\n",
    "    except Exception as e:\n",
    "        print(f\"Error writing to JSON file: {e}\")\n",
    "        return False\n",
    "\n",
    "# Function to load data from a JSON file\n",
    "def load_from_json(filename):\n",
    "    \"\"\"\n",
    "    Load data from a JSON file.\n",
    "\n",
    "    Args:\n",
    "        filename (str): The name of the JSON file to read data from.\n",
    "\n",
    "    Returns:\n",
    "        dict or list: The loaded data from the JSON file, or an empty dictionary/list if the file doesn't exist.\n",
    "    \"\"\"\n",
    "    try:\n",
    "        with open(filename, 'r') as json_file:\n",
    "            data = json.load(json_file)\n",
    "        return data\n",
    "    except FileNotFoundError:\n",
    "        print(f\"JSON file '{filename}' not found. Returning an empty dictionary.\")\n",
    "        return {}\n",
    "    except Exception as e:\n",
    "        print(f\"Error loading data from JSON file: {e}\")\n",
    "        return {}"
   ]
  },
  {
   "cell_type": "code",
   "execution_count": 3,
   "id": "a5a4dd17",
   "metadata": {},
   "outputs": [],
   "source": [
    "# Function to load a pickle file and extract titles\n",
    "def load_pickle(file_path):\n",
    "    \"\"\"\n",
    "    Load data from a pickle file.\n",
    "\n",
    "    :param file_path: The path to the output pickle file.\n",
    "    \"\"\"\n",
    "    with open(file_path, 'rb') as file:\n",
    "        data = pickle.load(file)\n",
    "        \n",
    "    return data\n",
    "\n",
    "def write_pickle(data, file_path):\n",
    "    \"\"\"\n",
    "    Write data to a pickle file.\n",
    "\n",
    "    :param data: The data to be written to the file.\n",
    "    :param file_path: The path to the output pickle file.\n",
    "    \"\"\"\n",
    "    try:\n",
    "        with open(file_path, 'wb') as file:\n",
    "            pickle.dump(data, file)\n",
    "        #print(f'Data has been written to {file_path}')\n",
    "    except Exception as e:\n",
    "        print(f'Error writing to {file_path}: {e}')"
   ]
  },
  {
   "cell_type": "code",
   "execution_count": 4,
   "id": "46b25039",
   "metadata": {},
   "outputs": [],
   "source": [
    "# Function to extract raw data from Amazon Website\n",
    "def product_information(soup):\n",
    "    title_element = None\n",
    "    rating_element = None\n",
    "    total_rating_element = None\n",
    "    price_element = None\n",
    "    description_element_list = []\n",
    "    product_features = []\n",
    "    description_element = None\n",
    "\n",
    "    try:\n",
    "        title_element = soup.find('span', id='productTitle').text.strip()\n",
    "    except AttributeError:\n",
    "        title_element = 'NaN'\n",
    "\n",
    "    try:\n",
    "        rating_element = soup.find('span', id='acrPopover').get('title')\n",
    "    except AttributeError:\n",
    "        rating_element = 'NaN'\n",
    "\n",
    "    try:\n",
    "        total_rating_element = soup.find('span', id=\"acrCustomerReviewText\").text\n",
    "    except AttributeError:\n",
    "        total_rating_element = 'NaN'\n",
    "\n",
    "    try:\n",
    "        price_element = soup.find('span', class_=\"aok-offscreen\").text.strip()\n",
    "    except AttributeError:\n",
    "        price_element = 'NaN'\n",
    "\n",
    "    try:\n",
    "        description_element = soup.find('table', class_=\"a-normal a-spacing-micro\").find_all('tr')\n",
    "        for i in description_element:\n",
    "            description_element_list.append(i.find('td', class_='a-span3').text.strip() + ': ' + i.find('td', class_='a-span9').text.strip())\n",
    "    except AttributeError:\n",
    "        description_element_list = 'NaN'\n",
    "\n",
    "    try:\n",
    "        product_feat = soup.find_all('li', class_=\"a-spacing-mini\")\n",
    "        for i in product_feat:\n",
    "            product_features.append(i.text.strip())\n",
    "    except AttributeError:\n",
    "        product_features = 'NaN'\n",
    "\n",
    "    try:\n",
    "        description_element = soup.find('div', id='productDescription').text.strip()\n",
    "    except AttributeError:\n",
    "        description_element = 'NaN'\n",
    "\n",
    "    return title_element, rating_element, total_rating_element, price_element, description_element_list, product_features, description_element\n"
   ]
  },
  {
   "cell_type": "code",
   "execution_count": 5,
   "id": "5ead1750",
   "metadata": {},
   "outputs": [],
   "source": [
    "# Function to extract reviews from Amazon Website\n",
    "def review_information(soup):\n",
    "    review_elements = soup.select(\"div.review\")\n",
    "    if not review_elements:\n",
    "        print('No Reviews Available')\n",
    "    else:\n",
    "        scraped_reviews = []\n",
    "        for review in review_elements:\n",
    "            r_author_element = review.select_one(\"span.a-profile-name\")\n",
    "            r_author = r_author_element.text if r_author_element else None\n",
    "            r_rating_element = review.select_one(\"i.review-rating\")\n",
    "            r_rating = r_rating_element.text.replace(\"out of 5 stars\", \"\") if r_rating_element else None\n",
    "            r_title_element = review.select_one(\"a.review-title\")\n",
    "            r_title_span_element = r_title_element.select_one(\"span:not([class])\") if r_title_element else None\n",
    "            r_title = r_title_span_element.text if r_title_span_element else None\n",
    "            r_content_element = review.select_one(\"span.review-text\")\n",
    "            r_content = r_content_element.text if r_content_element else None\n",
    "            r_date_element = review.select_one(\"span.review-date\")\n",
    "            r_date = r_date_element.text if r_date_element else None\n",
    "            r_verified_element = review.select_one(\"span.a-size-mini\")\n",
    "            r_verified = r_verified_element.text if r_verified_element else None\n",
    "            print(r_author,r_rating,r_title,r_content,r_date,r_verified)\n",
    "            print('\\n')"
   ]
  },
  {
   "cell_type": "markdown",
   "id": "8024efdd",
   "metadata": {},
   "source": [
    "## Scraping Information from Electronics Categories"
   ]
  },
  {
   "cell_type": "code",
   "execution_count": 6,
   "id": "18e8d6b6",
   "metadata": {},
   "outputs": [],
   "source": [
    "# electronics url \n",
    "driver = webdriver.Chrome()\n",
    "url = 'https://www.amazon.sg/Buy-Electronics-Online/b/?ie=UTF8&node=6314449051&ref_=nav_cs_electronics'\n",
    "amazon_base_url = 'https://www.amazon.sg'\n",
    "driver.get(url)\n",
    "time.sleep(5)\n",
    "page_source = driver.page_source\n",
    "soup = BeautifulSoup(page_source, 'html.parser')\n",
    "\n",
    "driver.quit()"
   ]
  },
  {
   "cell_type": "code",
   "execution_count": 7,
   "id": "0ad839bf",
   "metadata": {
    "scrolled": false
   },
   "outputs": [
    {
     "name": "stdout",
     "output_type": "stream",
     "text": [
      "Computers, Components & Accessories: https://www.amazon.sg/b/?_encoding=UTF8&node=6436071051&bbn=6314449051&ref_=Oct_d_odnav_d_6314449051_0&pd_rd_w=lDX0p&content-id=amzn1.sym.80833b11-ffca-4e6a-8a04-ea9e915d944b&pf_rd_p=80833b11-ffca-4e6a-8a04-ea9e915d944b&pf_rd_r=6QTSPPDD13FH2WX7BHRD&pd_rd_wg=YuMHk&pd_rd_r=d136dc59-0ba1-49ac-8c8d-21652ca5145f\n",
      "Mobile Phones & Communication: https://www.amazon.sg/b/?_encoding=UTF8&node=6436074051&bbn=6314449051&ref_=Oct_d_odnav_d_6314449051_1&pd_rd_w=lDX0p&content-id=amzn1.sym.80833b11-ffca-4e6a-8a04-ea9e915d944b&pf_rd_p=80833b11-ffca-4e6a-8a04-ea9e915d944b&pf_rd_r=6QTSPPDD13FH2WX7BHRD&pd_rd_wg=YuMHk&pd_rd_r=d136dc59-0ba1-49ac-8c8d-21652ca5145f\n",
      "Home Cinema, TV & Video: https://www.amazon.sg/b/?_encoding=UTF8&node=6436073051&bbn=6314449051&ref_=Oct_d_odnav_d_6314449051_2&pd_rd_w=lDX0p&content-id=amzn1.sym.80833b11-ffca-4e6a-8a04-ea9e915d944b&pf_rd_p=80833b11-ffca-4e6a-8a04-ea9e915d944b&pf_rd_r=6QTSPPDD13FH2WX7BHRD&pd_rd_wg=YuMHk&pd_rd_r=d136dc59-0ba1-49ac-8c8d-21652ca5145f\n",
      "Headphones, Earbuds & Accessories: https://www.amazon.sg/b/?_encoding=UTF8&node=6436081051&bbn=6314449051&ref_=Oct_d_odnav_d_6314449051_3&pd_rd_w=lDX0p&content-id=amzn1.sym.80833b11-ffca-4e6a-8a04-ea9e915d944b&pf_rd_p=80833b11-ffca-4e6a-8a04-ea9e915d944b&pf_rd_r=6QTSPPDD13FH2WX7BHRD&pd_rd_wg=YuMHk&pd_rd_r=d136dc59-0ba1-49ac-8c8d-21652ca5145f\n",
      "Car & Vehicle Electronics: https://www.amazon.sg/b/?_encoding=UTF8&node=6436070051&bbn=6314449051&ref_=Oct_d_odnav_d_6314449051_4&pd_rd_w=lDX0p&content-id=amzn1.sym.80833b11-ffca-4e6a-8a04-ea9e915d944b&pf_rd_p=80833b11-ffca-4e6a-8a04-ea9e915d944b&pf_rd_r=6QTSPPDD13FH2WX7BHRD&pd_rd_wg=YuMHk&pd_rd_r=d136dc59-0ba1-49ac-8c8d-21652ca5145f\n",
      "Tablets: https://www.amazon.sg/b/?_encoding=UTF8&node=6436120051&bbn=6314449051&ref_=Oct_d_odnav_d_6314449051_5&pd_rd_w=lDX0p&content-id=amzn1.sym.80833b11-ffca-4e6a-8a04-ea9e915d944b&pf_rd_p=80833b11-ffca-4e6a-8a04-ea9e915d944b&pf_rd_r=6QTSPPDD13FH2WX7BHRD&pd_rd_wg=YuMHk&pd_rd_r=d136dc59-0ba1-49ac-8c8d-21652ca5145f\n",
      "Hi-Fi & Home Audio: https://www.amazon.sg/b/?_encoding=UTF8&node=6436072051&bbn=6314449051&ref_=Oct_d_odnav_d_6314449051_6&pd_rd_w=lDX0p&content-id=amzn1.sym.80833b11-ffca-4e6a-8a04-ea9e915d944b&pf_rd_p=80833b11-ffca-4e6a-8a04-ea9e915d944b&pf_rd_r=6QTSPPDD13FH2WX7BHRD&pd_rd_wg=YuMHk&pd_rd_r=d136dc59-0ba1-49ac-8c8d-21652ca5145f\n",
      "Camera & Photo: https://www.amazon.sg/b/?_encoding=UTF8&node=6436069051&bbn=6314449051&ref_=Oct_d_odnav_d_6314449051_7&pd_rd_w=lDX0p&content-id=amzn1.sym.80833b11-ffca-4e6a-8a04-ea9e915d944b&pf_rd_p=80833b11-ffca-4e6a-8a04-ea9e915d944b&pf_rd_r=6QTSPPDD13FH2WX7BHRD&pd_rd_wg=YuMHk&pd_rd_r=d136dc59-0ba1-49ac-8c8d-21652ca5145f\n",
      "Wearable Technology: https://www.amazon.sg/b/?_encoding=UTF8&node=6436080051&bbn=6314449051&ref_=Oct_d_odnav_d_6314449051_8&pd_rd_w=lDX0p&content-id=amzn1.sym.80833b11-ffca-4e6a-8a04-ea9e915d944b&pf_rd_p=80833b11-ffca-4e6a-8a04-ea9e915d944b&pf_rd_r=6QTSPPDD13FH2WX7BHRD&pd_rd_wg=YuMHk&pd_rd_r=d136dc59-0ba1-49ac-8c8d-21652ca5145f\n",
      "Portable Sound & Vision: https://www.amazon.sg/b/?_encoding=UTF8&node=6436075051&bbn=6314449051&ref_=Oct_d_odnav_d_6314449051_9&pd_rd_w=lDX0p&content-id=amzn1.sym.80833b11-ffca-4e6a-8a04-ea9e915d944b&pf_rd_p=80833b11-ffca-4e6a-8a04-ea9e915d944b&pf_rd_r=6QTSPPDD13FH2WX7BHRD&pd_rd_wg=YuMHk&pd_rd_r=d136dc59-0ba1-49ac-8c8d-21652ca5145f\n",
      "Sat Nav, GPS, Navigation & Accessories: https://www.amazon.sg/b/?_encoding=UTF8&node=6436077051&bbn=6314449051&ref_=Oct_d_odnav_d_6314449051_10&pd_rd_w=lDX0p&content-id=amzn1.sym.80833b11-ffca-4e6a-8a04-ea9e915d944b&pf_rd_p=80833b11-ffca-4e6a-8a04-ea9e915d944b&pf_rd_r=6QTSPPDD13FH2WX7BHRD&pd_rd_wg=YuMHk&pd_rd_r=d136dc59-0ba1-49ac-8c8d-21652ca5145f\n",
      "Household Batteries & Chargers: https://www.amazon.sg/b/?_encoding=UTF8&node=6436067051&bbn=6314449051&ref_=Oct_d_odnav_d_6314449051_11&pd_rd_w=lDX0p&content-id=amzn1.sym.80833b11-ffca-4e6a-8a04-ea9e915d944b&pf_rd_p=80833b11-ffca-4e6a-8a04-ea9e915d944b&pf_rd_r=6QTSPPDD13FH2WX7BHRD&pd_rd_wg=YuMHk&pd_rd_r=d136dc59-0ba1-49ac-8c8d-21652ca5145f\n",
      "Power Accessories: https://www.amazon.sg/b/?_encoding=UTF8&node=6436068051&bbn=6314449051&ref_=Oct_d_odnav_d_6314449051_12&pd_rd_w=lDX0p&content-id=amzn1.sym.80833b11-ffca-4e6a-8a04-ea9e915d944b&pf_rd_p=80833b11-ffca-4e6a-8a04-ea9e915d944b&pf_rd_r=6QTSPPDD13FH2WX7BHRD&pd_rd_wg=YuMHk&pd_rd_r=d136dc59-0ba1-49ac-8c8d-21652ca5145f\n",
      "Telephones, VoIP & Accessories: https://www.amazon.sg/b/?_encoding=UTF8&node=6436078051&bbn=6314449051&ref_=Oct_d_odnav_d_6314449051_13&pd_rd_w=lDX0p&content-id=amzn1.sym.80833b11-ffca-4e6a-8a04-ea9e915d944b&pf_rd_p=80833b11-ffca-4e6a-8a04-ea9e915d944b&pf_rd_r=6QTSPPDD13FH2WX7BHRD&pd_rd_wg=YuMHk&pd_rd_r=d136dc59-0ba1-49ac-8c8d-21652ca5145f\n",
      "Radio Communication: https://www.amazon.sg/b/?_encoding=UTF8&node=6436076051&bbn=6314449051&ref_=Oct_d_odnav_d_6314449051_14&pd_rd_w=lDX0p&content-id=amzn1.sym.80833b11-ffca-4e6a-8a04-ea9e915d944b&pf_rd_p=80833b11-ffca-4e6a-8a04-ea9e915d944b&pf_rd_r=6QTSPPDD13FH2WX7BHRD&pd_rd_wg=YuMHk&pd_rd_r=d136dc59-0ba1-49ac-8c8d-21652ca5145f\n"
     ]
    }
   ],
   "source": [
    "# getting the links to all subcategories\n",
    "subcategory_url = {}\n",
    "subcategory_container = soup.find_all('a', class_ = \"a-link-normal octopus-pc-category-card-v2-category-link\")\n",
    "for element in subcategory_container:\n",
    "    subcategory_url[element['title']] = amazon_base_url + element['href']\n",
    "    print(element['title'] + \": \" + amazon_base_url + element['href'])"
   ]
  },
  {
   "cell_type": "code",
   "execution_count": null,
   "id": "53357ac1",
   "metadata": {},
   "outputs": [],
   "source": []
  },
  {
   "cell_type": "markdown",
   "id": "c93a8c8b",
   "metadata": {},
   "source": [
    "## Extract Subcategories Information"
   ]
  },
  {
   "cell_type": "markdown",
   "id": "3674fa21",
   "metadata": {},
   "source": [
    "### Wearable Technology"
   ]
  },
  {
   "cell_type": "code",
   "execution_count": 8,
   "id": "34430c20",
   "metadata": {},
   "outputs": [
    {
     "name": "stdout",
     "output_type": "stream",
     "text": [
      "Smartwatches: https://www.amazon.sg/b/?_encoding=UTF8&node=6436180051&bbn=6314449051&ref_=Oct_d_odnav_d_6436080051_0&pd_rd_w=ABKaQ&content-id=amzn1.sym.80833b11-ffca-4e6a-8a04-ea9e915d944b&pf_rd_p=80833b11-ffca-4e6a-8a04-ea9e915d944b&pf_rd_r=9FTCVR53RN6WD8D3XWD8&pd_rd_wg=j6Dk6&pd_rd_r=372dbe26-f5f8-40ee-8a50-49aec3b066a9\n",
      "Smartwatch Accessories: https://www.amazon.sg/b/?_encoding=UTF8&node=6436181051&bbn=6314449051&ref_=Oct_d_odnav_d_6436080051_1&pd_rd_w=ABKaQ&content-id=amzn1.sym.80833b11-ffca-4e6a-8a04-ea9e915d944b&pf_rd_p=80833b11-ffca-4e6a-8a04-ea9e915d944b&pf_rd_r=9FTCVR53RN6WD8D3XWD8&pd_rd_wg=j6Dk6&pd_rd_r=372dbe26-f5f8-40ee-8a50-49aec3b066a9\n",
      "Smartglasses: https://www.amazon.sg/b/?_encoding=UTF8&node=14692143051&bbn=6314449051&ref_=Oct_d_odnav_d_6436080051_2&pd_rd_w=ABKaQ&content-id=amzn1.sym.80833b11-ffca-4e6a-8a04-ea9e915d944b&pf_rd_p=80833b11-ffca-4e6a-8a04-ea9e915d944b&pf_rd_r=9FTCVR53RN6WD8D3XWD8&pd_rd_wg=j6Dk6&pd_rd_r=372dbe26-f5f8-40ee-8a50-49aec3b066a9\n",
      "Activity Trackers: https://www.amazon.sg/b/?_encoding=UTF8&node=6382391051&bbn=6314449051&ref_=Oct_d_odnav_d_6436080051_3&pd_rd_w=ABKaQ&content-id=amzn1.sym.80833b11-ffca-4e6a-8a04-ea9e915d944b&pf_rd_p=80833b11-ffca-4e6a-8a04-ea9e915d944b&pf_rd_r=9FTCVR53RN6WD8D3XWD8&pd_rd_wg=j6Dk6&pd_rd_r=372dbe26-f5f8-40ee-8a50-49aec3b066a9\n",
      "Clips, Arm & Wristbands: https://www.amazon.sg/b/?_encoding=UTF8&node=6436183051&bbn=6314449051&ref_=Oct_d_odnav_d_6436080051_4&pd_rd_w=ABKaQ&content-id=amzn1.sym.80833b11-ffca-4e6a-8a04-ea9e915d944b&pf_rd_p=80833b11-ffca-4e6a-8a04-ea9e915d944b&pf_rd_r=9FTCVR53RN6WD8D3XWD8&pd_rd_wg=j6Dk6&pd_rd_r=372dbe26-f5f8-40ee-8a50-49aec3b066a9\n",
      "Accessories: https://www.amazon.sg/b/?_encoding=UTF8&node=6436182051&bbn=6314449051&ref_=Oct_d_odnav_d_6436080051_5&pd_rd_w=ABKaQ&content-id=amzn1.sym.80833b11-ffca-4e6a-8a04-ea9e915d944b&pf_rd_p=80833b11-ffca-4e6a-8a04-ea9e915d944b&pf_rd_r=9FTCVR53RN6WD8D3XWD8&pd_rd_wg=j6Dk6&pd_rd_r=372dbe26-f5f8-40ee-8a50-49aec3b066a9\n",
      "Single Ear Bluetooth Headsets: https://www.amazon.sg/b/?_encoding=UTF8&node=6436342051&bbn=6314449051&ref_=Oct_d_odnav_d_6436080051_6&pd_rd_w=ABKaQ&content-id=amzn1.sym.80833b11-ffca-4e6a-8a04-ea9e915d944b&pf_rd_p=80833b11-ffca-4e6a-8a04-ea9e915d944b&pf_rd_r=9FTCVR53RN6WD8D3XWD8&pd_rd_wg=j6Dk6&pd_rd_r=372dbe26-f5f8-40ee-8a50-49aec3b066a9\n",
      "Arm & Wristband Accessories: https://www.amazon.sg/b/?_encoding=UTF8&node=10468264051&bbn=6314449051&ref_=Oct_d_odnav_d_6436080051_7&pd_rd_w=ABKaQ&content-id=amzn1.sym.80833b11-ffca-4e6a-8a04-ea9e915d944b&pf_rd_p=80833b11-ffca-4e6a-8a04-ea9e915d944b&pf_rd_r=9FTCVR53RN6WD8D3XWD8&pd_rd_wg=j6Dk6&pd_rd_r=372dbe26-f5f8-40ee-8a50-49aec3b066a9\n"
     ]
    }
   ],
   "source": [
    "# code to get urls \n",
    "driver = webdriver.Chrome()\n",
    "temp_url = subcategory_url['Wearable Technology']\n",
    "driver.get(temp_url)\n",
    "time.sleep(5)\n",
    "page_source = driver.page_source\n",
    "soup = BeautifulSoup(page_source, 'html.parser')\n",
    "wearables_url_dict = {}\n",
    "for sub_element in soup.find_all('a', class_ = \"a-link-normal octopus-pc-category-card-v2-category-link\"):\n",
    "    wearables_url_dict[sub_element['title']] = amazon_base_url + sub_element['href']\n",
    "    print(sub_element['title'] + \": \" + amazon_base_url + sub_element['href'])   \n",
    "    \n",
    "# quit the driver\n",
    "driver.quit()"
   ]
  },
  {
   "cell_type": "code",
   "execution_count": 10,
   "id": "1f72e5d1",
   "metadata": {},
   "outputs": [
    {
     "data": {
      "application/vnd.jupyter.widget-view+json": {
       "model_id": "79c429a800014ea7a7b92c01c2c79eaa",
       "version_major": 2,
       "version_minor": 0
      },
      "text/plain": [
       "Subcategory Progress:   0%|          | 0/8 [00:00<?, ?it/s]"
      ]
     },
     "metadata": {},
     "output_type": "display_data"
    },
    {
     "data": {
      "application/vnd.jupyter.widget-view+json": {
       "model_id": "462c63b0f29d47c397c48c41f234bd94",
       "version_major": 2,
       "version_minor": 0
      },
      "text/plain": [
       "Page Progress:   0%|          | 0/4 [00:00<?, ?it/s]"
      ]
     },
     "metadata": {},
     "output_type": "display_data"
    },
    {
     "data": {
      "application/vnd.jupyter.widget-view+json": {
       "model_id": "830e464523b5470fb7fe3b0cb52f5d1d",
       "version_major": 2,
       "version_minor": 0
      },
      "text/plain": [
       "Product Progress:   0%|          | 0/37 [00:00<?, ?it/s]"
      ]
     },
     "metadata": {},
     "output_type": "display_data"
    },
    {
     "data": {
      "application/vnd.jupyter.widget-view+json": {
       "model_id": "73a87bf863f34d708f665a766e994620",
       "version_major": 2,
       "version_minor": 0
      },
      "text/plain": [
       "Product Progress:   0%|          | 0/37 [00:00<?, ?it/s]"
      ]
     },
     "metadata": {},
     "output_type": "display_data"
    },
    {
     "data": {
      "application/vnd.jupyter.widget-view+json": {
       "model_id": "b56b520b314140c58bf38027942b7c4f",
       "version_major": 2,
       "version_minor": 0
      },
      "text/plain": [
       "Product Progress:   0%|          | 0/37 [00:00<?, ?it/s]"
      ]
     },
     "metadata": {},
     "output_type": "display_data"
    },
    {
     "data": {
      "application/vnd.jupyter.widget-view+json": {
       "model_id": "ab9d6d1c43524869b40bd8d15d9545fd",
       "version_major": 2,
       "version_minor": 0
      },
      "text/plain": [
       "Product Progress:   0%|          | 0/37 [00:00<?, ?it/s]"
      ]
     },
     "metadata": {},
     "output_type": "display_data"
    },
    {
     "data": {
      "application/vnd.jupyter.widget-view+json": {
       "model_id": "b7feea80df694e63b50a99b0e7470c5d",
       "version_major": 2,
       "version_minor": 0
      },
      "text/plain": [
       "Page Progress:   0%|          | 0/4 [00:00<?, ?it/s]"
      ]
     },
     "metadata": {},
     "output_type": "display_data"
    },
    {
     "data": {
      "application/vnd.jupyter.widget-view+json": {
       "model_id": "4603f7d02f82418d85cb7e1c35d8b9a4",
       "version_major": 2,
       "version_minor": 0
      },
      "text/plain": [
       "Product Progress:   0%|          | 0/37 [00:00<?, ?it/s]"
      ]
     },
     "metadata": {},
     "output_type": "display_data"
    },
    {
     "data": {
      "application/vnd.jupyter.widget-view+json": {
       "model_id": "3bf93658c8694bdb88c2e03ff4748a2f",
       "version_major": 2,
       "version_minor": 0
      },
      "text/plain": [
       "Product Progress:   0%|          | 0/37 [00:00<?, ?it/s]"
      ]
     },
     "metadata": {},
     "output_type": "display_data"
    },
    {
     "data": {
      "application/vnd.jupyter.widget-view+json": {
       "model_id": "ee10692768f94d4a8b59bdeb8d35aa25",
       "version_major": 2,
       "version_minor": 0
      },
      "text/plain": [
       "Product Progress:   0%|          | 0/37 [00:00<?, ?it/s]"
      ]
     },
     "metadata": {},
     "output_type": "display_data"
    },
    {
     "data": {
      "application/vnd.jupyter.widget-view+json": {
       "model_id": "fc70af0719ca45219c7aa672106b3246",
       "version_major": 2,
       "version_minor": 0
      },
      "text/plain": [
       "Product Progress:   0%|          | 0/37 [00:00<?, ?it/s]"
      ]
     },
     "metadata": {},
     "output_type": "display_data"
    },
    {
     "data": {
      "application/vnd.jupyter.widget-view+json": {
       "model_id": "498787f62f344755b1bd4e86900412aa",
       "version_major": 2,
       "version_minor": 0
      },
      "text/plain": [
       "Page Progress:   0%|          | 0/4 [00:00<?, ?it/s]"
      ]
     },
     "metadata": {},
     "output_type": "display_data"
    },
    {
     "data": {
      "application/vnd.jupyter.widget-view+json": {
       "model_id": "7ac5869112924374879e461f64e66dbd",
       "version_major": 2,
       "version_minor": 0
      },
      "text/plain": [
       "Product Progress:   0%|          | 0/28 [00:00<?, ?it/s]"
      ]
     },
     "metadata": {},
     "output_type": "display_data"
    },
    {
     "data": {
      "application/vnd.jupyter.widget-view+json": {
       "model_id": "aa74121157734a53ba2d472526bc8033",
       "version_major": 2,
       "version_minor": 0
      },
      "text/plain": [
       "Product Progress:   0%|          | 0/28 [00:00<?, ?it/s]"
      ]
     },
     "metadata": {},
     "output_type": "display_data"
    },
    {
     "data": {
      "application/vnd.jupyter.widget-view+json": {
       "model_id": "1dd5d9bc9a9242f2a1c048c4c115416f",
       "version_major": 2,
       "version_minor": 0
      },
      "text/plain": [
       "Product Progress:   0%|          | 0/28 [00:00<?, ?it/s]"
      ]
     },
     "metadata": {},
     "output_type": "display_data"
    },
    {
     "data": {
      "application/vnd.jupyter.widget-view+json": {
       "model_id": "df37af7d83794074b351968501198b29",
       "version_major": 2,
       "version_minor": 0
      },
      "text/plain": [
       "Product Progress:   0%|          | 0/28 [00:00<?, ?it/s]"
      ]
     },
     "metadata": {},
     "output_type": "display_data"
    },
    {
     "data": {
      "application/vnd.jupyter.widget-view+json": {
       "model_id": "1684b1203f1d4a228d9de0ed4f73ec1f",
       "version_major": 2,
       "version_minor": 0
      },
      "text/plain": [
       "Page Progress:   0%|          | 0/4 [00:00<?, ?it/s]"
      ]
     },
     "metadata": {},
     "output_type": "display_data"
    },
    {
     "data": {
      "application/vnd.jupyter.widget-view+json": {
       "model_id": "98640bd76980450092d64a3caa4b04fb",
       "version_major": 2,
       "version_minor": 0
      },
      "text/plain": [
       "Product Progress:   0%|          | 0/32 [00:00<?, ?it/s]"
      ]
     },
     "metadata": {},
     "output_type": "display_data"
    },
    {
     "data": {
      "application/vnd.jupyter.widget-view+json": {
       "model_id": "dba2549256fc45f696c31c7634974f96",
       "version_major": 2,
       "version_minor": 0
      },
      "text/plain": [
       "Product Progress:   0%|          | 0/32 [00:00<?, ?it/s]"
      ]
     },
     "metadata": {},
     "output_type": "display_data"
    },
    {
     "data": {
      "application/vnd.jupyter.widget-view+json": {
       "model_id": "06f2c471b3d841acb4a96ad7d74d9600",
       "version_major": 2,
       "version_minor": 0
      },
      "text/plain": [
       "Product Progress:   0%|          | 0/32 [00:00<?, ?it/s]"
      ]
     },
     "metadata": {},
     "output_type": "display_data"
    },
    {
     "data": {
      "application/vnd.jupyter.widget-view+json": {
       "model_id": "65537291104146a49a96108bec362525",
       "version_major": 2,
       "version_minor": 0
      },
      "text/plain": [
       "Product Progress:   0%|          | 0/32 [00:00<?, ?it/s]"
      ]
     },
     "metadata": {},
     "output_type": "display_data"
    },
    {
     "data": {
      "application/vnd.jupyter.widget-view+json": {
       "model_id": "ad11ff4192cc4b49b389b10bdcd0ba09",
       "version_major": 2,
       "version_minor": 0
      },
      "text/plain": [
       "Page Progress:   0%|          | 0/4 [00:00<?, ?it/s]"
      ]
     },
     "metadata": {},
     "output_type": "display_data"
    },
    {
     "data": {
      "application/vnd.jupyter.widget-view+json": {
       "model_id": "92941a989fab4f33a7d9c7ed6c6e737a",
       "version_major": 2,
       "version_minor": 0
      },
      "text/plain": [
       "Product Progress:   0%|          | 0/28 [00:00<?, ?it/s]"
      ]
     },
     "metadata": {},
     "output_type": "display_data"
    },
    {
     "data": {
      "application/vnd.jupyter.widget-view+json": {
       "model_id": "f35a26b41ebf46369a1110f7a4935f6d",
       "version_major": 2,
       "version_minor": 0
      },
      "text/plain": [
       "Product Progress:   0%|          | 0/28 [00:00<?, ?it/s]"
      ]
     },
     "metadata": {},
     "output_type": "display_data"
    },
    {
     "data": {
      "application/vnd.jupyter.widget-view+json": {
       "model_id": "16bbf85bb215432aa2dc24eb7beeb28c",
       "version_major": 2,
       "version_minor": 0
      },
      "text/plain": [
       "Product Progress:   0%|          | 0/28 [00:00<?, ?it/s]"
      ]
     },
     "metadata": {},
     "output_type": "display_data"
    },
    {
     "data": {
      "application/vnd.jupyter.widget-view+json": {
       "model_id": "874794478e024a94b3cbea346c6a82e6",
       "version_major": 2,
       "version_minor": 0
      },
      "text/plain": [
       "Product Progress:   0%|          | 0/28 [00:00<?, ?it/s]"
      ]
     },
     "metadata": {},
     "output_type": "display_data"
    },
    {
     "data": {
      "application/vnd.jupyter.widget-view+json": {
       "model_id": "88bf8a148d1642b79a7a54fe0c1dbcdb",
       "version_major": 2,
       "version_minor": 0
      },
      "text/plain": [
       "Page Progress:   0%|          | 0/4 [00:00<?, ?it/s]"
      ]
     },
     "metadata": {},
     "output_type": "display_data"
    },
    {
     "data": {
      "application/vnd.jupyter.widget-view+json": {
       "model_id": "4fab8a06ce0444669423c8c85639e688",
       "version_major": 2,
       "version_minor": 0
      },
      "text/plain": [
       "Product Progress:   0%|          | 0/28 [00:00<?, ?it/s]"
      ]
     },
     "metadata": {},
     "output_type": "display_data"
    },
    {
     "data": {
      "application/vnd.jupyter.widget-view+json": {
       "model_id": "ce67dc77edce49c99eb1eca0b8d84061",
       "version_major": 2,
       "version_minor": 0
      },
      "text/plain": [
       "Product Progress:   0%|          | 0/28 [00:00<?, ?it/s]"
      ]
     },
     "metadata": {},
     "output_type": "display_data"
    },
    {
     "data": {
      "application/vnd.jupyter.widget-view+json": {
       "model_id": "0a72f9c4ceb44d7d94192adf3776fa46",
       "version_major": 2,
       "version_minor": 0
      },
      "text/plain": [
       "Product Progress:   0%|          | 0/28 [00:00<?, ?it/s]"
      ]
     },
     "metadata": {},
     "output_type": "display_data"
    },
    {
     "data": {
      "application/vnd.jupyter.widget-view+json": {
       "model_id": "103a0f1797cf4999be344708ca5351eb",
       "version_major": 2,
       "version_minor": 0
      },
      "text/plain": [
       "Product Progress:   0%|          | 0/28 [00:00<?, ?it/s]"
      ]
     },
     "metadata": {},
     "output_type": "display_data"
    },
    {
     "data": {
      "application/vnd.jupyter.widget-view+json": {
       "model_id": "210c459f9eda463ab29972e9148e640c",
       "version_major": 2,
       "version_minor": 0
      },
      "text/plain": [
       "Page Progress:   0%|          | 0/4 [00:00<?, ?it/s]"
      ]
     },
     "metadata": {},
     "output_type": "display_data"
    },
    {
     "data": {
      "application/vnd.jupyter.widget-view+json": {
       "model_id": "f472371bef134464b512d2fc859f9fcb",
       "version_major": 2,
       "version_minor": 0
      },
      "text/plain": [
       "Product Progress:   0%|          | 0/29 [00:00<?, ?it/s]"
      ]
     },
     "metadata": {},
     "output_type": "display_data"
    },
    {
     "data": {
      "application/vnd.jupyter.widget-view+json": {
       "model_id": "11b9edfe48ee4cc698309f92100fbfde",
       "version_major": 2,
       "version_minor": 0
      },
      "text/plain": [
       "Product Progress:   0%|          | 0/29 [00:00<?, ?it/s]"
      ]
     },
     "metadata": {},
     "output_type": "display_data"
    },
    {
     "data": {
      "application/vnd.jupyter.widget-view+json": {
       "model_id": "39c130751eda4856b2ffebc2f02244fd",
       "version_major": 2,
       "version_minor": 0
      },
      "text/plain": [
       "Product Progress:   0%|          | 0/29 [00:00<?, ?it/s]"
      ]
     },
     "metadata": {},
     "output_type": "display_data"
    },
    {
     "data": {
      "application/vnd.jupyter.widget-view+json": {
       "model_id": "79ab2120122a4804b1fce7ae7d9165c2",
       "version_major": 2,
       "version_minor": 0
      },
      "text/plain": [
       "Product Progress:   0%|          | 0/29 [00:00<?, ?it/s]"
      ]
     },
     "metadata": {},
     "output_type": "display_data"
    },
    {
     "data": {
      "application/vnd.jupyter.widget-view+json": {
       "model_id": "6fa39718e4194f0badcbc6aefafb65f7",
       "version_major": 2,
       "version_minor": 0
      },
      "text/plain": [
       "Page Progress:   0%|          | 0/4 [00:00<?, ?it/s]"
      ]
     },
     "metadata": {},
     "output_type": "display_data"
    },
    {
     "data": {
      "application/vnd.jupyter.widget-view+json": {
       "model_id": "e9002720df5447d1bb3f448c4ade2047",
       "version_major": 2,
       "version_minor": 0
      },
      "text/plain": [
       "Product Progress:   0%|          | 0/28 [00:00<?, ?it/s]"
      ]
     },
     "metadata": {},
     "output_type": "display_data"
    },
    {
     "data": {
      "application/vnd.jupyter.widget-view+json": {
       "model_id": "2b4303a4c5f040ca9cc3431fe4b058ee",
       "version_major": 2,
       "version_minor": 0
      },
      "text/plain": [
       "Product Progress:   0%|          | 0/28 [00:00<?, ?it/s]"
      ]
     },
     "metadata": {},
     "output_type": "display_data"
    },
    {
     "data": {
      "application/vnd.jupyter.widget-view+json": {
       "model_id": "b812eff63b7e4985ac33f45aa68ed0bd",
       "version_major": 2,
       "version_minor": 0
      },
      "text/plain": [
       "Product Progress:   0%|          | 0/28 [00:00<?, ?it/s]"
      ]
     },
     "metadata": {},
     "output_type": "display_data"
    },
    {
     "data": {
      "application/vnd.jupyter.widget-view+json": {
       "model_id": "47d88279b29a4d219b9d8a426aa0a194",
       "version_major": 2,
       "version_minor": 0
      },
      "text/plain": [
       "Product Progress:   0%|          | 0/28 [00:00<?, ?it/s]"
      ]
     },
     "metadata": {},
     "output_type": "display_data"
    }
   ],
   "source": [
    "# code for Results Page \n",
    "driver = webdriver.Chrome()\n",
    "wearables_dict = {}\n",
    "for value in tqdm(wearables_url_dict.values(), desc = 'Subcategory Progress'): \n",
    "    sub_url = value\n",
    "    driver.get(sub_url)\n",
    "    time.sleep(3)\n",
    "    page_source = driver.page_source\n",
    "    soup = BeautifulSoup(page_source, 'html.parser')\n",
    "    \n",
    "    div_tag = soup.find('div', class_='fst-h1-st')\n",
    "\n",
    "    # extract the title of the Sub-Sub-Category\n",
    "    if div_tag:\n",
    "        title = div_tag.find('h1').get_text()\n",
    "\n",
    "    # getting Pagination Link to obtain page where all results are accessible\n",
    "    pagination_link_element = soup.find('a', id = 'apb-desktop-browse-search-see-all')\n",
    "\n",
    "    if pagination_link_element:\n",
    "        result_url = amazon_base_url + pagination_link_element.get('href')\n",
    "    else:\n",
    "        continue\n",
    "\n",
    "    driver.get(result_url)\n",
    "    time.sleep(3)\n",
    "    page_source = driver.page_source\n",
    "    soup = BeautifulSoup(page_source, 'html.parser')\n",
    "    \n",
    "    # checking whether pagination button is available\n",
    "    if (soup.find('a', class_ = 's-pagination-button') is None):\n",
    "        product_containers = soup.find_all('div', class_='s-result-item')\n",
    "        for product_tag in product_containers:\n",
    "            try:\n",
    "                # extract relevant information based on the structure of the HTML\n",
    "                product_url = product_tag.find('a', class_='a-link-normal').get('href')\n",
    "                driver.get(amazon_base_url + product_url)\n",
    "                time.sleep(3)\n",
    "                page_source = driver.page_source\n",
    "                new_soup = BeautifulSoup(page_source, 'html.parser')\n",
    "                title_element, rating_element, total_rating_element, price_element, description_element_list, product_features, description_element = product_information(new_soup)\n",
    "\n",
    "                products.append(\n",
    "                    {'Name': title_element, 'Ratings': rating_element, 'Total Number of Ratings': total_rating_element,\n",
    "                    'Price': price_element, 'Information': description_element_list, 'Features': product_features,\n",
    "                    'Description': description_element})\n",
    "            except AttributeError as e:\n",
    "                continue\n",
    "    else:\n",
    "        pagination_link = soup.find('a', class_ = 's-pagination-button').get('href')\n",
    "        # code to extract all information about products from the first 5 pages (our threshold for this project)\n",
    "        products = []\n",
    "        for iter in tqdm(range(1, 5), desc=\"Page Progress\"):  \n",
    "            url = amazon_base_url + pagination_link[:-1] + str(iter)\n",
    "            driver.get(url)\n",
    "            time.sleep(3)\n",
    "            page_source = driver.page_source\n",
    "            soup = BeautifulSoup(page_source, 'html.parser')\n",
    "            product_containers = soup.find_all('div', class_='s-result-item')\n",
    "            for product_tag in tqdm(product_containers, desc=\"Product Progress\"):\n",
    "                try:\n",
    "                    # extract relevant information based on the structure of the HTML\n",
    "                    product_url = product_tag.find('a', class_='a-link-normal').get('href')\n",
    "                    link_response = requests.get(amazon_base_url + product_url)\n",
    "                    time.sleep(3)\n",
    "                    new_soup = BeautifulSoup(link_response.text, 'html.parser')\n",
    "                    title_element, rating_element, total_rating_element, price_element, description_element_list, product_features, description_element = product_information(new_soup)\n",
    "\n",
    "                    products.append(\n",
    "                        {'Name': title_element, 'Ratings': rating_element, 'Total Number of Ratings': total_rating_element,\n",
    "                         'Price': price_element, 'Information': description_element_list, 'Features': product_features,\n",
    "                         'Description': description_element, 'URL': amazon_base_url + product_url})\n",
    "                except AttributeError as e:\n",
    "                    continue\n",
    "                    \n",
    "    # add the results to the category_dict\n",
    "    wearables_dict[title] = products\n",
    "\n",
    "# quit the driver\n",
    "driver.quit()"
   ]
  },
  {
   "cell_type": "code",
   "execution_count": 11,
   "id": "6f53cdc9",
   "metadata": {},
   "outputs": [
    {
     "data": {
      "text/plain": [
       "True"
      ]
     },
     "execution_count": 11,
     "metadata": {},
     "output_type": "execute_result"
    }
   ],
   "source": [
    "# save information to json file\n",
    "write_to_json(wearables_dict, 'electronics_set/Wearable Technology.json')"
   ]
  },
  {
   "cell_type": "markdown",
   "id": "eafcee72",
   "metadata": {},
   "source": [
    "### Power Accessories"
   ]
  },
  {
   "cell_type": "code",
   "execution_count": 12,
   "id": "357b0ea3",
   "metadata": {},
   "outputs": [
    {
     "name": "stdout",
     "output_type": "stream",
     "text": [
      "Power Strips & Surge Protectors: https://www.amazon.sg/b/?_encoding=UTF8&node=6436093051&bbn=6314449051&ref_=Oct_d_odnav_d_6436068051_0&pd_rd_w=BUtye&content-id=amzn1.sym.80833b11-ffca-4e6a-8a04-ea9e915d944b&pf_rd_p=80833b11-ffca-4e6a-8a04-ea9e915d944b&pf_rd_r=MRDHSV2BPWNHVS5N7GBD&pd_rd_wg=LM9Pf&pd_rd_r=d8036b36-8ae6-45d4-9327-17bef4a0e6c9\n",
      "International Power Adapters: https://www.amazon.sg/b/?_encoding=UTF8&node=6436091051&bbn=6314449051&ref_=Oct_d_odnav_d_6436068051_1&pd_rd_w=BUtye&content-id=amzn1.sym.80833b11-ffca-4e6a-8a04-ea9e915d944b&pf_rd_p=80833b11-ffca-4e6a-8a04-ea9e915d944b&pf_rd_r=MRDHSV2BPWNHVS5N7GBD&pd_rd_wg=LM9Pf&pd_rd_r=d8036b36-8ae6-45d4-9327-17bef4a0e6c9\n",
      "AC Adapters: https://www.amazon.sg/b/?_encoding=UTF8&node=14692138051&bbn=6314449051&ref_=Oct_d_odnav_d_6436068051_2&pd_rd_w=BUtye&content-id=amzn1.sym.80833b11-ffca-4e6a-8a04-ea9e915d944b&pf_rd_p=80833b11-ffca-4e6a-8a04-ea9e915d944b&pf_rd_r=MRDHSV2BPWNHVS5N7GBD&pd_rd_wg=LM9Pf&pd_rd_r=d8036b36-8ae6-45d4-9327-17bef4a0e6c9\n"
     ]
    }
   ],
   "source": [
    "# code to get urls \n",
    "driver = webdriver.Chrome()\n",
    "temp_url = subcategory_url['Power Accessories']\n",
    "driver.get(temp_url)\n",
    "time.sleep(5)\n",
    "page_source = driver.page_source\n",
    "soup = BeautifulSoup(page_source, 'html.parser')\n",
    "power_url_dict = {}\n",
    "for sub_element in soup.find_all('a', class_ = \"a-link-normal octopus-pc-category-card-v2-category-link\"):\n",
    "    power_url_dict[sub_element['title']] = amazon_base_url + sub_element['href']\n",
    "    print(sub_element['title'] + \": \" + amazon_base_url + sub_element['href'])   \n",
    "    \n",
    "# quit the driver\n",
    "driver.quit()"
   ]
  },
  {
   "cell_type": "code",
   "execution_count": 13,
   "id": "1f9ec528",
   "metadata": {},
   "outputs": [
    {
     "data": {
      "application/vnd.jupyter.widget-view+json": {
       "model_id": "05b7f88066c542c4adaabfba17c07996",
       "version_major": 2,
       "version_minor": 0
      },
      "text/plain": [
       "Subcategory Progress:   0%|          | 0/3 [00:00<?, ?it/s]"
      ]
     },
     "metadata": {},
     "output_type": "display_data"
    },
    {
     "data": {
      "application/vnd.jupyter.widget-view+json": {
       "model_id": "8c3b3f075e434d999826bac7f540de11",
       "version_major": 2,
       "version_minor": 0
      },
      "text/plain": [
       "Page Progress:   0%|          | 0/4 [00:00<?, ?it/s]"
      ]
     },
     "metadata": {},
     "output_type": "display_data"
    },
    {
     "data": {
      "application/vnd.jupyter.widget-view+json": {
       "model_id": "e7c9c8ee73ae44139f4b58d071194100",
       "version_major": 2,
       "version_minor": 0
      },
      "text/plain": [
       "Product Progress:   0%|          | 0/37 [00:00<?, ?it/s]"
      ]
     },
     "metadata": {},
     "output_type": "display_data"
    },
    {
     "data": {
      "application/vnd.jupyter.widget-view+json": {
       "model_id": "a0b077388df748a5a8a77f4825853d43",
       "version_major": 2,
       "version_minor": 0
      },
      "text/plain": [
       "Product Progress:   0%|          | 0/37 [00:00<?, ?it/s]"
      ]
     },
     "metadata": {},
     "output_type": "display_data"
    },
    {
     "data": {
      "application/vnd.jupyter.widget-view+json": {
       "model_id": "e53378ac7b614e4a9a0661a9dc81bf99",
       "version_major": 2,
       "version_minor": 0
      },
      "text/plain": [
       "Product Progress:   0%|          | 0/37 [00:00<?, ?it/s]"
      ]
     },
     "metadata": {},
     "output_type": "display_data"
    },
    {
     "data": {
      "application/vnd.jupyter.widget-view+json": {
       "model_id": "3837a36020d747498eb00196c0f843bf",
       "version_major": 2,
       "version_minor": 0
      },
      "text/plain": [
       "Product Progress:   0%|          | 0/37 [00:00<?, ?it/s]"
      ]
     },
     "metadata": {},
     "output_type": "display_data"
    },
    {
     "data": {
      "application/vnd.jupyter.widget-view+json": {
       "model_id": "63c030761814453d822b8d84e1b88af2",
       "version_major": 2,
       "version_minor": 0
      },
      "text/plain": [
       "Page Progress:   0%|          | 0/4 [00:00<?, ?it/s]"
      ]
     },
     "metadata": {},
     "output_type": "display_data"
    },
    {
     "data": {
      "application/vnd.jupyter.widget-view+json": {
       "model_id": "7ee9fa5ed46a4cf59c07e04aab678fbf",
       "version_major": 2,
       "version_minor": 0
      },
      "text/plain": [
       "Product Progress:   0%|          | 0/37 [00:00<?, ?it/s]"
      ]
     },
     "metadata": {},
     "output_type": "display_data"
    },
    {
     "data": {
      "application/vnd.jupyter.widget-view+json": {
       "model_id": "235365e5743a49ed9864dc2fbd3c6813",
       "version_major": 2,
       "version_minor": 0
      },
      "text/plain": [
       "Product Progress:   0%|          | 0/37 [00:00<?, ?it/s]"
      ]
     },
     "metadata": {},
     "output_type": "display_data"
    },
    {
     "data": {
      "application/vnd.jupyter.widget-view+json": {
       "model_id": "d3bb6f8c30bc4972910d4746acb55598",
       "version_major": 2,
       "version_minor": 0
      },
      "text/plain": [
       "Product Progress:   0%|          | 0/37 [00:00<?, ?it/s]"
      ]
     },
     "metadata": {},
     "output_type": "display_data"
    },
    {
     "data": {
      "application/vnd.jupyter.widget-view+json": {
       "model_id": "0c0931199980426c8f6ab3dd17b964d5",
       "version_major": 2,
       "version_minor": 0
      },
      "text/plain": [
       "Product Progress:   0%|          | 0/37 [00:00<?, ?it/s]"
      ]
     },
     "metadata": {},
     "output_type": "display_data"
    },
    {
     "data": {
      "application/vnd.jupyter.widget-view+json": {
       "model_id": "6b54d85842a443cfbea552045f8dde5f",
       "version_major": 2,
       "version_minor": 0
      },
      "text/plain": [
       "Page Progress:   0%|          | 0/4 [00:00<?, ?it/s]"
      ]
     },
     "metadata": {},
     "output_type": "display_data"
    },
    {
     "data": {
      "application/vnd.jupyter.widget-view+json": {
       "model_id": "1d359e31303b4a8bb5200be722f1a3f4",
       "version_major": 2,
       "version_minor": 0
      },
      "text/plain": [
       "Product Progress:   0%|          | 0/28 [00:00<?, ?it/s]"
      ]
     },
     "metadata": {},
     "output_type": "display_data"
    },
    {
     "data": {
      "application/vnd.jupyter.widget-view+json": {
       "model_id": "8aafae664b884366b8eae0164c150800",
       "version_major": 2,
       "version_minor": 0
      },
      "text/plain": [
       "Product Progress:   0%|          | 0/28 [00:00<?, ?it/s]"
      ]
     },
     "metadata": {},
     "output_type": "display_data"
    },
    {
     "data": {
      "application/vnd.jupyter.widget-view+json": {
       "model_id": "78b3bf3b15834b728cfe9a695d8c3b5a",
       "version_major": 2,
       "version_minor": 0
      },
      "text/plain": [
       "Product Progress:   0%|          | 0/28 [00:00<?, ?it/s]"
      ]
     },
     "metadata": {},
     "output_type": "display_data"
    },
    {
     "data": {
      "application/vnd.jupyter.widget-view+json": {
       "model_id": "5edc1f8f13354186965fb3ca29494a59",
       "version_major": 2,
       "version_minor": 0
      },
      "text/plain": [
       "Product Progress:   0%|          | 0/28 [00:00<?, ?it/s]"
      ]
     },
     "metadata": {},
     "output_type": "display_data"
    }
   ],
   "source": [
    "# code for Results Page \n",
    "driver = webdriver.Chrome()\n",
    "power_dict = {}\n",
    "for value in tqdm(power_url_dict.values(), desc = 'Subcategory Progress'): \n",
    "    sub_url = value\n",
    "    driver.get(sub_url)\n",
    "    time.sleep(3)\n",
    "    page_source = driver.page_source\n",
    "    soup = BeautifulSoup(page_source, 'html.parser')\n",
    "    \n",
    "    div_tag = soup.find('div', class_='fst-h1-st')\n",
    "\n",
    "    # extract the title of the Sub-Sub-Category\n",
    "    if div_tag:\n",
    "        title = div_tag.find('h1').get_text()\n",
    "\n",
    "    # getting Pagination Link to obtain page where all results are accessible\n",
    "    pagination_link_element = soup.find('a', id = 'apb-desktop-browse-search-see-all')\n",
    "\n",
    "    if pagination_link_element:\n",
    "        result_url = amazon_base_url + pagination_link_element.get('href')\n",
    "    else:\n",
    "        continue\n",
    "\n",
    "    driver.get(result_url)\n",
    "    time.sleep(3)\n",
    "    page_source = driver.page_source\n",
    "    soup = BeautifulSoup(page_source, 'html.parser')\n",
    "    \n",
    "    # checking whether pagination button is available\n",
    "    if (soup.find('a', class_ = 's-pagination-button') is None):\n",
    "        product_containers = soup.find_all('div', class_='s-result-item')\n",
    "        for product_tag in product_containers:\n",
    "            try:\n",
    "                # extract relevant information based on the structure of the HTML\n",
    "                product_url = product_tag.find('a', class_='a-link-normal').get('href')\n",
    "                driver.get(amazon_base_url + product_url)\n",
    "                time.sleep(3)\n",
    "                page_source = driver.page_source\n",
    "                new_soup = BeautifulSoup(page_source, 'html.parser')\n",
    "                title_element, rating_element, total_rating_element, price_element, description_element_list, product_features, description_element = product_information(new_soup)\n",
    "\n",
    "                products.append(\n",
    "                    {'Name': title_element, 'Ratings': rating_element, 'Total Number of Ratings': total_rating_element,\n",
    "                    'Price': price_element, 'Information': description_element_list, 'Features': product_features,\n",
    "                    'Description': description_element})\n",
    "            except AttributeError as e:\n",
    "                continue\n",
    "    else:\n",
    "        pagination_link = soup.find('a', class_ = 's-pagination-button').get('href')\n",
    "        # code to extract all information about products from the first 5 pages (our threshold for this project)\n",
    "        products = []\n",
    "        for iter in tqdm(range(1, 5), desc=\"Page Progress\"):  \n",
    "            url = amazon_base_url + pagination_link[:-1] + str(iter)\n",
    "            driver.get(url)\n",
    "            time.sleep(3)\n",
    "            page_source = driver.page_source\n",
    "            soup = BeautifulSoup(page_source, 'html.parser')\n",
    "            product_containers = soup.find_all('div', class_='s-result-item')\n",
    "            for product_tag in tqdm(product_containers, desc=\"Product Progress\"):\n",
    "                try:\n",
    "                    # extract relevant information based on the structure of the HTML\n",
    "                    product_url = product_tag.find('a', class_='a-link-normal').get('href')\n",
    "                    link_response = requests.get(amazon_base_url + product_url)\n",
    "                    time.sleep(3)\n",
    "                    new_soup = BeautifulSoup(link_response.text, 'html.parser')\n",
    "                    title_element, rating_element, total_rating_element, price_element, description_element_list, product_features, description_element = product_information(new_soup)\n",
    "\n",
    "                    products.append(\n",
    "                        {'Name': title_element, 'Ratings': rating_element, 'Total Number of Ratings': total_rating_element,\n",
    "                         'Price': price_element, 'Information': description_element_list, 'Features': product_features,\n",
    "                         'Description': description_element, 'URL': amazon_base_url + product_url})\n",
    "                except AttributeError as e:\n",
    "                    continue\n",
    "                    \n",
    "    # add the results to the category_dict\n",
    "    power_dict[title] = products\n",
    "\n",
    "# quit the driver\n",
    "driver.quit()"
   ]
  },
  {
   "cell_type": "code",
   "execution_count": 14,
   "id": "c6617bf7",
   "metadata": {},
   "outputs": [
    {
     "data": {
      "text/plain": [
       "True"
      ]
     },
     "execution_count": 14,
     "metadata": {},
     "output_type": "execute_result"
    }
   ],
   "source": [
    "# save information to json file\n",
    "write_to_json(power_dict, 'electronics_set/Power Accessories.json')"
   ]
  },
  {
   "cell_type": "code",
   "execution_count": null,
   "id": "e31246d3",
   "metadata": {},
   "outputs": [],
   "source": []
  }
 ],
 "metadata": {
  "kernelspec": {
   "display_name": "Python 3 (ipykernel)",
   "language": "python",
   "name": "python3"
  },
  "language_info": {
   "codemirror_mode": {
    "name": "ipython",
    "version": 3
   },
   "file_extension": ".py",
   "mimetype": "text/x-python",
   "name": "python",
   "nbconvert_exporter": "python",
   "pygments_lexer": "ipython3",
   "version": "3.11.5"
  }
 },
 "nbformat": 4,
 "nbformat_minor": 5
}
