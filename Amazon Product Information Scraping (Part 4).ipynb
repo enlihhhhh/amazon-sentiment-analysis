{
 "cells": [
  {
   "cell_type": "code",
   "execution_count": 1,
   "id": "ea673673",
   "metadata": {},
   "outputs": [],
   "source": [
    "import pandas as pd\n",
    "import numpy as np\n",
    "import pickle\n",
    "import json\n",
    "import re\n",
    "import requests\n",
    "from bs4 import BeautifulSoup\n",
    "from tqdm.notebook import tqdm\n",
    "from selenium import webdriver\n",
    "from selenium.webdriver.common.keys import Keys\n",
    "import time\n",
    "from tqdm.notebook import tqdm\n",
    "\n",
    "# Creating PrettyPrinter Instance\n",
    "import pprint\n",
    "pp = pprint.PrettyPrinter(indent=2)"
   ]
  },
  {
   "cell_type": "markdown",
   "id": "38d67745",
   "metadata": {},
   "source": [
    "## Helper Functions"
   ]
  },
  {
   "cell_type": "code",
   "execution_count": 2,
   "id": "9233015a",
   "metadata": {},
   "outputs": [],
   "source": [
    "# Function to write data to a JSON file\n",
    "def write_to_json(data, filename):\n",
    "    \"\"\"\n",
    "    Write data to a JSON file.\n",
    "\n",
    "    Args:\n",
    "        data: The data (dictionary, list, etc.) to be written to the JSON file.\n",
    "        filename (str): The name of the JSON file to write.\n",
    "\n",
    "    Returns:\n",
    "        bool: True if the data was successfully written to the file, False otherwise.\n",
    "    \"\"\"\n",
    "    try:\n",
    "        with open(filename, 'w') as json_file:\n",
    "            json.dump(data, json_file, indent=4)\n",
    "        return True\n",
    "    except Exception as e:\n",
    "        print(f\"Error writing to JSON file: {e}\")\n",
    "        return False\n",
    "\n",
    "# Function to load data from a JSON file\n",
    "def load_from_json(filename):\n",
    "    \"\"\"\n",
    "    Load data from a JSON file.\n",
    "\n",
    "    Args:\n",
    "        filename (str): The name of the JSON file to read data from.\n",
    "\n",
    "    Returns:\n",
    "        dict or list: The loaded data from the JSON file, or an empty dictionary/list if the file doesn't exist.\n",
    "    \"\"\"\n",
    "    try:\n",
    "        with open(filename, 'r') as json_file:\n",
    "            data = json.load(json_file)\n",
    "        return data\n",
    "    except FileNotFoundError:\n",
    "        print(f\"JSON file '{filename}' not found. Returning an empty dictionary.\")\n",
    "        return {}\n",
    "    except Exception as e:\n",
    "        print(f\"Error loading data from JSON file: {e}\")\n",
    "        return {}"
   ]
  },
  {
   "cell_type": "code",
   "execution_count": 3,
   "id": "a5a4dd17",
   "metadata": {},
   "outputs": [],
   "source": [
    "# Function to load a pickle file and extract titles\n",
    "def load_pickle(file_path):\n",
    "    \"\"\"\n",
    "    Load data from a pickle file.\n",
    "\n",
    "    :param file_path: The path to the output pickle file.\n",
    "    \"\"\"\n",
    "    with open(file_path, 'rb') as file:\n",
    "        data = pickle.load(file)\n",
    "        \n",
    "    return data\n",
    "\n",
    "def write_pickle(data, file_path):\n",
    "    \"\"\"\n",
    "    Write data to a pickle file.\n",
    "\n",
    "    :param data: The data to be written to the file.\n",
    "    :param file_path: The path to the output pickle file.\n",
    "    \"\"\"\n",
    "    try:\n",
    "        with open(file_path, 'wb') as file:\n",
    "            pickle.dump(data, file)\n",
    "        #print(f'Data has been written to {file_path}')\n",
    "    except Exception as e:\n",
    "        print(f'Error writing to {file_path}: {e}')"
   ]
  },
  {
   "cell_type": "code",
   "execution_count": 4,
   "id": "46b25039",
   "metadata": {},
   "outputs": [],
   "source": [
    "# Function to extract raw data from Amazon Website\n",
    "def product_information(soup):\n",
    "    title_element = None\n",
    "    rating_element = None\n",
    "    total_rating_element = None\n",
    "    price_element = None\n",
    "    description_element_list = []\n",
    "    product_features = []\n",
    "    description_element = None\n",
    "\n",
    "    try:\n",
    "        title_element = soup.find('span', id='productTitle').text.strip()\n",
    "    except AttributeError:\n",
    "        title_element = 'NaN'\n",
    "\n",
    "    try:\n",
    "        rating_element = soup.find('span', id='acrPopover').get('title')\n",
    "    except AttributeError:\n",
    "        rating_element = 'NaN'\n",
    "\n",
    "    try:\n",
    "        total_rating_element = soup.find('span', id=\"acrCustomerReviewText\").text\n",
    "    except AttributeError:\n",
    "        total_rating_element = 'NaN'\n",
    "\n",
    "    try:\n",
    "        price_element = soup.find('span', class_=\"aok-offscreen\").text.strip()\n",
    "    except AttributeError:\n",
    "        price_element = 'NaN'\n",
    "\n",
    "    try:\n",
    "        description_element = soup.find('table', class_=\"a-normal a-spacing-micro\").find_all('tr')\n",
    "        for i in description_element:\n",
    "            description_element_list.append(i.find('td', class_='a-span3').text.strip() + ': ' + i.find('td', class_='a-span9').text.strip())\n",
    "    except AttributeError:\n",
    "        description_element_list = 'NaN'\n",
    "\n",
    "    try:\n",
    "        product_feat = soup.find_all('li', class_=\"a-spacing-mini\")\n",
    "        for i in product_feat:\n",
    "            product_features.append(i.text.strip())\n",
    "    except AttributeError:\n",
    "        product_features = 'NaN'\n",
    "\n",
    "    try:\n",
    "        description_element = soup.find('div', id='productDescription').text.strip()\n",
    "    except AttributeError:\n",
    "        description_element = 'NaN'\n",
    "\n",
    "    return title_element, rating_element, total_rating_element, price_element, description_element_list, product_features, description_element\n"
   ]
  },
  {
   "cell_type": "code",
   "execution_count": 5,
   "id": "5ead1750",
   "metadata": {},
   "outputs": [],
   "source": [
    "# Function to extract reviews from Amazon Website\n",
    "def review_information(soup):\n",
    "    review_elements = soup.select(\"div.review\")\n",
    "    if not review_elements:\n",
    "        print('No Reviews Available')\n",
    "    else:\n",
    "        scraped_reviews = []\n",
    "        for review in review_elements:\n",
    "            r_author_element = review.select_one(\"span.a-profile-name\")\n",
    "            r_author = r_author_element.text if r_author_element else None\n",
    "            r_rating_element = review.select_one(\"i.review-rating\")\n",
    "            r_rating = r_rating_element.text.replace(\"out of 5 stars\", \"\") if r_rating_element else None\n",
    "            r_title_element = review.select_one(\"a.review-title\")\n",
    "            r_title_span_element = r_title_element.select_one(\"span:not([class])\") if r_title_element else None\n",
    "            r_title = r_title_span_element.text if r_title_span_element else None\n",
    "            r_content_element = review.select_one(\"span.review-text\")\n",
    "            r_content = r_content_element.text if r_content_element else None\n",
    "            r_date_element = review.select_one(\"span.review-date\")\n",
    "            r_date = r_date_element.text if r_date_element else None\n",
    "            r_verified_element = review.select_one(\"span.a-size-mini\")\n",
    "            r_verified = r_verified_element.text if r_verified_element else None\n",
    "            print(r_author,r_rating,r_title,r_content,r_date,r_verified)\n",
    "            print('\\n')"
   ]
  },
  {
   "cell_type": "markdown",
   "id": "8024efdd",
   "metadata": {},
   "source": [
    "## Scraping Information from Electronics Categories"
   ]
  },
  {
   "cell_type": "code",
   "execution_count": 6,
   "id": "18e8d6b6",
   "metadata": {},
   "outputs": [],
   "source": [
    "# electronics url \n",
    "driver = webdriver.Chrome()\n",
    "url = 'https://www.amazon.sg/Buy-Electronics-Online/b/?ie=UTF8&node=6314449051&ref_=nav_cs_electronics'\n",
    "amazon_base_url = 'https://www.amazon.sg'\n",
    "driver.get(url)\n",
    "time.sleep(5)\n",
    "page_source = driver.page_source\n",
    "soup = BeautifulSoup(page_source, 'html.parser')\n",
    "\n",
    "driver.quit()"
   ]
  },
  {
   "cell_type": "code",
   "execution_count": 7,
   "id": "0ad839bf",
   "metadata": {
    "scrolled": false
   },
   "outputs": [
    {
     "name": "stdout",
     "output_type": "stream",
     "text": [
      "Computers, Components & Accessories: https://www.amazon.sg/b/?_encoding=UTF8&node=6436071051&bbn=6314449051&ref_=Oct_d_odnav_d_6314449051_0&pd_rd_w=pDZTl&content-id=amzn1.sym.80833b11-ffca-4e6a-8a04-ea9e915d944b&pf_rd_p=80833b11-ffca-4e6a-8a04-ea9e915d944b&pf_rd_r=0WFVHNENB9S53JM05B8D&pd_rd_wg=LvsoF&pd_rd_r=a2dad0a9-d016-45dc-918a-5c0578fa0125\n",
      "Mobile Phones & Communication: https://www.amazon.sg/b/?_encoding=UTF8&node=6436074051&bbn=6314449051&ref_=Oct_d_odnav_d_6314449051_1&pd_rd_w=pDZTl&content-id=amzn1.sym.80833b11-ffca-4e6a-8a04-ea9e915d944b&pf_rd_p=80833b11-ffca-4e6a-8a04-ea9e915d944b&pf_rd_r=0WFVHNENB9S53JM05B8D&pd_rd_wg=LvsoF&pd_rd_r=a2dad0a9-d016-45dc-918a-5c0578fa0125\n",
      "Home Cinema, TV & Video: https://www.amazon.sg/b/?_encoding=UTF8&node=6436073051&bbn=6314449051&ref_=Oct_d_odnav_d_6314449051_2&pd_rd_w=pDZTl&content-id=amzn1.sym.80833b11-ffca-4e6a-8a04-ea9e915d944b&pf_rd_p=80833b11-ffca-4e6a-8a04-ea9e915d944b&pf_rd_r=0WFVHNENB9S53JM05B8D&pd_rd_wg=LvsoF&pd_rd_r=a2dad0a9-d016-45dc-918a-5c0578fa0125\n",
      "Headphones, Earbuds & Accessories: https://www.amazon.sg/b/?_encoding=UTF8&node=6436081051&bbn=6314449051&ref_=Oct_d_odnav_d_6314449051_3&pd_rd_w=pDZTl&content-id=amzn1.sym.80833b11-ffca-4e6a-8a04-ea9e915d944b&pf_rd_p=80833b11-ffca-4e6a-8a04-ea9e915d944b&pf_rd_r=0WFVHNENB9S53JM05B8D&pd_rd_wg=LvsoF&pd_rd_r=a2dad0a9-d016-45dc-918a-5c0578fa0125\n",
      "Car & Vehicle Electronics: https://www.amazon.sg/b/?_encoding=UTF8&node=6436070051&bbn=6314449051&ref_=Oct_d_odnav_d_6314449051_4&pd_rd_w=pDZTl&content-id=amzn1.sym.80833b11-ffca-4e6a-8a04-ea9e915d944b&pf_rd_p=80833b11-ffca-4e6a-8a04-ea9e915d944b&pf_rd_r=0WFVHNENB9S53JM05B8D&pd_rd_wg=LvsoF&pd_rd_r=a2dad0a9-d016-45dc-918a-5c0578fa0125\n",
      "Tablets: https://www.amazon.sg/b/?_encoding=UTF8&node=6436120051&bbn=6314449051&ref_=Oct_d_odnav_d_6314449051_5&pd_rd_w=pDZTl&content-id=amzn1.sym.80833b11-ffca-4e6a-8a04-ea9e915d944b&pf_rd_p=80833b11-ffca-4e6a-8a04-ea9e915d944b&pf_rd_r=0WFVHNENB9S53JM05B8D&pd_rd_wg=LvsoF&pd_rd_r=a2dad0a9-d016-45dc-918a-5c0578fa0125\n",
      "Hi-Fi & Home Audio: https://www.amazon.sg/b/?_encoding=UTF8&node=6436072051&bbn=6314449051&ref_=Oct_d_odnav_d_6314449051_6&pd_rd_w=pDZTl&content-id=amzn1.sym.80833b11-ffca-4e6a-8a04-ea9e915d944b&pf_rd_p=80833b11-ffca-4e6a-8a04-ea9e915d944b&pf_rd_r=0WFVHNENB9S53JM05B8D&pd_rd_wg=LvsoF&pd_rd_r=a2dad0a9-d016-45dc-918a-5c0578fa0125\n",
      "Camera & Photo: https://www.amazon.sg/b/?_encoding=UTF8&node=6436069051&bbn=6314449051&ref_=Oct_d_odnav_d_6314449051_7&pd_rd_w=pDZTl&content-id=amzn1.sym.80833b11-ffca-4e6a-8a04-ea9e915d944b&pf_rd_p=80833b11-ffca-4e6a-8a04-ea9e915d944b&pf_rd_r=0WFVHNENB9S53JM05B8D&pd_rd_wg=LvsoF&pd_rd_r=a2dad0a9-d016-45dc-918a-5c0578fa0125\n",
      "Wearable Technology: https://www.amazon.sg/b/?_encoding=UTF8&node=6436080051&bbn=6314449051&ref_=Oct_d_odnav_d_6314449051_8&pd_rd_w=pDZTl&content-id=amzn1.sym.80833b11-ffca-4e6a-8a04-ea9e915d944b&pf_rd_p=80833b11-ffca-4e6a-8a04-ea9e915d944b&pf_rd_r=0WFVHNENB9S53JM05B8D&pd_rd_wg=LvsoF&pd_rd_r=a2dad0a9-d016-45dc-918a-5c0578fa0125\n",
      "Portable Sound & Vision: https://www.amazon.sg/b/?_encoding=UTF8&node=6436075051&bbn=6314449051&ref_=Oct_d_odnav_d_6314449051_9&pd_rd_w=pDZTl&content-id=amzn1.sym.80833b11-ffca-4e6a-8a04-ea9e915d944b&pf_rd_p=80833b11-ffca-4e6a-8a04-ea9e915d944b&pf_rd_r=0WFVHNENB9S53JM05B8D&pd_rd_wg=LvsoF&pd_rd_r=a2dad0a9-d016-45dc-918a-5c0578fa0125\n",
      "Sat Nav, GPS, Navigation & Accessories: https://www.amazon.sg/b/?_encoding=UTF8&node=6436077051&bbn=6314449051&ref_=Oct_d_odnav_d_6314449051_10&pd_rd_w=pDZTl&content-id=amzn1.sym.80833b11-ffca-4e6a-8a04-ea9e915d944b&pf_rd_p=80833b11-ffca-4e6a-8a04-ea9e915d944b&pf_rd_r=0WFVHNENB9S53JM05B8D&pd_rd_wg=LvsoF&pd_rd_r=a2dad0a9-d016-45dc-918a-5c0578fa0125\n",
      "Household Batteries & Chargers: https://www.amazon.sg/b/?_encoding=UTF8&node=6436067051&bbn=6314449051&ref_=Oct_d_odnav_d_6314449051_11&pd_rd_w=pDZTl&content-id=amzn1.sym.80833b11-ffca-4e6a-8a04-ea9e915d944b&pf_rd_p=80833b11-ffca-4e6a-8a04-ea9e915d944b&pf_rd_r=0WFVHNENB9S53JM05B8D&pd_rd_wg=LvsoF&pd_rd_r=a2dad0a9-d016-45dc-918a-5c0578fa0125\n",
      "Power Accessories: https://www.amazon.sg/b/?_encoding=UTF8&node=6436068051&bbn=6314449051&ref_=Oct_d_odnav_d_6314449051_12&pd_rd_w=pDZTl&content-id=amzn1.sym.80833b11-ffca-4e6a-8a04-ea9e915d944b&pf_rd_p=80833b11-ffca-4e6a-8a04-ea9e915d944b&pf_rd_r=0WFVHNENB9S53JM05B8D&pd_rd_wg=LvsoF&pd_rd_r=a2dad0a9-d016-45dc-918a-5c0578fa0125\n",
      "Telephones, VoIP & Accessories: https://www.amazon.sg/b/?_encoding=UTF8&node=6436078051&bbn=6314449051&ref_=Oct_d_odnav_d_6314449051_13&pd_rd_w=pDZTl&content-id=amzn1.sym.80833b11-ffca-4e6a-8a04-ea9e915d944b&pf_rd_p=80833b11-ffca-4e6a-8a04-ea9e915d944b&pf_rd_r=0WFVHNENB9S53JM05B8D&pd_rd_wg=LvsoF&pd_rd_r=a2dad0a9-d016-45dc-918a-5c0578fa0125\n",
      "Radio Communication: https://www.amazon.sg/b/?_encoding=UTF8&node=6436076051&bbn=6314449051&ref_=Oct_d_odnav_d_6314449051_14&pd_rd_w=pDZTl&content-id=amzn1.sym.80833b11-ffca-4e6a-8a04-ea9e915d944b&pf_rd_p=80833b11-ffca-4e6a-8a04-ea9e915d944b&pf_rd_r=0WFVHNENB9S53JM05B8D&pd_rd_wg=LvsoF&pd_rd_r=a2dad0a9-d016-45dc-918a-5c0578fa0125\n"
     ]
    }
   ],
   "source": [
    "# getting the links to all subcategories\n",
    "subcategory_url = {}\n",
    "subcategory_container = soup.find_all('a', class_ = \"a-link-normal octopus-pc-category-card-v2-category-link\")\n",
    "for element in subcategory_container:\n",
    "    subcategory_url[element['title']] = amazon_base_url + element['href']\n",
    "    print(element['title'] + \": \" + amazon_base_url + element['href'])"
   ]
  },
  {
   "cell_type": "markdown",
   "id": "c93a8c8b",
   "metadata": {},
   "source": [
    "## Extract Subcategories Information"
   ]
  },
  {
   "cell_type": "markdown",
   "id": "52ebd062",
   "metadata": {},
   "source": [
    "### Sat Nav, GPS, Navigation & Accessories"
   ]
  },
  {
   "cell_type": "code",
   "execution_count": 8,
   "id": "b8f45e71",
   "metadata": {},
   "outputs": [
    {
     "name": "stdout",
     "output_type": "stream",
     "text": [
      "Accessories: https://www.amazon.sg/b/?_encoding=UTF8&node=6436161051&bbn=6314449051&ref_=Oct_d_odnav_d_6436077051_0&pd_rd_w=rsTJu&content-id=amzn1.sym.80833b11-ffca-4e6a-8a04-ea9e915d944b&pf_rd_p=80833b11-ffca-4e6a-8a04-ea9e915d944b&pf_rd_r=57V6CECS1VHQS12XW00C&pd_rd_wg=Vs38U&pd_rd_r=6bba3cb2-c8ff-45c3-a3e4-8af932e2925e\n",
      "Item Finders: https://www.amazon.sg/b/?_encoding=UTF8&node=6436166051&bbn=6314449051&ref_=Oct_d_odnav_d_6436077051_1&pd_rd_w=rsTJu&content-id=amzn1.sym.80833b11-ffca-4e6a-8a04-ea9e915d944b&pf_rd_p=80833b11-ffca-4e6a-8a04-ea9e915d944b&pf_rd_r=57V6CECS1VHQS12XW00C&pd_rd_wg=Vs38U&pd_rd_r=6bba3cb2-c8ff-45c3-a3e4-8af932e2925e\n",
      "Sports GPS Units: https://www.amazon.sg/b/?_encoding=UTF8&node=6382378051&bbn=6314449051&ref_=Oct_d_odnav_d_6436077051_2&pd_rd_w=rsTJu&content-id=amzn1.sym.80833b11-ffca-4e6a-8a04-ea9e915d944b&pf_rd_p=80833b11-ffca-4e6a-8a04-ea9e915d944b&pf_rd_r=57V6CECS1VHQS12XW00C&pd_rd_wg=Vs38U&pd_rd_r=6bba3cb2-c8ff-45c3-a3e4-8af932e2925e\n",
      "Sat Navs: https://www.amazon.sg/b/?_encoding=UTF8&node=6436164051&bbn=6314449051&ref_=Oct_d_odnav_d_6436077051_3&pd_rd_w=rsTJu&content-id=amzn1.sym.80833b11-ffca-4e6a-8a04-ea9e915d944b&pf_rd_p=80833b11-ffca-4e6a-8a04-ea9e915d944b&pf_rd_r=57V6CECS1VHQS12XW00C&pd_rd_wg=Vs38U&pd_rd_r=6bba3cb2-c8ff-45c3-a3e4-8af932e2925e\n",
      "GPS Trackers: https://www.amazon.sg/b/?_encoding=UTF8&node=6436162051&bbn=6314449051&ref_=Oct_d_odnav_d_6436077051_4&pd_rd_w=rsTJu&content-id=amzn1.sym.80833b11-ffca-4e6a-8a04-ea9e915d944b&pf_rd_p=80833b11-ffca-4e6a-8a04-ea9e915d944b&pf_rd_r=57V6CECS1VHQS12XW00C&pd_rd_wg=Vs38U&pd_rd_r=6bba3cb2-c8ff-45c3-a3e4-8af932e2925e\n",
      "Marine GPS: https://www.amazon.sg/b/?_encoding=UTF8&node=6436163051&bbn=6314449051&ref_=Oct_d_odnav_d_6436077051_5&pd_rd_w=rsTJu&content-id=amzn1.sym.80833b11-ffca-4e6a-8a04-ea9e915d944b&pf_rd_p=80833b11-ffca-4e6a-8a04-ea9e915d944b&pf_rd_r=57V6CECS1VHQS12XW00C&pd_rd_wg=Vs38U&pd_rd_r=6bba3cb2-c8ff-45c3-a3e4-8af932e2925e\n",
      "Motorcycle GPS: https://www.amazon.sg/b/?_encoding=UTF8&node=14692139051&bbn=6314449051&ref_=Oct_d_odnav_d_6436077051_6&pd_rd_w=rsTJu&content-id=amzn1.sym.80833b11-ffca-4e6a-8a04-ea9e915d944b&pf_rd_p=80833b11-ffca-4e6a-8a04-ea9e915d944b&pf_rd_r=57V6CECS1VHQS12XW00C&pd_rd_wg=Vs38U&pd_rd_r=6bba3cb2-c8ff-45c3-a3e4-8af932e2925e\n",
      "Truck GPS: https://www.amazon.sg/b/?_encoding=UTF8&node=6436165051&bbn=6314449051&ref_=Oct_d_odnav_d_6436077051_7&pd_rd_w=rsTJu&content-id=amzn1.sym.80833b11-ffca-4e6a-8a04-ea9e915d944b&pf_rd_p=80833b11-ffca-4e6a-8a04-ea9e915d944b&pf_rd_r=57V6CECS1VHQS12XW00C&pd_rd_wg=Vs38U&pd_rd_r=6bba3cb2-c8ff-45c3-a3e4-8af932e2925e\n"
     ]
    }
   ],
   "source": [
    "# code to get urls \n",
    "driver = webdriver.Chrome()\n",
    "temp_url = subcategory_url['Sat Nav, GPS, Navigation & Accessories']\n",
    "driver.get(temp_url)\n",
    "time.sleep(5)\n",
    "page_source = driver.page_source\n",
    "soup = BeautifulSoup(page_source, 'html.parser')\n",
    "nav_url_dict = {}\n",
    "for sub_element in soup.find_all('a', class_ = \"a-link-normal octopus-pc-category-card-v2-category-link\"):\n",
    "    nav_url_dict[sub_element['title']] = amazon_base_url + sub_element['href']\n",
    "    print(sub_element['title'] + \": \" + amazon_base_url + sub_element['href'])   \n",
    "    \n",
    "# quit the driver\n",
    "driver.quit()"
   ]
  },
  {
   "cell_type": "code",
   "execution_count": 9,
   "id": "346cfe28",
   "metadata": {},
   "outputs": [
    {
     "data": {
      "application/vnd.jupyter.widget-view+json": {
       "model_id": "7691e70a9fb641fc9730e2bc93a55c07",
       "version_major": 2,
       "version_minor": 0
      },
      "text/plain": [
       "Subcategory Progress:   0%|          | 0/8 [00:00<?, ?it/s]"
      ]
     },
     "metadata": {},
     "output_type": "display_data"
    },
    {
     "data": {
      "application/vnd.jupyter.widget-view+json": {
       "model_id": "8c7518619c5e4442bca9ec64729e46ba",
       "version_major": 2,
       "version_minor": 0
      },
      "text/plain": [
       "Page Progress:   0%|          | 0/4 [00:00<?, ?it/s]"
      ]
     },
     "metadata": {},
     "output_type": "display_data"
    },
    {
     "data": {
      "application/vnd.jupyter.widget-view+json": {
       "model_id": "492a68f667ee49b396a5aa92dee94279",
       "version_major": 2,
       "version_minor": 0
      },
      "text/plain": [
       "Product Progress:   0%|          | 0/28 [00:00<?, ?it/s]"
      ]
     },
     "metadata": {},
     "output_type": "display_data"
    },
    {
     "data": {
      "application/vnd.jupyter.widget-view+json": {
       "model_id": "ee6f97578f4c4e638be9182cb20ddc7c",
       "version_major": 2,
       "version_minor": 0
      },
      "text/plain": [
       "Product Progress:   0%|          | 0/28 [00:00<?, ?it/s]"
      ]
     },
     "metadata": {},
     "output_type": "display_data"
    },
    {
     "data": {
      "application/vnd.jupyter.widget-view+json": {
       "model_id": "6f12b3e231db48fa8aa6d262fc9b7ca4",
       "version_major": 2,
       "version_minor": 0
      },
      "text/plain": [
       "Product Progress:   0%|          | 0/28 [00:00<?, ?it/s]"
      ]
     },
     "metadata": {},
     "output_type": "display_data"
    },
    {
     "data": {
      "application/vnd.jupyter.widget-view+json": {
       "model_id": "3420ae51eace4084919bc02c552058aa",
       "version_major": 2,
       "version_minor": 0
      },
      "text/plain": [
       "Product Progress:   0%|          | 0/28 [00:00<?, ?it/s]"
      ]
     },
     "metadata": {},
     "output_type": "display_data"
    },
    {
     "data": {
      "application/vnd.jupyter.widget-view+json": {
       "model_id": "735345824cc44cdb9838fabe5d2e0bfe",
       "version_major": 2,
       "version_minor": 0
      },
      "text/plain": [
       "Page Progress:   0%|          | 0/4 [00:00<?, ?it/s]"
      ]
     },
     "metadata": {},
     "output_type": "display_data"
    },
    {
     "data": {
      "application/vnd.jupyter.widget-view+json": {
       "model_id": "f116176d0f584710bd099ae899501b4e",
       "version_major": 2,
       "version_minor": 0
      },
      "text/plain": [
       "Product Progress:   0%|          | 0/30 [00:00<?, ?it/s]"
      ]
     },
     "metadata": {},
     "output_type": "display_data"
    },
    {
     "data": {
      "application/vnd.jupyter.widget-view+json": {
       "model_id": "2e6a5d286e0e480fb5e623e1281d169b",
       "version_major": 2,
       "version_minor": 0
      },
      "text/plain": [
       "Product Progress:   0%|          | 0/30 [00:00<?, ?it/s]"
      ]
     },
     "metadata": {},
     "output_type": "display_data"
    },
    {
     "data": {
      "application/vnd.jupyter.widget-view+json": {
       "model_id": "fee7d623dfb94eff9702d4d23198a6b7",
       "version_major": 2,
       "version_minor": 0
      },
      "text/plain": [
       "Product Progress:   0%|          | 0/30 [00:00<?, ?it/s]"
      ]
     },
     "metadata": {},
     "output_type": "display_data"
    },
    {
     "data": {
      "application/vnd.jupyter.widget-view+json": {
       "model_id": "45ac7bcf6cdd4477adf8a0f057a3e0d5",
       "version_major": 2,
       "version_minor": 0
      },
      "text/plain": [
       "Product Progress:   0%|          | 0/30 [00:00<?, ?it/s]"
      ]
     },
     "metadata": {},
     "output_type": "display_data"
    },
    {
     "data": {
      "application/vnd.jupyter.widget-view+json": {
       "model_id": "04954bcdf70c4b32af91c09b027027c5",
       "version_major": 2,
       "version_minor": 0
      },
      "text/plain": [
       "Page Progress:   0%|          | 0/4 [00:00<?, ?it/s]"
      ]
     },
     "metadata": {},
     "output_type": "display_data"
    },
    {
     "data": {
      "application/vnd.jupyter.widget-view+json": {
       "model_id": "18e2a7108fd946d5b72c49ff345e6f9f",
       "version_major": 2,
       "version_minor": 0
      },
      "text/plain": [
       "Product Progress:   0%|          | 0/28 [00:00<?, ?it/s]"
      ]
     },
     "metadata": {},
     "output_type": "display_data"
    },
    {
     "data": {
      "application/vnd.jupyter.widget-view+json": {
       "model_id": "a9127e75d94d402eab838644a32db000",
       "version_major": 2,
       "version_minor": 0
      },
      "text/plain": [
       "Product Progress:   0%|          | 0/28 [00:00<?, ?it/s]"
      ]
     },
     "metadata": {},
     "output_type": "display_data"
    },
    {
     "data": {
      "application/vnd.jupyter.widget-view+json": {
       "model_id": "4a6305f192944cc89fbd9512e2bcfb7c",
       "version_major": 2,
       "version_minor": 0
      },
      "text/plain": [
       "Product Progress:   0%|          | 0/28 [00:00<?, ?it/s]"
      ]
     },
     "metadata": {},
     "output_type": "display_data"
    },
    {
     "data": {
      "application/vnd.jupyter.widget-view+json": {
       "model_id": "150f533f83b84d14bdbd3b1bbe07ca4b",
       "version_major": 2,
       "version_minor": 0
      },
      "text/plain": [
       "Product Progress:   0%|          | 0/28 [00:00<?, ?it/s]"
      ]
     },
     "metadata": {},
     "output_type": "display_data"
    },
    {
     "data": {
      "application/vnd.jupyter.widget-view+json": {
       "model_id": "af2bc8a4a3884a0da4dd916ee00caed2",
       "version_major": 2,
       "version_minor": 0
      },
      "text/plain": [
       "Page Progress:   0%|          | 0/4 [00:00<?, ?it/s]"
      ]
     },
     "metadata": {},
     "output_type": "display_data"
    },
    {
     "data": {
      "application/vnd.jupyter.widget-view+json": {
       "model_id": "6adba43494284d23a899de7edc469e78",
       "version_major": 2,
       "version_minor": 0
      },
      "text/plain": [
       "Product Progress:   0%|          | 0/28 [00:00<?, ?it/s]"
      ]
     },
     "metadata": {},
     "output_type": "display_data"
    },
    {
     "data": {
      "application/vnd.jupyter.widget-view+json": {
       "model_id": "40d90db20c3e4ea58273c840c5e0750e",
       "version_major": 2,
       "version_minor": 0
      },
      "text/plain": [
       "Product Progress:   0%|          | 0/28 [00:00<?, ?it/s]"
      ]
     },
     "metadata": {},
     "output_type": "display_data"
    },
    {
     "data": {
      "application/vnd.jupyter.widget-view+json": {
       "model_id": "922873e3de234aa289f49d2cb1355433",
       "version_major": 2,
       "version_minor": 0
      },
      "text/plain": [
       "Product Progress:   0%|          | 0/28 [00:00<?, ?it/s]"
      ]
     },
     "metadata": {},
     "output_type": "display_data"
    },
    {
     "data": {
      "application/vnd.jupyter.widget-view+json": {
       "model_id": "75075e7cc44d4372b05a009de606fc47",
       "version_major": 2,
       "version_minor": 0
      },
      "text/plain": [
       "Product Progress:   0%|          | 0/28 [00:00<?, ?it/s]"
      ]
     },
     "metadata": {},
     "output_type": "display_data"
    },
    {
     "data": {
      "application/vnd.jupyter.widget-view+json": {
       "model_id": "ad68f00af51c41b7ade3e5cdd394263c",
       "version_major": 2,
       "version_minor": 0
      },
      "text/plain": [
       "Page Progress:   0%|          | 0/4 [00:00<?, ?it/s]"
      ]
     },
     "metadata": {},
     "output_type": "display_data"
    },
    {
     "data": {
      "application/vnd.jupyter.widget-view+json": {
       "model_id": "8096482904784f43b34347c21f6193ff",
       "version_major": 2,
       "version_minor": 0
      },
      "text/plain": [
       "Product Progress:   0%|          | 0/34 [00:00<?, ?it/s]"
      ]
     },
     "metadata": {},
     "output_type": "display_data"
    },
    {
     "data": {
      "application/vnd.jupyter.widget-view+json": {
       "model_id": "c077e8fa86164c81a3b2d231d8bd6bd0",
       "version_major": 2,
       "version_minor": 0
      },
      "text/plain": [
       "Product Progress:   0%|          | 0/34 [00:00<?, ?it/s]"
      ]
     },
     "metadata": {},
     "output_type": "display_data"
    },
    {
     "data": {
      "application/vnd.jupyter.widget-view+json": {
       "model_id": "2b1825edb43c403a806ba0d1878de69a",
       "version_major": 2,
       "version_minor": 0
      },
      "text/plain": [
       "Product Progress:   0%|          | 0/34 [00:00<?, ?it/s]"
      ]
     },
     "metadata": {},
     "output_type": "display_data"
    },
    {
     "data": {
      "application/vnd.jupyter.widget-view+json": {
       "model_id": "7d01179c277b41769e55165b03b021c1",
       "version_major": 2,
       "version_minor": 0
      },
      "text/plain": [
       "Product Progress:   0%|          | 0/34 [00:00<?, ?it/s]"
      ]
     },
     "metadata": {},
     "output_type": "display_data"
    },
    {
     "data": {
      "application/vnd.jupyter.widget-view+json": {
       "model_id": "8f508afeeff14f27a2493774efee021c",
       "version_major": 2,
       "version_minor": 0
      },
      "text/plain": [
       "Page Progress:   0%|          | 0/4 [00:00<?, ?it/s]"
      ]
     },
     "metadata": {},
     "output_type": "display_data"
    },
    {
     "data": {
      "application/vnd.jupyter.widget-view+json": {
       "model_id": "43991459366d4798ad4e22bb64e06edd",
       "version_major": 2,
       "version_minor": 0
      },
      "text/plain": [
       "Product Progress:   0%|          | 0/28 [00:00<?, ?it/s]"
      ]
     },
     "metadata": {},
     "output_type": "display_data"
    },
    {
     "data": {
      "application/vnd.jupyter.widget-view+json": {
       "model_id": "4c6cab06e7b74f9680677cf30a7a2d93",
       "version_major": 2,
       "version_minor": 0
      },
      "text/plain": [
       "Product Progress:   0%|          | 0/28 [00:00<?, ?it/s]"
      ]
     },
     "metadata": {},
     "output_type": "display_data"
    },
    {
     "data": {
      "application/vnd.jupyter.widget-view+json": {
       "model_id": "32ed503811df4dfeaa621343185cc035",
       "version_major": 2,
       "version_minor": 0
      },
      "text/plain": [
       "Product Progress:   0%|          | 0/28 [00:00<?, ?it/s]"
      ]
     },
     "metadata": {},
     "output_type": "display_data"
    },
    {
     "data": {
      "application/vnd.jupyter.widget-view+json": {
       "model_id": "0fdc98f9402b44c788d9c12ce3d0f35b",
       "version_major": 2,
       "version_minor": 0
      },
      "text/plain": [
       "Product Progress:   0%|          | 0/28 [00:00<?, ?it/s]"
      ]
     },
     "metadata": {},
     "output_type": "display_data"
    }
   ],
   "source": [
    "# code for Results Page \n",
    "driver = webdriver.Chrome()\n",
    "nav_dict = {}\n",
    "for value in tqdm(nav_url_dict.values(), desc = 'Subcategory Progress'): \n",
    "    sub_url = value\n",
    "    driver.get(sub_url)\n",
    "    time.sleep(3)\n",
    "    page_source = driver.page_source\n",
    "    soup = BeautifulSoup(page_source, 'html.parser')\n",
    "    \n",
    "    div_tag = soup.find('div', class_='fst-h1-st')\n",
    "\n",
    "    # extract the title of the Sub-Sub-Category\n",
    "    if div_tag:\n",
    "        title = div_tag.find('h1').get_text()\n",
    "\n",
    "    # getting Pagination Link to obtain page where all results are accessible\n",
    "    pagination_link_element = soup.find('a', id = 'apb-desktop-browse-search-see-all')\n",
    "\n",
    "    if pagination_link_element:\n",
    "        result_url = amazon_base_url + pagination_link_element.get('href')\n",
    "    else:\n",
    "        continue\n",
    "\n",
    "    driver.get(result_url)\n",
    "    time.sleep(3)\n",
    "    page_source = driver.page_source\n",
    "    soup = BeautifulSoup(page_source, 'html.parser')\n",
    "    \n",
    "    # checking whether pagination button is available\n",
    "    if (soup.find('a', class_ = 's-pagination-button') is None):\n",
    "        product_containers = soup.find_all('div', class_='s-result-item')\n",
    "        for product_tag in product_containers:\n",
    "            try:\n",
    "                # extract relevant information based on the structure of the HTML\n",
    "                product_url = product_tag.find('a', class_='a-link-normal').get('href')\n",
    "                driver.get(amazon_base_url + product_url)\n",
    "                time.sleep(3)\n",
    "                page_source = driver.page_source\n",
    "                new_soup = BeautifulSoup(page_source, 'html.parser')\n",
    "                title_element, rating_element, total_rating_element, price_element, description_element_list, product_features, description_element = product_information(new_soup)\n",
    "\n",
    "                products.append(\n",
    "                    {'Name': title_element, 'Ratings': rating_element, 'Total Number of Ratings': total_rating_element,\n",
    "                    'Price': price_element, 'Information': description_element_list, 'Features': product_features,\n",
    "                    'Description': description_element})\n",
    "            except AttributeError as e:\n",
    "                continue\n",
    "    else:\n",
    "        pagination_link = soup.find('a', class_ = 's-pagination-button').get('href')\n",
    "        # code to extract all information about products from the first 5 pages (our threshold for this project)\n",
    "        products = []\n",
    "        for iter in tqdm(range(1, 5), desc=\"Page Progress\"):  \n",
    "            url = amazon_base_url + pagination_link[:-1] + str(iter)\n",
    "            driver.get(url)\n",
    "            time.sleep(3)\n",
    "            page_source = driver.page_source\n",
    "            soup = BeautifulSoup(page_source, 'html.parser')\n",
    "            product_containers = soup.find_all('div', class_='s-result-item')\n",
    "            for product_tag in tqdm(product_containers, desc=\"Product Progress\"):\n",
    "                try:\n",
    "                    # extract relevant information based on the structure of the HTML\n",
    "                    product_url = product_tag.find('a', class_='a-link-normal').get('href')\n",
    "                    link_response = requests.get(amazon_base_url + product_url)\n",
    "                    time.sleep(3)\n",
    "                    new_soup = BeautifulSoup(link_response.text, 'html.parser')\n",
    "                    title_element, rating_element, total_rating_element, price_element, description_element_list, product_features, description_element = product_information(new_soup)\n",
    "\n",
    "                    products.append(\n",
    "                        {'Name': title_element, 'Ratings': rating_element, 'Total Number of Ratings': total_rating_element,\n",
    "                         'Price': price_element, 'Information': description_element_list, 'Features': product_features,\n",
    "                         'Description': description_element, 'URL': amazon_base_url + product_url})\n",
    "                except AttributeError as e:\n",
    "                    continue\n",
    "                    \n",
    "    # add the results to the category_dict\n",
    "    nav_dict[title] = products\n",
    "\n",
    "# quit the driver\n",
    "driver.quit()"
   ]
  },
  {
   "cell_type": "code",
   "execution_count": 10,
   "id": "83015c76",
   "metadata": {},
   "outputs": [
    {
     "data": {
      "text/plain": [
       "True"
      ]
     },
     "execution_count": 10,
     "metadata": {},
     "output_type": "execute_result"
    }
   ],
   "source": [
    "# save information to json file\n",
    "write_to_json(nav_dict, 'electronics_set/Sat Nav, GPS, Navigation & Accessories.json')"
   ]
  },
  {
   "cell_type": "markdown",
   "id": "8d38699e",
   "metadata": {},
   "source": [
    "### Telephones, VoIP & Accessories"
   ]
  },
  {
   "cell_type": "code",
   "execution_count": 12,
   "id": "9de2b877",
   "metadata": {},
   "outputs": [
    {
     "name": "stdout",
     "output_type": "stream",
     "text": [
      "VoIP & Skype Phones: https://www.amazon.sg/b/?_encoding=UTF8&node=6436170051&bbn=6314449051&ref_=Oct_d_odnav_d_6436078051_0&pd_rd_w=n38Rm&content-id=amzn1.sym.80833b11-ffca-4e6a-8a04-ea9e915d944b&pf_rd_p=80833b11-ffca-4e6a-8a04-ea9e915d944b&pf_rd_r=70Z43YN0J3T47ZMYZCMH&pd_rd_wg=MIajj&pd_rd_r=1e1212a9-696b-4352-a34c-e187c110333e\n",
      "Analogue & DECT Phones: https://www.amazon.sg/b/?_encoding=UTF8&node=6436168051&bbn=6314449051&ref_=Oct_d_odnav_d_6436078051_1&pd_rd_w=n38Rm&content-id=amzn1.sym.80833b11-ffca-4e6a-8a04-ea9e915d944b&pf_rd_p=80833b11-ffca-4e6a-8a04-ea9e915d944b&pf_rd_r=70Z43YN0J3T47ZMYZCMH&pd_rd_wg=MIajj&pd_rd_r=1e1212a9-696b-4352-a34c-e187c110333e\n",
      "Accessories: https://www.amazon.sg/b/?_encoding=UTF8&node=6436167051&bbn=6314449051&ref_=Oct_d_odnav_d_6436078051_2&pd_rd_w=n38Rm&content-id=amzn1.sym.80833b11-ffca-4e6a-8a04-ea9e915d944b&pf_rd_p=80833b11-ffca-4e6a-8a04-ea9e915d944b&pf_rd_r=70Z43YN0J3T47ZMYZCMH&pd_rd_wg=MIajj&pd_rd_r=1e1212a9-696b-4352-a34c-e187c110333e\n",
      "Pagers: https://www.amazon.sg/b/?_encoding=UTF8&node=10578067051&bbn=6314449051&ref_=Oct_d_odnav_d_6436078051_3&pd_rd_w=n38Rm&content-id=amzn1.sym.80833b11-ffca-4e6a-8a04-ea9e915d944b&pf_rd_p=80833b11-ffca-4e6a-8a04-ea9e915d944b&pf_rd_r=70Z43YN0J3T47ZMYZCMH&pd_rd_wg=MIajj&pd_rd_r=1e1212a9-696b-4352-a34c-e187c110333e\n",
      "Big Button & Amplified Phones: https://www.amazon.sg/b/?_encoding=UTF8&node=14692147051&bbn=6314449051&ref_=Oct_d_odnav_d_6436078051_4&pd_rd_w=n38Rm&content-id=amzn1.sym.80833b11-ffca-4e6a-8a04-ea9e915d944b&pf_rd_p=80833b11-ffca-4e6a-8a04-ea9e915d944b&pf_rd_r=70Z43YN0J3T47ZMYZCMH&pd_rd_wg=MIajj&pd_rd_r=1e1212a9-696b-4352-a34c-e187c110333e\n"
     ]
    }
   ],
   "source": [
    "# code to get urls \n",
    "driver = webdriver.Chrome()\n",
    "temp_url = subcategory_url['Telephones, VoIP & Accessories']\n",
    "driver.get(temp_url)\n",
    "time.sleep(5)\n",
    "page_source = driver.page_source\n",
    "soup = BeautifulSoup(page_source, 'html.parser')\n",
    "telephones_url_dict = {}\n",
    "for sub_element in soup.find_all('a', class_ = \"a-link-normal octopus-pc-category-card-v2-category-link\"):\n",
    "    telephones_url_dict[sub_element['title']] = amazon_base_url + sub_element['href']\n",
    "    print(sub_element['title'] + \": \" + amazon_base_url + sub_element['href'])   \n",
    "    \n",
    "# quit the driver\n",
    "driver.quit()"
   ]
  },
  {
   "cell_type": "code",
   "execution_count": 13,
   "id": "200c51b9",
   "metadata": {},
   "outputs": [
    {
     "data": {
      "application/vnd.jupyter.widget-view+json": {
       "model_id": "29b686971e0742f880e004f870c81e65",
       "version_major": 2,
       "version_minor": 0
      },
      "text/plain": [
       "Subcategory Progress:   0%|          | 0/5 [00:00<?, ?it/s]"
      ]
     },
     "metadata": {},
     "output_type": "display_data"
    },
    {
     "data": {
      "application/vnd.jupyter.widget-view+json": {
       "model_id": "f7ae78c519e54500960d15a6aeb8c01a",
       "version_major": 2,
       "version_minor": 0
      },
      "text/plain": [
       "Page Progress:   0%|          | 0/4 [00:00<?, ?it/s]"
      ]
     },
     "metadata": {},
     "output_type": "display_data"
    },
    {
     "data": {
      "application/vnd.jupyter.widget-view+json": {
       "model_id": "4221ee685f0b42439e342103d5859287",
       "version_major": 2,
       "version_minor": 0
      },
      "text/plain": [
       "Product Progress:   0%|          | 0/28 [00:00<?, ?it/s]"
      ]
     },
     "metadata": {},
     "output_type": "display_data"
    },
    {
     "data": {
      "application/vnd.jupyter.widget-view+json": {
       "model_id": "d2b2c83aa5294f5eb156b235a1cacfa1",
       "version_major": 2,
       "version_minor": 0
      },
      "text/plain": [
       "Product Progress:   0%|          | 0/28 [00:00<?, ?it/s]"
      ]
     },
     "metadata": {},
     "output_type": "display_data"
    },
    {
     "data": {
      "application/vnd.jupyter.widget-view+json": {
       "model_id": "596ee159e2714cc4a218c94626c37369",
       "version_major": 2,
       "version_minor": 0
      },
      "text/plain": [
       "Product Progress:   0%|          | 0/28 [00:00<?, ?it/s]"
      ]
     },
     "metadata": {},
     "output_type": "display_data"
    },
    {
     "data": {
      "application/vnd.jupyter.widget-view+json": {
       "model_id": "97894ffadbb042bfadb4640fc7774114",
       "version_major": 2,
       "version_minor": 0
      },
      "text/plain": [
       "Product Progress:   0%|          | 0/28 [00:00<?, ?it/s]"
      ]
     },
     "metadata": {},
     "output_type": "display_data"
    },
    {
     "data": {
      "application/vnd.jupyter.widget-view+json": {
       "model_id": "77d2f763bac24d05af844173a850d293",
       "version_major": 2,
       "version_minor": 0
      },
      "text/plain": [
       "Page Progress:   0%|          | 0/4 [00:00<?, ?it/s]"
      ]
     },
     "metadata": {},
     "output_type": "display_data"
    },
    {
     "data": {
      "application/vnd.jupyter.widget-view+json": {
       "model_id": "bfe2ebb3018c4df5b1ff70bfc7b98c59",
       "version_major": 2,
       "version_minor": 0
      },
      "text/plain": [
       "Product Progress:   0%|          | 0/28 [00:00<?, ?it/s]"
      ]
     },
     "metadata": {},
     "output_type": "display_data"
    },
    {
     "data": {
      "application/vnd.jupyter.widget-view+json": {
       "model_id": "1a15f4cb1d9f4c828da75dbd4a97d77f",
       "version_major": 2,
       "version_minor": 0
      },
      "text/plain": [
       "Product Progress:   0%|          | 0/28 [00:00<?, ?it/s]"
      ]
     },
     "metadata": {},
     "output_type": "display_data"
    },
    {
     "data": {
      "application/vnd.jupyter.widget-view+json": {
       "model_id": "637499a1f2194fd396997ad19e504564",
       "version_major": 2,
       "version_minor": 0
      },
      "text/plain": [
       "Product Progress:   0%|          | 0/28 [00:00<?, ?it/s]"
      ]
     },
     "metadata": {},
     "output_type": "display_data"
    },
    {
     "data": {
      "application/vnd.jupyter.widget-view+json": {
       "model_id": "4718686943ef4113b3b59f016695400e",
       "version_major": 2,
       "version_minor": 0
      },
      "text/plain": [
       "Product Progress:   0%|          | 0/28 [00:00<?, ?it/s]"
      ]
     },
     "metadata": {},
     "output_type": "display_data"
    },
    {
     "data": {
      "application/vnd.jupyter.widget-view+json": {
       "model_id": "6a57b01d94f949538849199be2a36af6",
       "version_major": 2,
       "version_minor": 0
      },
      "text/plain": [
       "Page Progress:   0%|          | 0/4 [00:00<?, ?it/s]"
      ]
     },
     "metadata": {},
     "output_type": "display_data"
    },
    {
     "data": {
      "application/vnd.jupyter.widget-view+json": {
       "model_id": "bb94b34af4a34a009c27d776a0e9ed09",
       "version_major": 2,
       "version_minor": 0
      },
      "text/plain": [
       "Product Progress:   0%|          | 0/28 [00:00<?, ?it/s]"
      ]
     },
     "metadata": {},
     "output_type": "display_data"
    },
    {
     "data": {
      "application/vnd.jupyter.widget-view+json": {
       "model_id": "23af236e3c2142e693b3964a422beeca",
       "version_major": 2,
       "version_minor": 0
      },
      "text/plain": [
       "Product Progress:   0%|          | 0/28 [00:00<?, ?it/s]"
      ]
     },
     "metadata": {},
     "output_type": "display_data"
    },
    {
     "data": {
      "application/vnd.jupyter.widget-view+json": {
       "model_id": "f0154bd412b94d0fa42fcd0fcfac66d6",
       "version_major": 2,
       "version_minor": 0
      },
      "text/plain": [
       "Product Progress:   0%|          | 0/28 [00:00<?, ?it/s]"
      ]
     },
     "metadata": {},
     "output_type": "display_data"
    },
    {
     "data": {
      "application/vnd.jupyter.widget-view+json": {
       "model_id": "aadcdfe42ce34ddeace0f4875f2ce9d9",
       "version_major": 2,
       "version_minor": 0
      },
      "text/plain": [
       "Product Progress:   0%|          | 0/28 [00:00<?, ?it/s]"
      ]
     },
     "metadata": {},
     "output_type": "display_data"
    },
    {
     "data": {
      "application/vnd.jupyter.widget-view+json": {
       "model_id": "9a03fac429424c19b8ac553d48243991",
       "version_major": 2,
       "version_minor": 0
      },
      "text/plain": [
       "Page Progress:   0%|          | 0/4 [00:00<?, ?it/s]"
      ]
     },
     "metadata": {},
     "output_type": "display_data"
    },
    {
     "data": {
      "application/vnd.jupyter.widget-view+json": {
       "model_id": "570d03556e004b8bbf1595c3dc8b74a9",
       "version_major": 2,
       "version_minor": 0
      },
      "text/plain": [
       "Product Progress:   0%|          | 0/6 [00:00<?, ?it/s]"
      ]
     },
     "metadata": {},
     "output_type": "display_data"
    },
    {
     "data": {
      "application/vnd.jupyter.widget-view+json": {
       "model_id": "bfba11e1a4c849b0b4011c3c747a9080",
       "version_major": 2,
       "version_minor": 0
      },
      "text/plain": [
       "Product Progress:   0%|          | 0/6 [00:00<?, ?it/s]"
      ]
     },
     "metadata": {},
     "output_type": "display_data"
    },
    {
     "data": {
      "application/vnd.jupyter.widget-view+json": {
       "model_id": "a73aff361ff141b2bc6aacadad27ae16",
       "version_major": 2,
       "version_minor": 0
      },
      "text/plain": [
       "Product Progress:   0%|          | 0/6 [00:00<?, ?it/s]"
      ]
     },
     "metadata": {},
     "output_type": "display_data"
    },
    {
     "data": {
      "application/vnd.jupyter.widget-view+json": {
       "model_id": "9c9768d1d3db4a15b45089f5ea7119a8",
       "version_major": 2,
       "version_minor": 0
      },
      "text/plain": [
       "Product Progress:   0%|          | 0/6 [00:00<?, ?it/s]"
      ]
     },
     "metadata": {},
     "output_type": "display_data"
    }
   ],
   "source": [
    "# code for Results Page \n",
    "driver = webdriver.Chrome()\n",
    "telephones_dict = {}\n",
    "for value in tqdm(telephones_url_dict.values(), desc = 'Subcategory Progress'): \n",
    "    sub_url = value\n",
    "    driver.get(sub_url)\n",
    "    time.sleep(3)\n",
    "    page_source = driver.page_source\n",
    "    soup = BeautifulSoup(page_source, 'html.parser')\n",
    "    \n",
    "    div_tag = soup.find('div', class_='fst-h1-st')\n",
    "\n",
    "    # extract the title of the Sub-Sub-Category\n",
    "    if div_tag:\n",
    "        title = div_tag.find('h1').get_text()\n",
    "\n",
    "    # getting Pagination Link to obtain page where all results are accessible\n",
    "    pagination_link_element = soup.find('a', id = 'apb-desktop-browse-search-see-all')\n",
    "\n",
    "    if pagination_link_element:\n",
    "        result_url = amazon_base_url + pagination_link_element.get('href')\n",
    "    else:\n",
    "        continue\n",
    "\n",
    "    driver.get(result_url)\n",
    "    time.sleep(3)\n",
    "    page_source = driver.page_source\n",
    "    soup = BeautifulSoup(page_source, 'html.parser')\n",
    "    \n",
    "    # checking whether pagination button is available\n",
    "    if (soup.find('a', class_ = 's-pagination-button') is None):\n",
    "        product_containers = soup.find_all('div', class_='s-result-item')\n",
    "        for product_tag in product_containers:\n",
    "            try:\n",
    "                # extract relevant information based on the structure of the HTML\n",
    "                product_url = product_tag.find('a', class_='a-link-normal').get('href')\n",
    "                driver.get(amazon_base_url + product_url)\n",
    "                time.sleep(3)\n",
    "                page_source = driver.page_source\n",
    "                new_soup = BeautifulSoup(page_source, 'html.parser')\n",
    "                title_element, rating_element, total_rating_element, price_element, description_element_list, product_features, description_element = product_information(new_soup)\n",
    "\n",
    "                products.append(\n",
    "                    {'Name': title_element, 'Ratings': rating_element, 'Total Number of Ratings': total_rating_element,\n",
    "                    'Price': price_element, 'Information': description_element_list, 'Features': product_features,\n",
    "                    'Description': description_element})\n",
    "            except AttributeError as e:\n",
    "                continue\n",
    "    else:\n",
    "        pagination_link = soup.find('a', class_ = 's-pagination-button').get('href')\n",
    "        # code to extract all information about products from the first 5 pages (our threshold for this project)\n",
    "        products = []\n",
    "        for iter in tqdm(range(1, 5), desc=\"Page Progress\"):  \n",
    "            url = amazon_base_url + pagination_link[:-1] + str(iter)\n",
    "            driver.get(url)\n",
    "            time.sleep(3)\n",
    "            page_source = driver.page_source\n",
    "            soup = BeautifulSoup(page_source, 'html.parser')\n",
    "            product_containers = soup.find_all('div', class_='s-result-item')\n",
    "            for product_tag in tqdm(product_containers, desc=\"Product Progress\"):\n",
    "                try:\n",
    "                    # extract relevant information based on the structure of the HTML\n",
    "                    product_url = product_tag.find('a', class_='a-link-normal').get('href')\n",
    "                    link_response = requests.get(amazon_base_url + product_url)\n",
    "                    time.sleep(3)\n",
    "                    new_soup = BeautifulSoup(link_response.text, 'html.parser')\n",
    "                    title_element, rating_element, total_rating_element, price_element, description_element_list, product_features, description_element = product_information(new_soup)\n",
    "\n",
    "                    products.append(\n",
    "                        {'Name': title_element, 'Ratings': rating_element, 'Total Number of Ratings': total_rating_element,\n",
    "                         'Price': price_element, 'Information': description_element_list, 'Features': product_features,\n",
    "                         'Description': description_element, 'URL': amazon_base_url + product_url})\n",
    "                except AttributeError as e:\n",
    "                    continue\n",
    "                    \n",
    "    # add the results to the category_dict\n",
    "    telephones_dict[title] = products\n",
    "\n",
    "# quit the driver\n",
    "driver.quit()"
   ]
  },
  {
   "cell_type": "code",
   "execution_count": 14,
   "id": "618fb62f",
   "metadata": {},
   "outputs": [
    {
     "data": {
      "text/plain": [
       "True"
      ]
     },
     "execution_count": 14,
     "metadata": {},
     "output_type": "execute_result"
    }
   ],
   "source": [
    "# save information to json file\n",
    "write_to_json(telephones_dict, 'electronics_set/Telephones, VoIP & Accessories.json')"
   ]
  },
  {
   "cell_type": "markdown",
   "id": "9641c1dc",
   "metadata": {},
   "source": [
    "### Radio Communication"
   ]
  },
  {
   "cell_type": "code",
   "execution_count": 15,
   "id": "6bc04222",
   "metadata": {},
   "outputs": [
    {
     "name": "stdout",
     "output_type": "stream",
     "text": [
      "Marine Radios: https://www.amazon.sg/b/?_encoding=UTF8&node=6436158051&bbn=6314449051&ref_=Oct_d_odnav_d_6436076051_0&pd_rd_w=2q0qX&content-id=amzn1.sym.80833b11-ffca-4e6a-8a04-ea9e915d944b&pf_rd_p=80833b11-ffca-4e6a-8a04-ea9e915d944b&pf_rd_r=NCDTJT8MZFYZ0XCHHFRP&pd_rd_wg=bPlvF&pd_rd_r=1a141c02-2e03-47ea-8aea-346d711a28f4\n",
      "Accessories: https://www.amazon.sg/b/?_encoding=UTF8&node=6436157051&bbn=6314449051&ref_=Oct_d_odnav_d_6436076051_1&pd_rd_w=2q0qX&content-id=amzn1.sym.80833b11-ffca-4e6a-8a04-ea9e915d944b&pf_rd_p=80833b11-ffca-4e6a-8a04-ea9e915d944b&pf_rd_r=NCDTJT8MZFYZ0XCHHFRP&pd_rd_wg=bPlvF&pd_rd_r=1a141c02-2e03-47ea-8aea-346d711a28f4\n",
      "Two-way Radios: https://www.amazon.sg/b/?_encoding=UTF8&node=6436160051&bbn=6314449051&ref_=Oct_d_odnav_d_6436076051_2&pd_rd_w=2q0qX&content-id=amzn1.sym.80833b11-ffca-4e6a-8a04-ea9e915d944b&pf_rd_p=80833b11-ffca-4e6a-8a04-ea9e915d944b&pf_rd_r=NCDTJT8MZFYZ0XCHHFRP&pd_rd_wg=bPlvF&pd_rd_r=1a141c02-2e03-47ea-8aea-346d711a28f4\n",
      "Scanners: https://www.amazon.sg/b/?_encoding=UTF8&node=6436159051&bbn=6314449051&ref_=Oct_d_odnav_d_6436076051_3&pd_rd_w=2q0qX&content-id=amzn1.sym.80833b11-ffca-4e6a-8a04-ea9e915d944b&pf_rd_p=80833b11-ffca-4e6a-8a04-ea9e915d944b&pf_rd_r=NCDTJT8MZFYZ0XCHHFRP&pd_rd_wg=bPlvF&pd_rd_r=1a141c02-2e03-47ea-8aea-346d711a28f4\n",
      "Repeaters: https://www.amazon.sg/b/?_encoding=UTF8&node=14692144051&bbn=6314449051&ref_=Oct_d_odnav_d_6436076051_4&pd_rd_w=2q0qX&content-id=amzn1.sym.80833b11-ffca-4e6a-8a04-ea9e915d944b&pf_rd_p=80833b11-ffca-4e6a-8a04-ea9e915d944b&pf_rd_r=NCDTJT8MZFYZ0XCHHFRP&pd_rd_wg=bPlvF&pd_rd_r=1a141c02-2e03-47ea-8aea-346d711a28f4\n"
     ]
    }
   ],
   "source": [
    "# code to get urls \n",
    "driver = webdriver.Chrome()\n",
    "temp_url = subcategory_url['Radio Communication']\n",
    "driver.get(temp_url)\n",
    "time.sleep(5)\n",
    "page_source = driver.page_source\n",
    "soup = BeautifulSoup(page_source, 'html.parser')\n",
    "radio_url_dict = {}\n",
    "for sub_element in soup.find_all('a', class_ = \"a-link-normal octopus-pc-category-card-v2-category-link\"):\n",
    "    radio_url_dict[sub_element['title']] = amazon_base_url + sub_element['href']\n",
    "    print(sub_element['title'] + \": \" + amazon_base_url + sub_element['href'])   \n",
    "    \n",
    "# quit the driver\n",
    "driver.quit()"
   ]
  },
  {
   "cell_type": "code",
   "execution_count": 16,
   "id": "d17aa49b",
   "metadata": {},
   "outputs": [
    {
     "data": {
      "application/vnd.jupyter.widget-view+json": {
       "model_id": "aa54ad477c8d483f9c02eda0289c74e0",
       "version_major": 2,
       "version_minor": 0
      },
      "text/plain": [
       "Subcategory Progress:   0%|          | 0/5 [00:00<?, ?it/s]"
      ]
     },
     "metadata": {},
     "output_type": "display_data"
    },
    {
     "data": {
      "application/vnd.jupyter.widget-view+json": {
       "model_id": "e8fe63100e96441fa363e4e3faa59f5b",
       "version_major": 2,
       "version_minor": 0
      },
      "text/plain": [
       "Page Progress:   0%|          | 0/4 [00:00<?, ?it/s]"
      ]
     },
     "metadata": {},
     "output_type": "display_data"
    },
    {
     "data": {
      "application/vnd.jupyter.widget-view+json": {
       "model_id": "9fa1783156ee423a9259c86944b845d3",
       "version_major": 2,
       "version_minor": 0
      },
      "text/plain": [
       "Product Progress:   0%|          | 0/28 [00:00<?, ?it/s]"
      ]
     },
     "metadata": {},
     "output_type": "display_data"
    },
    {
     "data": {
      "application/vnd.jupyter.widget-view+json": {
       "model_id": "723c904756c144c099bdc95a82083dc3",
       "version_major": 2,
       "version_minor": 0
      },
      "text/plain": [
       "Product Progress:   0%|          | 0/28 [00:00<?, ?it/s]"
      ]
     },
     "metadata": {},
     "output_type": "display_data"
    },
    {
     "data": {
      "application/vnd.jupyter.widget-view+json": {
       "model_id": "1191d93dc16743218aeb438c80fe1836",
       "version_major": 2,
       "version_minor": 0
      },
      "text/plain": [
       "Product Progress:   0%|          | 0/28 [00:00<?, ?it/s]"
      ]
     },
     "metadata": {},
     "output_type": "display_data"
    },
    {
     "data": {
      "application/vnd.jupyter.widget-view+json": {
       "model_id": "a9374be81cff4c4c8edac923232a7086",
       "version_major": 2,
       "version_minor": 0
      },
      "text/plain": [
       "Product Progress:   0%|          | 0/28 [00:00<?, ?it/s]"
      ]
     },
     "metadata": {},
     "output_type": "display_data"
    },
    {
     "data": {
      "application/vnd.jupyter.widget-view+json": {
       "model_id": "1bac33698b52427f9a1325293ec9a1ff",
       "version_major": 2,
       "version_minor": 0
      },
      "text/plain": [
       "Page Progress:   0%|          | 0/4 [00:00<?, ?it/s]"
      ]
     },
     "metadata": {},
     "output_type": "display_data"
    },
    {
     "data": {
      "application/vnd.jupyter.widget-view+json": {
       "model_id": "98439f806600464b97889ee0484606e3",
       "version_major": 2,
       "version_minor": 0
      },
      "text/plain": [
       "Product Progress:   0%|          | 0/29 [00:00<?, ?it/s]"
      ]
     },
     "metadata": {},
     "output_type": "display_data"
    },
    {
     "data": {
      "application/vnd.jupyter.widget-view+json": {
       "model_id": "442be22340cb47c4aca6b77e465e4d26",
       "version_major": 2,
       "version_minor": 0
      },
      "text/plain": [
       "Product Progress:   0%|          | 0/29 [00:00<?, ?it/s]"
      ]
     },
     "metadata": {},
     "output_type": "display_data"
    },
    {
     "data": {
      "application/vnd.jupyter.widget-view+json": {
       "model_id": "676a415872b94f97b84ae08043930ce4",
       "version_major": 2,
       "version_minor": 0
      },
      "text/plain": [
       "Product Progress:   0%|          | 0/29 [00:00<?, ?it/s]"
      ]
     },
     "metadata": {},
     "output_type": "display_data"
    },
    {
     "data": {
      "application/vnd.jupyter.widget-view+json": {
       "model_id": "7c696febcf884611b44821464e22df49",
       "version_major": 2,
       "version_minor": 0
      },
      "text/plain": [
       "Product Progress:   0%|          | 0/29 [00:00<?, ?it/s]"
      ]
     },
     "metadata": {},
     "output_type": "display_data"
    },
    {
     "data": {
      "application/vnd.jupyter.widget-view+json": {
       "model_id": "f0b65aeb0dab415baa0edab14257032f",
       "version_major": 2,
       "version_minor": 0
      },
      "text/plain": [
       "Page Progress:   0%|          | 0/4 [00:00<?, ?it/s]"
      ]
     },
     "metadata": {},
     "output_type": "display_data"
    },
    {
     "data": {
      "application/vnd.jupyter.widget-view+json": {
       "model_id": "fe5b4b2a17bf4f7d8a2f6832b18ef82a",
       "version_major": 2,
       "version_minor": 0
      },
      "text/plain": [
       "Product Progress:   0%|          | 0/32 [00:00<?, ?it/s]"
      ]
     },
     "metadata": {},
     "output_type": "display_data"
    },
    {
     "data": {
      "application/vnd.jupyter.widget-view+json": {
       "model_id": "dd4b62dba302418cb006c17377a0c2bf",
       "version_major": 2,
       "version_minor": 0
      },
      "text/plain": [
       "Product Progress:   0%|          | 0/32 [00:00<?, ?it/s]"
      ]
     },
     "metadata": {},
     "output_type": "display_data"
    },
    {
     "data": {
      "application/vnd.jupyter.widget-view+json": {
       "model_id": "d3df7e803474454586b79581acd8568b",
       "version_major": 2,
       "version_minor": 0
      },
      "text/plain": [
       "Product Progress:   0%|          | 0/32 [00:00<?, ?it/s]"
      ]
     },
     "metadata": {},
     "output_type": "display_data"
    },
    {
     "data": {
      "application/vnd.jupyter.widget-view+json": {
       "model_id": "21a8d458ce9546ddacd340135065c15a",
       "version_major": 2,
       "version_minor": 0
      },
      "text/plain": [
       "Product Progress:   0%|          | 0/32 [00:00<?, ?it/s]"
      ]
     },
     "metadata": {},
     "output_type": "display_data"
    },
    {
     "data": {
      "application/vnd.jupyter.widget-view+json": {
       "model_id": "09b1c3c0f0204c998841e09550b5eb7d",
       "version_major": 2,
       "version_minor": 0
      },
      "text/plain": [
       "Page Progress:   0%|          | 0/4 [00:00<?, ?it/s]"
      ]
     },
     "metadata": {},
     "output_type": "display_data"
    },
    {
     "data": {
      "application/vnd.jupyter.widget-view+json": {
       "model_id": "682c5124ff7d44a4839cbcbae437be08",
       "version_major": 2,
       "version_minor": 0
      },
      "text/plain": [
       "Product Progress:   0%|          | 0/28 [00:00<?, ?it/s]"
      ]
     },
     "metadata": {},
     "output_type": "display_data"
    },
    {
     "data": {
      "application/vnd.jupyter.widget-view+json": {
       "model_id": "fef7c7ce8546457990070fd1aac4e536",
       "version_major": 2,
       "version_minor": 0
      },
      "text/plain": [
       "Product Progress:   0%|          | 0/28 [00:00<?, ?it/s]"
      ]
     },
     "metadata": {},
     "output_type": "display_data"
    },
    {
     "data": {
      "application/vnd.jupyter.widget-view+json": {
       "model_id": "fbef3e442d98478f8a80df0f31ae7d90",
       "version_major": 2,
       "version_minor": 0
      },
      "text/plain": [
       "Product Progress:   0%|          | 0/28 [00:00<?, ?it/s]"
      ]
     },
     "metadata": {},
     "output_type": "display_data"
    },
    {
     "data": {
      "application/vnd.jupyter.widget-view+json": {
       "model_id": "4365aab0c95f4a1d92cbaa726526ed1d",
       "version_major": 2,
       "version_minor": 0
      },
      "text/plain": [
       "Product Progress:   0%|          | 0/28 [00:00<?, ?it/s]"
      ]
     },
     "metadata": {},
     "output_type": "display_data"
    }
   ],
   "source": [
    "# code for Results Page \n",
    "driver = webdriver.Chrome()\n",
    "radio_dict = {}\n",
    "for value in tqdm(radio_url_dict.values(), desc = 'Subcategory Progress'): \n",
    "    sub_url = value\n",
    "    driver.get(sub_url)\n",
    "    time.sleep(3)\n",
    "    page_source = driver.page_source\n",
    "    soup = BeautifulSoup(page_source, 'html.parser')\n",
    "    \n",
    "    div_tag = soup.find('div', class_='fst-h1-st')\n",
    "\n",
    "    # extract the title of the Sub-Sub-Category\n",
    "    if div_tag:\n",
    "        title = div_tag.find('h1').get_text()\n",
    "\n",
    "    # getting Pagination Link to obtain page where all results are accessible\n",
    "    pagination_link_element = soup.find('a', id = 'apb-desktop-browse-search-see-all')\n",
    "\n",
    "    if pagination_link_element:\n",
    "        result_url = amazon_base_url + pagination_link_element.get('href')\n",
    "    else:\n",
    "        continue\n",
    "\n",
    "    driver.get(result_url)\n",
    "    time.sleep(3)\n",
    "    page_source = driver.page_source\n",
    "    soup = BeautifulSoup(page_source, 'html.parser')\n",
    "    \n",
    "    # checking whether pagination button is available\n",
    "    if (soup.find('a', class_ = 's-pagination-button') is None):\n",
    "        product_containers = soup.find_all('div', class_='s-result-item')\n",
    "        for product_tag in product_containers:\n",
    "            try:\n",
    "                # extract relevant information based on the structure of the HTML\n",
    "                product_url = product_tag.find('a', class_='a-link-normal').get('href')\n",
    "                driver.get(amazon_base_url + product_url)\n",
    "                time.sleep(3)\n",
    "                page_source = driver.page_source\n",
    "                new_soup = BeautifulSoup(page_source, 'html.parser')\n",
    "                title_element, rating_element, total_rating_element, price_element, description_element_list, product_features, description_element = product_information(new_soup)\n",
    "\n",
    "                products.append(\n",
    "                    {'Name': title_element, 'Ratings': rating_element, 'Total Number of Ratings': total_rating_element,\n",
    "                    'Price': price_element, 'Information': description_element_list, 'Features': product_features,\n",
    "                    'Description': description_element})\n",
    "            except AttributeError as e:\n",
    "                continue\n",
    "    else:\n",
    "        pagination_link = soup.find('a', class_ = 's-pagination-button').get('href')\n",
    "        # code to extract all information about products from the first 5 pages (our threshold for this project)\n",
    "        products = []\n",
    "        for iter in tqdm(range(1, 5), desc=\"Page Progress\"):  \n",
    "            url = amazon_base_url + pagination_link[:-1] + str(iter)\n",
    "            driver.get(url)\n",
    "            time.sleep(3)\n",
    "            page_source = driver.page_source\n",
    "            soup = BeautifulSoup(page_source, 'html.parser')\n",
    "            product_containers = soup.find_all('div', class_='s-result-item')\n",
    "            for product_tag in tqdm(product_containers, desc=\"Product Progress\"):\n",
    "                try:\n",
    "                    # extract relevant information based on the structure of the HTML\n",
    "                    product_url = product_tag.find('a', class_='a-link-normal').get('href')\n",
    "                    link_response = requests.get(amazon_base_url + product_url)\n",
    "                    time.sleep(3)\n",
    "                    new_soup = BeautifulSoup(link_response.text, 'html.parser')\n",
    "                    title_element, rating_element, total_rating_element, price_element, description_element_list, product_features, description_element = product_information(new_soup)\n",
    "\n",
    "                    products.append(\n",
    "                        {'Name': title_element, 'Ratings': rating_element, 'Total Number of Ratings': total_rating_element,\n",
    "                         'Price': price_element, 'Information': description_element_list, 'Features': product_features,\n",
    "                         'Description': description_element, 'URL': amazon_base_url + product_url})\n",
    "                except AttributeError as e:\n",
    "                    continue\n",
    "                    \n",
    "    # add the results to the category_dict\n",
    "    radio_dict[title] = products\n",
    "\n",
    "# quit the driver\n",
    "driver.quit()"
   ]
  },
  {
   "cell_type": "code",
   "execution_count": 17,
   "id": "76999ede",
   "metadata": {},
   "outputs": [
    {
     "data": {
      "text/plain": [
       "True"
      ]
     },
     "execution_count": 17,
     "metadata": {},
     "output_type": "execute_result"
    }
   ],
   "source": [
    "# save information to json file\n",
    "write_to_json(radio_dict, 'electronics_set/Radio Communication.json')"
   ]
  },
  {
   "cell_type": "code",
   "execution_count": null,
   "id": "059b6a9e",
   "metadata": {},
   "outputs": [],
   "source": []
  }
 ],
 "metadata": {
  "kernelspec": {
   "display_name": "Python 3 (ipykernel)",
   "language": "python",
   "name": "python3"
  },
  "language_info": {
   "codemirror_mode": {
    "name": "ipython",
    "version": 3
   },
   "file_extension": ".py",
   "mimetype": "text/x-python",
   "name": "python",
   "nbconvert_exporter": "python",
   "pygments_lexer": "ipython3",
   "version": "3.11.5"
  }
 },
 "nbformat": 4,
 "nbformat_minor": 5
}
