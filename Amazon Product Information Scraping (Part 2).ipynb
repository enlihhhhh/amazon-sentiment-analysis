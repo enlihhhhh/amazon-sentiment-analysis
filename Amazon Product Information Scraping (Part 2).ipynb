{
 "cells": [
  {
   "cell_type": "code",
   "execution_count": 1,
   "id": "ea673673",
   "metadata": {},
   "outputs": [],
   "source": [
    "import pandas as pd\n",
    "import numpy as np\n",
    "import pickle\n",
    "import json\n",
    "import re\n",
    "import requests\n",
    "from bs4 import BeautifulSoup\n",
    "from tqdm.notebook import tqdm\n",
    "from selenium import webdriver\n",
    "from selenium.webdriver.common.keys import Keys\n",
    "import time\n",
    "from tqdm.notebook import tqdm\n",
    "\n",
    "# Creating PrettyPrinter Instance\n",
    "import pprint\n",
    "pp = pprint.PrettyPrinter(indent=2)"
   ]
  },
  {
   "cell_type": "markdown",
   "id": "38d67745",
   "metadata": {},
   "source": [
    "## Helper Functions"
   ]
  },
  {
   "cell_type": "code",
   "execution_count": 2,
   "id": "9233015a",
   "metadata": {},
   "outputs": [],
   "source": [
    "# Function to write data to a JSON file\n",
    "def write_to_json(data, filename):\n",
    "    \"\"\"\n",
    "    Write data to a JSON file.\n",
    "\n",
    "    Args:\n",
    "        data: The data (dictionary, list, etc.) to be written to the JSON file.\n",
    "        filename (str): The name of the JSON file to write.\n",
    "\n",
    "    Returns:\n",
    "        bool: True if the data was successfully written to the file, False otherwise.\n",
    "    \"\"\"\n",
    "    try:\n",
    "        with open(filename, 'w') as json_file:\n",
    "            json.dump(data, json_file, indent=4)\n",
    "        return True\n",
    "    except Exception as e:\n",
    "        print(f\"Error writing to JSON file: {e}\")\n",
    "        return False\n",
    "\n",
    "# Function to load data from a JSON file\n",
    "def load_from_json(filename):\n",
    "    \"\"\"\n",
    "    Load data from a JSON file.\n",
    "\n",
    "    Args:\n",
    "        filename (str): The name of the JSON file to read data from.\n",
    "\n",
    "    Returns:\n",
    "        dict or list: The loaded data from the JSON file, or an empty dictionary/list if the file doesn't exist.\n",
    "    \"\"\"\n",
    "    try:\n",
    "        with open(filename, 'r') as json_file:\n",
    "            data = json.load(json_file)\n",
    "        return data\n",
    "    except FileNotFoundError:\n",
    "        print(f\"JSON file '{filename}' not found. Returning an empty dictionary.\")\n",
    "        return {}\n",
    "    except Exception as e:\n",
    "        print(f\"Error loading data from JSON file: {e}\")\n",
    "        return {}"
   ]
  },
  {
   "cell_type": "code",
   "execution_count": 3,
   "id": "a5a4dd17",
   "metadata": {},
   "outputs": [],
   "source": [
    "# Function to load a pickle file and extract titles\n",
    "def load_pickle(file_path):\n",
    "    \"\"\"\n",
    "    Load data from a pickle file.\n",
    "\n",
    "    :param file_path: The path to the output pickle file.\n",
    "    \"\"\"\n",
    "    with open(file_path, 'rb') as file:\n",
    "        data = pickle.load(file)\n",
    "        \n",
    "    return data\n",
    "\n",
    "def write_pickle(data, file_path):\n",
    "    \"\"\"\n",
    "    Write data to a pickle file.\n",
    "\n",
    "    :param data: The data to be written to the file.\n",
    "    :param file_path: The path to the output pickle file.\n",
    "    \"\"\"\n",
    "    try:\n",
    "        with open(file_path, 'wb') as file:\n",
    "            pickle.dump(data, file)\n",
    "        #print(f'Data has been written to {file_path}')\n",
    "    except Exception as e:\n",
    "        print(f'Error writing to {file_path}: {e}')"
   ]
  },
  {
   "cell_type": "code",
   "execution_count": 4,
   "id": "46b25039",
   "metadata": {},
   "outputs": [],
   "source": [
    "# Function to extract raw data from Amazon Website\n",
    "def product_information(soup):\n",
    "    title_element = None\n",
    "    rating_element = None\n",
    "    total_rating_element = None\n",
    "    price_element = None\n",
    "    description_element_list = []\n",
    "    product_features = []\n",
    "    description_element = None\n",
    "\n",
    "    try:\n",
    "        title_element = soup.find('span', id='productTitle').text.strip()\n",
    "    except AttributeError:\n",
    "        title_element = 'NaN'\n",
    "\n",
    "    try:\n",
    "        rating_element = soup.find('span', id='acrPopover').get('title')\n",
    "    except AttributeError:\n",
    "        rating_element = 'NaN'\n",
    "\n",
    "    try:\n",
    "        total_rating_element = soup.find('span', id=\"acrCustomerReviewText\").text\n",
    "    except AttributeError:\n",
    "        total_rating_element = 'NaN'\n",
    "\n",
    "    try:\n",
    "        price_element = soup.find('span', class_=\"aok-offscreen\").text.strip()\n",
    "    except AttributeError:\n",
    "        price_element = 'NaN'\n",
    "\n",
    "    try:\n",
    "        description_element = soup.find('table', class_=\"a-normal a-spacing-micro\").find_all('tr')\n",
    "        for i in description_element:\n",
    "            description_element_list.append(i.find('td', class_='a-span3').text.strip() + ': ' + i.find('td', class_='a-span9').text.strip())\n",
    "    except AttributeError:\n",
    "        description_element_list = 'NaN'\n",
    "\n",
    "    try:\n",
    "        product_feat = soup.find_all('li', class_=\"a-spacing-mini\")\n",
    "        for i in product_feat:\n",
    "            product_features.append(i.text.strip())\n",
    "    except AttributeError:\n",
    "        product_features = 'NaN'\n",
    "\n",
    "    try:\n",
    "        description_element = soup.find('div', id='productDescription').text.strip()\n",
    "    except AttributeError:\n",
    "        description_element = 'NaN'\n",
    "\n",
    "    return title_element, rating_element, total_rating_element, price_element, description_element_list, product_features, description_element\n"
   ]
  },
  {
   "cell_type": "code",
   "execution_count": 5,
   "id": "5ead1750",
   "metadata": {},
   "outputs": [],
   "source": [
    "# Function to extract reviews from Amazon Website\n",
    "def review_information(soup):\n",
    "    review_elements = soup.select(\"div.review\")\n",
    "    if not review_elements:\n",
    "        print('No Reviews Available')\n",
    "    else:\n",
    "        scraped_reviews = []\n",
    "        for review in review_elements:\n",
    "            r_author_element = review.select_one(\"span.a-profile-name\")\n",
    "            r_author = r_author_element.text if r_author_element else None\n",
    "            r_rating_element = review.select_one(\"i.review-rating\")\n",
    "            r_rating = r_rating_element.text.replace(\"out of 5 stars\", \"\") if r_rating_element else None\n",
    "            r_title_element = review.select_one(\"a.review-title\")\n",
    "            r_title_span_element = r_title_element.select_one(\"span:not([class])\") if r_title_element else None\n",
    "            r_title = r_title_span_element.text if r_title_span_element else None\n",
    "            r_content_element = review.select_one(\"span.review-text\")\n",
    "            r_content = r_content_element.text if r_content_element else None\n",
    "            r_date_element = review.select_one(\"span.review-date\")\n",
    "            r_date = r_date_element.text if r_date_element else None\n",
    "            r_verified_element = review.select_one(\"span.a-size-mini\")\n",
    "            r_verified = r_verified_element.text if r_verified_element else None\n",
    "            print(r_author,r_rating,r_title,r_content,r_date,r_verified)\n",
    "            print('\\n')"
   ]
  },
  {
   "cell_type": "markdown",
   "id": "8024efdd",
   "metadata": {},
   "source": [
    "## Scraping Information from Electronics Categories"
   ]
  },
  {
   "cell_type": "code",
   "execution_count": 8,
   "id": "18e8d6b6",
   "metadata": {},
   "outputs": [],
   "source": [
    "# electronics url \n",
    "driver = webdriver.Chrome()\n",
    "url = 'https://www.amazon.sg/Buy-Electronics-Online/b/?ie=UTF8&node=6314449051&ref_=nav_cs_electronics'\n",
    "amazon_base_url = 'https://www.amazon.sg'\n",
    "driver.get(url)\n",
    "time.sleep(5)\n",
    "page_source = driver.page_source\n",
    "soup = BeautifulSoup(page_source, 'html.parser')"
   ]
  },
  {
   "cell_type": "code",
   "execution_count": 9,
   "id": "0ad839bf",
   "metadata": {
    "scrolled": false
   },
   "outputs": [
    {
     "name": "stdout",
     "output_type": "stream",
     "text": [
      "Computers, Components & Accessories: https://www.amazon.sg/b/?_encoding=UTF8&node=6436071051&bbn=6314449051&ref_=Oct_d_odnav_d_6314449051_0&pd_rd_w=mbVUC&content-id=amzn1.sym.80833b11-ffca-4e6a-8a04-ea9e915d944b&pf_rd_p=80833b11-ffca-4e6a-8a04-ea9e915d944b&pf_rd_r=8K3PSJWPXD47525QNH98&pd_rd_wg=7qtkZ&pd_rd_r=a31e7f05-ef1c-4e04-9214-75ae54b5406c\n",
      "Mobile Phones & Communication: https://www.amazon.sg/b/?_encoding=UTF8&node=6436074051&bbn=6314449051&ref_=Oct_d_odnav_d_6314449051_1&pd_rd_w=mbVUC&content-id=amzn1.sym.80833b11-ffca-4e6a-8a04-ea9e915d944b&pf_rd_p=80833b11-ffca-4e6a-8a04-ea9e915d944b&pf_rd_r=8K3PSJWPXD47525QNH98&pd_rd_wg=7qtkZ&pd_rd_r=a31e7f05-ef1c-4e04-9214-75ae54b5406c\n",
      "Home Cinema, TV & Video: https://www.amazon.sg/b/?_encoding=UTF8&node=6436073051&bbn=6314449051&ref_=Oct_d_odnav_d_6314449051_2&pd_rd_w=mbVUC&content-id=amzn1.sym.80833b11-ffca-4e6a-8a04-ea9e915d944b&pf_rd_p=80833b11-ffca-4e6a-8a04-ea9e915d944b&pf_rd_r=8K3PSJWPXD47525QNH98&pd_rd_wg=7qtkZ&pd_rd_r=a31e7f05-ef1c-4e04-9214-75ae54b5406c\n",
      "Headphones, Earbuds & Accessories: https://www.amazon.sg/b/?_encoding=UTF8&node=6436081051&bbn=6314449051&ref_=Oct_d_odnav_d_6314449051_3&pd_rd_w=mbVUC&content-id=amzn1.sym.80833b11-ffca-4e6a-8a04-ea9e915d944b&pf_rd_p=80833b11-ffca-4e6a-8a04-ea9e915d944b&pf_rd_r=8K3PSJWPXD47525QNH98&pd_rd_wg=7qtkZ&pd_rd_r=a31e7f05-ef1c-4e04-9214-75ae54b5406c\n",
      "Car & Vehicle Electronics: https://www.amazon.sg/b/?_encoding=UTF8&node=6436070051&bbn=6314449051&ref_=Oct_d_odnav_d_6314449051_4&pd_rd_w=mbVUC&content-id=amzn1.sym.80833b11-ffca-4e6a-8a04-ea9e915d944b&pf_rd_p=80833b11-ffca-4e6a-8a04-ea9e915d944b&pf_rd_r=8K3PSJWPXD47525QNH98&pd_rd_wg=7qtkZ&pd_rd_r=a31e7f05-ef1c-4e04-9214-75ae54b5406c\n",
      "Tablets: https://www.amazon.sg/b/?_encoding=UTF8&node=6436120051&bbn=6314449051&ref_=Oct_d_odnav_d_6314449051_5&pd_rd_w=mbVUC&content-id=amzn1.sym.80833b11-ffca-4e6a-8a04-ea9e915d944b&pf_rd_p=80833b11-ffca-4e6a-8a04-ea9e915d944b&pf_rd_r=8K3PSJWPXD47525QNH98&pd_rd_wg=7qtkZ&pd_rd_r=a31e7f05-ef1c-4e04-9214-75ae54b5406c\n",
      "Hi-Fi & Home Audio: https://www.amazon.sg/b/?_encoding=UTF8&node=6436072051&bbn=6314449051&ref_=Oct_d_odnav_d_6314449051_6&pd_rd_w=mbVUC&content-id=amzn1.sym.80833b11-ffca-4e6a-8a04-ea9e915d944b&pf_rd_p=80833b11-ffca-4e6a-8a04-ea9e915d944b&pf_rd_r=8K3PSJWPXD47525QNH98&pd_rd_wg=7qtkZ&pd_rd_r=a31e7f05-ef1c-4e04-9214-75ae54b5406c\n",
      "Camera & Photo: https://www.amazon.sg/b/?_encoding=UTF8&node=6436069051&bbn=6314449051&ref_=Oct_d_odnav_d_6314449051_7&pd_rd_w=mbVUC&content-id=amzn1.sym.80833b11-ffca-4e6a-8a04-ea9e915d944b&pf_rd_p=80833b11-ffca-4e6a-8a04-ea9e915d944b&pf_rd_r=8K3PSJWPXD47525QNH98&pd_rd_wg=7qtkZ&pd_rd_r=a31e7f05-ef1c-4e04-9214-75ae54b5406c\n",
      "Wearable Technology: https://www.amazon.sg/b/?_encoding=UTF8&node=6436080051&bbn=6314449051&ref_=Oct_d_odnav_d_6314449051_8&pd_rd_w=mbVUC&content-id=amzn1.sym.80833b11-ffca-4e6a-8a04-ea9e915d944b&pf_rd_p=80833b11-ffca-4e6a-8a04-ea9e915d944b&pf_rd_r=8K3PSJWPXD47525QNH98&pd_rd_wg=7qtkZ&pd_rd_r=a31e7f05-ef1c-4e04-9214-75ae54b5406c\n",
      "Portable Sound & Vision: https://www.amazon.sg/b/?_encoding=UTF8&node=6436075051&bbn=6314449051&ref_=Oct_d_odnav_d_6314449051_9&pd_rd_w=mbVUC&content-id=amzn1.sym.80833b11-ffca-4e6a-8a04-ea9e915d944b&pf_rd_p=80833b11-ffca-4e6a-8a04-ea9e915d944b&pf_rd_r=8K3PSJWPXD47525QNH98&pd_rd_wg=7qtkZ&pd_rd_r=a31e7f05-ef1c-4e04-9214-75ae54b5406c\n",
      "Sat Nav, GPS, Navigation & Accessories: https://www.amazon.sg/b/?_encoding=UTF8&node=6436077051&bbn=6314449051&ref_=Oct_d_odnav_d_6314449051_10&pd_rd_w=mbVUC&content-id=amzn1.sym.80833b11-ffca-4e6a-8a04-ea9e915d944b&pf_rd_p=80833b11-ffca-4e6a-8a04-ea9e915d944b&pf_rd_r=8K3PSJWPXD47525QNH98&pd_rd_wg=7qtkZ&pd_rd_r=a31e7f05-ef1c-4e04-9214-75ae54b5406c\n",
      "Household Batteries & Chargers: https://www.amazon.sg/b/?_encoding=UTF8&node=6436067051&bbn=6314449051&ref_=Oct_d_odnav_d_6314449051_11&pd_rd_w=mbVUC&content-id=amzn1.sym.80833b11-ffca-4e6a-8a04-ea9e915d944b&pf_rd_p=80833b11-ffca-4e6a-8a04-ea9e915d944b&pf_rd_r=8K3PSJWPXD47525QNH98&pd_rd_wg=7qtkZ&pd_rd_r=a31e7f05-ef1c-4e04-9214-75ae54b5406c\n",
      "Power Accessories: https://www.amazon.sg/b/?_encoding=UTF8&node=6436068051&bbn=6314449051&ref_=Oct_d_odnav_d_6314449051_12&pd_rd_w=mbVUC&content-id=amzn1.sym.80833b11-ffca-4e6a-8a04-ea9e915d944b&pf_rd_p=80833b11-ffca-4e6a-8a04-ea9e915d944b&pf_rd_r=8K3PSJWPXD47525QNH98&pd_rd_wg=7qtkZ&pd_rd_r=a31e7f05-ef1c-4e04-9214-75ae54b5406c\n",
      "Telephones, VoIP & Accessories: https://www.amazon.sg/b/?_encoding=UTF8&node=6436078051&bbn=6314449051&ref_=Oct_d_odnav_d_6314449051_13&pd_rd_w=mbVUC&content-id=amzn1.sym.80833b11-ffca-4e6a-8a04-ea9e915d944b&pf_rd_p=80833b11-ffca-4e6a-8a04-ea9e915d944b&pf_rd_r=8K3PSJWPXD47525QNH98&pd_rd_wg=7qtkZ&pd_rd_r=a31e7f05-ef1c-4e04-9214-75ae54b5406c\n",
      "Radio Communication: https://www.amazon.sg/b/?_encoding=UTF8&node=6436076051&bbn=6314449051&ref_=Oct_d_odnav_d_6314449051_14&pd_rd_w=mbVUC&content-id=amzn1.sym.80833b11-ffca-4e6a-8a04-ea9e915d944b&pf_rd_p=80833b11-ffca-4e6a-8a04-ea9e915d944b&pf_rd_r=8K3PSJWPXD47525QNH98&pd_rd_wg=7qtkZ&pd_rd_r=a31e7f05-ef1c-4e04-9214-75ae54b5406c\n"
     ]
    }
   ],
   "source": [
    "# getting the links to all subcategories\n",
    "subcategory_url = {}\n",
    "subcategory_container = soup.find_all('a', class_ = \"a-link-normal octopus-pc-category-card-v2-category-link\")\n",
    "for element in subcategory_container:\n",
    "    subcategory_url[element['title']] = amazon_base_url + element['href']\n",
    "    print(element['title'] + \": \" + amazon_base_url + element['href'])"
   ]
  },
  {
   "cell_type": "markdown",
   "id": "c93a8c8b",
   "metadata": {},
   "source": [
    "## Extract Subcategories Information"
   ]
  },
  {
   "cell_type": "markdown",
   "id": "405a30e4",
   "metadata": {},
   "source": [
    "### Car & Vehicle Electronics"
   ]
  },
  {
   "cell_type": "code",
   "execution_count": 23,
   "id": "ad61ffc7",
   "metadata": {},
   "outputs": [
    {
     "name": "stdout",
     "output_type": "stream",
     "text": [
      "Accessories: https://www.amazon.sg/b/?_encoding=UTF8&node=6436107051&bbn=6314449051&ref_=Oct_d_odnav_d_6436070051_0&pd_rd_w=UtqlE&content-id=amzn1.sym.80833b11-ffca-4e6a-8a04-ea9e915d944b&pf_rd_p=80833b11-ffca-4e6a-8a04-ea9e915d944b&pf_rd_r=K6SZSN1SSMZBDWVNYTA9&pd_rd_wg=IoeKY&pd_rd_r=8f302d09-9135-4c3f-822d-6676cdbb9fcd\n",
      "Car Electronics: https://www.amazon.sg/b/?_encoding=UTF8&node=6436109051&bbn=6314449051&ref_=Oct_d_odnav_d_6436070051_1&pd_rd_w=UtqlE&content-id=amzn1.sym.80833b11-ffca-4e6a-8a04-ea9e915d944b&pf_rd_p=80833b11-ffca-4e6a-8a04-ea9e915d944b&pf_rd_r=K6SZSN1SSMZBDWVNYTA9&pd_rd_wg=IoeKY&pd_rd_r=8f302d09-9135-4c3f-822d-6676cdbb9fcd\n",
      "Motorcycle Electronics: https://www.amazon.sg/b/?_encoding=UTF8&node=6436112051&bbn=6314449051&ref_=Oct_d_odnav_d_6436070051_2&pd_rd_w=UtqlE&content-id=amzn1.sym.80833b11-ffca-4e6a-8a04-ea9e915d944b&pf_rd_p=80833b11-ffca-4e6a-8a04-ea9e915d944b&pf_rd_r=K6SZSN1SSMZBDWVNYTA9&pd_rd_wg=IoeKY&pd_rd_r=8f302d09-9135-4c3f-822d-6676cdbb9fcd\n"
     ]
    }
   ],
   "source": [
    "# code to get urls \n",
    "driver = webdriver.Chrome()\n",
    "temp_url = subcategory_url['Car & Vehicle Electronics']\n",
    "driver.get(temp_url)\n",
    "time.sleep(5)\n",
    "page_source = driver.page_source\n",
    "soup = BeautifulSoup(page_source, 'html.parser')\n",
    "car_url_dict = {}\n",
    "for sub_element in soup.find_all('a', class_ = \"a-link-normal octopus-pc-category-card-v2-category-link\"):\n",
    "    car_url_dict[sub_element['title']] = amazon_base_url + sub_element['href']\n",
    "    print(sub_element['title'] + \": \" + amazon_base_url + sub_element['href'])   \n",
    "    \n",
    "# quit the driver\n",
    "driver.quit()"
   ]
  },
  {
   "cell_type": "code",
   "execution_count": 24,
   "id": "d44caca2",
   "metadata": {},
   "outputs": [
    {
     "data": {
      "application/vnd.jupyter.widget-view+json": {
       "model_id": "44e1646fd6314b729f73c0abc1940c6f",
       "version_major": 2,
       "version_minor": 0
      },
      "text/plain": [
       "Subcategory Progress:   0%|          | 0/3 [00:00<?, ?it/s]"
      ]
     },
     "metadata": {},
     "output_type": "display_data"
    },
    {
     "data": {
      "application/vnd.jupyter.widget-view+json": {
       "model_id": "afca50a4bb09447ba2408a1eb37ec34c",
       "version_major": 2,
       "version_minor": 0
      },
      "text/plain": [
       "Page Progress:   0%|          | 0/5 [00:00<?, ?it/s]"
      ]
     },
     "metadata": {},
     "output_type": "display_data"
    },
    {
     "data": {
      "application/vnd.jupyter.widget-view+json": {
       "model_id": "15eb3be0bbd449498a9a7bea3a82f8a2",
       "version_major": 2,
       "version_minor": 0
      },
      "text/plain": [
       "Product Progress:   0%|          | 0/30 [00:00<?, ?it/s]"
      ]
     },
     "metadata": {},
     "output_type": "display_data"
    },
    {
     "data": {
      "application/vnd.jupyter.widget-view+json": {
       "model_id": "1d8268c8446a43f6bc3db8926417f571",
       "version_major": 2,
       "version_minor": 0
      },
      "text/plain": [
       "Product Progress:   0%|          | 0/30 [00:00<?, ?it/s]"
      ]
     },
     "metadata": {},
     "output_type": "display_data"
    },
    {
     "data": {
      "application/vnd.jupyter.widget-view+json": {
       "model_id": "e9d9f923da9a4b3c8e18f74ad095e3be",
       "version_major": 2,
       "version_minor": 0
      },
      "text/plain": [
       "Product Progress:   0%|          | 0/30 [00:00<?, ?it/s]"
      ]
     },
     "metadata": {},
     "output_type": "display_data"
    },
    {
     "data": {
      "application/vnd.jupyter.widget-view+json": {
       "model_id": "ddc8fdfd8cad4b8db24bb184697ecd43",
       "version_major": 2,
       "version_minor": 0
      },
      "text/plain": [
       "Product Progress:   0%|          | 0/30 [00:00<?, ?it/s]"
      ]
     },
     "metadata": {},
     "output_type": "display_data"
    },
    {
     "data": {
      "application/vnd.jupyter.widget-view+json": {
       "model_id": "8a89df026d5c4e488147626fb603d97d",
       "version_major": 2,
       "version_minor": 0
      },
      "text/plain": [
       "Product Progress:   0%|          | 0/30 [00:00<?, ?it/s]"
      ]
     },
     "metadata": {},
     "output_type": "display_data"
    },
    {
     "data": {
      "application/vnd.jupyter.widget-view+json": {
       "model_id": "85d501de1043408ba5e7eeabce129a41",
       "version_major": 2,
       "version_minor": 0
      },
      "text/plain": [
       "Page Progress:   0%|          | 0/5 [00:00<?, ?it/s]"
      ]
     },
     "metadata": {},
     "output_type": "display_data"
    },
    {
     "data": {
      "application/vnd.jupyter.widget-view+json": {
       "model_id": "392f1628614744fcb310ce648213925d",
       "version_major": 2,
       "version_minor": 0
      },
      "text/plain": [
       "Product Progress:   0%|          | 0/37 [00:00<?, ?it/s]"
      ]
     },
     "metadata": {},
     "output_type": "display_data"
    },
    {
     "data": {
      "application/vnd.jupyter.widget-view+json": {
       "model_id": "aa39cadaa11143a583d98389b0640fa9",
       "version_major": 2,
       "version_minor": 0
      },
      "text/plain": [
       "Product Progress:   0%|          | 0/37 [00:00<?, ?it/s]"
      ]
     },
     "metadata": {},
     "output_type": "display_data"
    },
    {
     "data": {
      "application/vnd.jupyter.widget-view+json": {
       "model_id": "f81a0a9ff2f84193bd1d424444852186",
       "version_major": 2,
       "version_minor": 0
      },
      "text/plain": [
       "Product Progress:   0%|          | 0/37 [00:00<?, ?it/s]"
      ]
     },
     "metadata": {},
     "output_type": "display_data"
    },
    {
     "data": {
      "application/vnd.jupyter.widget-view+json": {
       "model_id": "2a3aa51565ed47a6aadc01260d82c4e5",
       "version_major": 2,
       "version_minor": 0
      },
      "text/plain": [
       "Product Progress:   0%|          | 0/37 [00:00<?, ?it/s]"
      ]
     },
     "metadata": {},
     "output_type": "display_data"
    },
    {
     "data": {
      "application/vnd.jupyter.widget-view+json": {
       "model_id": "fd78a2b5e5644760a79a04adb02252e0",
       "version_major": 2,
       "version_minor": 0
      },
      "text/plain": [
       "Product Progress:   0%|          | 0/37 [00:00<?, ?it/s]"
      ]
     },
     "metadata": {},
     "output_type": "display_data"
    },
    {
     "data": {
      "application/vnd.jupyter.widget-view+json": {
       "model_id": "90ba07f3e4b0448695211643c6de3a3e",
       "version_major": 2,
       "version_minor": 0
      },
      "text/plain": [
       "Page Progress:   0%|          | 0/5 [00:00<?, ?it/s]"
      ]
     },
     "metadata": {},
     "output_type": "display_data"
    },
    {
     "data": {
      "application/vnd.jupyter.widget-view+json": {
       "model_id": "11fc1edb76c14701a93e3a56f15f7227",
       "version_major": 2,
       "version_minor": 0
      },
      "text/plain": [
       "Product Progress:   0%|          | 0/30 [00:00<?, ?it/s]"
      ]
     },
     "metadata": {},
     "output_type": "display_data"
    },
    {
     "data": {
      "application/vnd.jupyter.widget-view+json": {
       "model_id": "03af7942cc12493a9b25571f20cfc3b4",
       "version_major": 2,
       "version_minor": 0
      },
      "text/plain": [
       "Product Progress:   0%|          | 0/30 [00:00<?, ?it/s]"
      ]
     },
     "metadata": {},
     "output_type": "display_data"
    },
    {
     "data": {
      "application/vnd.jupyter.widget-view+json": {
       "model_id": "361dda5bced44b478dfb176e6aef5362",
       "version_major": 2,
       "version_minor": 0
      },
      "text/plain": [
       "Product Progress:   0%|          | 0/30 [00:00<?, ?it/s]"
      ]
     },
     "metadata": {},
     "output_type": "display_data"
    },
    {
     "data": {
      "application/vnd.jupyter.widget-view+json": {
       "model_id": "37dd47f24bbe456badff7df180607e4c",
       "version_major": 2,
       "version_minor": 0
      },
      "text/plain": [
       "Product Progress:   0%|          | 0/30 [00:00<?, ?it/s]"
      ]
     },
     "metadata": {},
     "output_type": "display_data"
    },
    {
     "data": {
      "application/vnd.jupyter.widget-view+json": {
       "model_id": "dfb4c187f5b044588f45e22038ec642d",
       "version_major": 2,
       "version_minor": 0
      },
      "text/plain": [
       "Product Progress:   0%|          | 0/30 [00:00<?, ?it/s]"
      ]
     },
     "metadata": {},
     "output_type": "display_data"
    }
   ],
   "source": [
    "# code for Results Page \n",
    "driver = webdriver.Chrome()\n",
    "car_dict = {}\n",
    "for value in tqdm(car_url_dict.values(), desc = 'Subcategory Progress'): \n",
    "    sub_url = value\n",
    "    driver.get(sub_url)\n",
    "    time.sleep(3)\n",
    "    page_source = driver.page_source\n",
    "    soup = BeautifulSoup(page_source, 'html.parser')\n",
    "    \n",
    "    div_tag = soup.find('div', class_='fst-h1-st')\n",
    "\n",
    "    # extract the title of the Sub-Sub-Category\n",
    "    if div_tag:\n",
    "        title = div_tag.find('h1').get_text()\n",
    "\n",
    "    # getting Pagination Link to obtain page where all results are accessible\n",
    "    pagination_link_element = soup.find('a', id = 'apb-desktop-browse-search-see-all')\n",
    "\n",
    "    if pagination_link_element:\n",
    "        result_url = amazon_base_url + pagination_link_element.get('href')\n",
    "    else:\n",
    "        continue\n",
    "\n",
    "    driver.get(result_url)\n",
    "    time.sleep(3)\n",
    "    page_source = driver.page_source\n",
    "    soup = BeautifulSoup(page_source, 'html.parser')\n",
    "    \n",
    "    # checking whether pagination button is available\n",
    "    if (soup.find('a', class_ = 's-pagination-button') is None):\n",
    "        product_containers = soup.find_all('div', class_='s-result-item')\n",
    "        for product_tag in product_containers:\n",
    "            try:\n",
    "                # extract relevant information based on the structure of the HTML\n",
    "                product_url = product_tag.find('a', class_='a-link-normal').get('href')\n",
    "                driver.get(amazon_base_url + product_url)\n",
    "                time.sleep(3)\n",
    "                page_source = driver.page_source\n",
    "                new_soup = BeautifulSoup(page_source, 'html.parser')\n",
    "                title_element, rating_element, total_rating_element, price_element, description_element_list, product_features, description_element = product_information(new_soup)\n",
    "\n",
    "                products.append(\n",
    "                    {'Name': title_element, 'Ratings': rating_element, 'Total Number of Ratings': total_rating_element,\n",
    "                    'Price': price_element, 'Information': description_element_list, 'Features': product_features,\n",
    "                    'Description': description_element})\n",
    "            except AttributeError as e:\n",
    "                continue\n",
    "    else:\n",
    "        pagination_link = soup.find('a', class_ = 's-pagination-button').get('href')\n",
    "        # code to extract all information about products from the first 5 pages (our threshold for this project)\n",
    "        products = []\n",
    "        for iter in tqdm(range(1, 6), desc=\"Page Progress\"):  \n",
    "            url = amazon_base_url + pagination_link[:-1] + str(iter)\n",
    "            driver.get(url)\n",
    "            time.sleep(3)\n",
    "            page_source = driver.page_source\n",
    "            soup = BeautifulSoup(page_source, 'html.parser')\n",
    "            product_containers = soup.find_all('div', class_='s-result-item')\n",
    "            for product_tag in tqdm(product_containers, desc=\"Product Progress\"):\n",
    "                try:\n",
    "                    # extract relevant information based on the structure of the HTML\n",
    "                    product_url = product_tag.find('a', class_='a-link-normal').get('href')\n",
    "                    link_response = requests.get(amazon_base_url + product_url)\n",
    "                    time.sleep(3)\n",
    "                    new_soup = BeautifulSoup(link_response.text, 'html.parser')\n",
    "                    title_element, rating_element, total_rating_element, price_element, description_element_list, product_features, description_element = product_information(new_soup)\n",
    "\n",
    "                    products.append(\n",
    "                        {'Name': title_element, 'Ratings': rating_element, 'Total Number of Ratings': total_rating_element,\n",
    "                         'Price': price_element, 'Information': description_element_list, 'Features': product_features,\n",
    "                         'Description': description_element, 'URL': amazon_base_url + product_url})\n",
    "                except AttributeError as e:\n",
    "                    continue\n",
    "                    \n",
    "    # add the results to the category_dict\n",
    "    car_dict[title] = products\n",
    "\n",
    "# quit the driver\n",
    "driver.quit()"
   ]
  },
  {
   "cell_type": "code",
   "execution_count": 26,
   "id": "6803293c",
   "metadata": {},
   "outputs": [
    {
     "data": {
      "text/plain": [
       "True"
      ]
     },
     "execution_count": 26,
     "metadata": {},
     "output_type": "execute_result"
    }
   ],
   "source": [
    "# save information to json file\n",
    "write_to_json(car_dict, 'electronics_set/Car & Vehicle Electronics.json')"
   ]
  },
  {
   "cell_type": "markdown",
   "id": "6d0bef89",
   "metadata": {},
   "source": [
    "### Tablets"
   ]
  },
  {
   "cell_type": "code",
   "execution_count": 17,
   "id": "83a783c9",
   "metadata": {},
   "outputs": [
    {
     "data": {
      "application/vnd.jupyter.widget-view+json": {
       "model_id": "0d5b39ca8a43439d8bccda38ea90bed2",
       "version_major": 2,
       "version_minor": 0
      },
      "text/plain": [
       "Page Progress:   0%|          | 0/5 [00:00<?, ?it/s]"
      ]
     },
     "metadata": {},
     "output_type": "display_data"
    },
    {
     "data": {
      "application/vnd.jupyter.widget-view+json": {
       "model_id": "3f628bee9ed14892a5e22ef40060335d",
       "version_major": 2,
       "version_minor": 0
      },
      "text/plain": [
       "Product Progress:   0%|          | 0/37 [00:00<?, ?it/s]"
      ]
     },
     "metadata": {},
     "output_type": "display_data"
    },
    {
     "data": {
      "application/vnd.jupyter.widget-view+json": {
       "model_id": "0710c0040d7848b490325f9a4474934d",
       "version_major": 2,
       "version_minor": 0
      },
      "text/plain": [
       "Product Progress:   0%|          | 0/37 [00:00<?, ?it/s]"
      ]
     },
     "metadata": {},
     "output_type": "display_data"
    },
    {
     "data": {
      "application/vnd.jupyter.widget-view+json": {
       "model_id": "a41b88ec10c94dae828f04b45bfe6ee7",
       "version_major": 2,
       "version_minor": 0
      },
      "text/plain": [
       "Product Progress:   0%|          | 0/37 [00:00<?, ?it/s]"
      ]
     },
     "metadata": {},
     "output_type": "display_data"
    },
    {
     "data": {
      "application/vnd.jupyter.widget-view+json": {
       "model_id": "0af0058757e1478dbdcb853ad8ecf7e7",
       "version_major": 2,
       "version_minor": 0
      },
      "text/plain": [
       "Product Progress:   0%|          | 0/37 [00:00<?, ?it/s]"
      ]
     },
     "metadata": {},
     "output_type": "display_data"
    },
    {
     "data": {
      "application/vnd.jupyter.widget-view+json": {
       "model_id": "fa7e0ab58397476f8832355b271bcf36",
       "version_major": 2,
       "version_minor": 0
      },
      "text/plain": [
       "Product Progress:   0%|          | 0/37 [00:00<?, ?it/s]"
      ]
     },
     "metadata": {},
     "output_type": "display_data"
    }
   ],
   "source": [
    "driver = webdriver.Chrome()\n",
    "temp_url = subcategory_url['Tablets']\n",
    "driver.get(temp_url)\n",
    "time.sleep(5)\n",
    "page_source = driver.page_source\n",
    "soup = BeautifulSoup(page_source, 'html.parser')\n",
    "\n",
    "headphones_dict = {}\n",
    "\n",
    "# there are no further subcategories for tablets, hence proceed to scrape products\n",
    "# Getting Pagination Link to obtain page where all results are accessible\n",
    "pagination_link_element = soup.find('a', id = 'apb-desktop-browse-search-see-all')\n",
    "\n",
    "if pagination_link_element:\n",
    "    result_url = amazon_base_url + pagination_link_element.get('href')\n",
    "\n",
    "driver.get(result_url)\n",
    "time.sleep(3)\n",
    "page_source = driver.page_source\n",
    "soup = BeautifulSoup(page_source, 'html.parser')\n",
    "\n",
    "# Checking whether pagination button is available\n",
    "if (soup.find('a', class_ = 's-pagination-button') is None):\n",
    "    product_containers = soup.find_all('div', class_='s-result-item')\n",
    "    for product_tag in product_containers:\n",
    "        try:\n",
    "            # extract relevant information based on the structure of the HTML\n",
    "            product_url = product_tag.find('a', class_='a-link-normal').get('href')\n",
    "            driver.get(amazon_base_url + product_url)\n",
    "            time.sleep(3)\n",
    "            page_source = driver.page_source\n",
    "            new_soup = BeautifulSoup(page_source, 'html.parser')\n",
    "            title_element, rating_element, total_rating_element, price_element, description_element_list, product_features, description_element = product_information(new_soup)\n",
    "\n",
    "            products.append(\n",
    "                {'Name': title_element, 'Ratings': rating_element, 'Total Number of Ratings': total_rating_element,\n",
    "                'Price': price_element, 'Information': description_element_list, 'Features': product_features,\n",
    "                'Description': description_element})\n",
    "        except AttributeError as e:\n",
    "            continue\n",
    "else:\n",
    "    pagination_link = soup.find('a', class_ = 's-pagination-button').get('href')\n",
    "    # code to extract all information about products from the first 3 pages (our threshold for this project)\n",
    "    products = []\n",
    "    for iter in tqdm(range(1, 6), desc=\"Page Progress\"):  \n",
    "        url = amazon_base_url + pagination_link[:-1] + str(iter)\n",
    "        driver.get(url)\n",
    "        time.sleep(3)\n",
    "        page_source = driver.page_source\n",
    "        soup = BeautifulSoup(page_source, 'html.parser')\n",
    "        product_containers = soup.find_all('div', class_='s-result-item')\n",
    "        for product_tag in tqdm(product_containers, desc=\"Product Progress\"):\n",
    "            try:\n",
    "                # extract relevant information based on the structure of the HTML\n",
    "                product_url = product_tag.find('a', class_='a-link-normal').get('href')\n",
    "                link_response = requests.get(amazon_base_url + product_url)\n",
    "                time.sleep(3)\n",
    "                new_soup = BeautifulSoup(link_response.text, 'html.parser')\n",
    "                title_element, rating_element, total_rating_element, price_element, description_element_list, product_features, description_element = product_information(new_soup)\n",
    "\n",
    "                products.append(\n",
    "                    {'Name': title_element, 'Ratings': rating_element, 'Total Number of Ratings': total_rating_element,\n",
    "                     'Price': price_element, 'Information': description_element_list, 'Features': product_features,\n",
    "                     'Description': description_element, 'URL': amazon_base_url + product_url})\n",
    "            except AttributeError as e:\n",
    "                continue\n",
    "\n",
    "# add the results to the category_dict\n",
    "headphones_dict = products\n",
    "\n",
    "# quit the driver\n",
    "driver.quit()"
   ]
  },
  {
   "cell_type": "code",
   "execution_count": 19,
   "id": "61c7867e",
   "metadata": {},
   "outputs": [
    {
     "data": {
      "text/plain": [
       "True"
      ]
     },
     "execution_count": 19,
     "metadata": {},
     "output_type": "execute_result"
    }
   ],
   "source": [
    "# save information to json file\n",
    "write_to_json(headphones_dict, 'electronics_set/Tablets.json')"
   ]
  },
  {
   "cell_type": "code",
   "execution_count": null,
   "id": "ed0a8c49",
   "metadata": {},
   "outputs": [],
   "source": []
  },
  {
   "cell_type": "markdown",
   "id": "5cb8dfca",
   "metadata": {},
   "source": [
    "### Hi-Fi & Home Audio"
   ]
  },
  {
   "cell_type": "code",
   "execution_count": 20,
   "id": "b2774e09",
   "metadata": {},
   "outputs": [
    {
     "name": "stdout",
     "output_type": "stream",
     "text": [
      "Speakers: https://www.amazon.sg/b/?_encoding=UTF8&node=6436131051&bbn=6314449051&ref_=Oct_d_odnav_d_6436072051_0&pd_rd_w=4wFy1&content-id=amzn1.sym.80833b11-ffca-4e6a-8a04-ea9e915d944b&pf_rd_p=80833b11-ffca-4e6a-8a04-ea9e915d944b&pf_rd_r=HW85J0DHKKVQACSG2M5A&pd_rd_wg=fhWoJ&pd_rd_r=2b31d3ff-e2d4-4077-b3f0-b92744817174\n",
      "Media Streaming Devices: https://www.amazon.sg/b/?_encoding=UTF8&node=6436127051&bbn=6314449051&ref_=Oct_d_odnav_d_6436072051_1&pd_rd_w=4wFy1&content-id=amzn1.sym.80833b11-ffca-4e6a-8a04-ea9e915d944b&pf_rd_p=80833b11-ffca-4e6a-8a04-ea9e915d944b&pf_rd_r=HW85J0DHKKVQACSG2M5A&pd_rd_wg=fhWoJ&pd_rd_r=2b31d3ff-e2d4-4077-b3f0-b92744817174\n",
      "Receivers & Separates: https://www.amazon.sg/b/?_encoding=UTF8&node=6436129051&bbn=6314449051&ref_=Oct_d_odnav_d_6436072051_2&pd_rd_w=4wFy1&content-id=amzn1.sym.80833b11-ffca-4e6a-8a04-ea9e915d944b&pf_rd_p=80833b11-ffca-4e6a-8a04-ea9e915d944b&pf_rd_r=HW85J0DHKKVQACSG2M5A&pd_rd_wg=fhWoJ&pd_rd_r=2b31d3ff-e2d4-4077-b3f0-b92744817174\n",
      "Accessories: https://www.amazon.sg/b/?_encoding=UTF8&node=6436125051&bbn=6314449051&ref_=Oct_d_odnav_d_6436072051_3&pd_rd_w=4wFy1&content-id=amzn1.sym.80833b11-ffca-4e6a-8a04-ea9e915d944b&pf_rd_p=80833b11-ffca-4e6a-8a04-ea9e915d944b&pf_rd_r=HW85J0DHKKVQACSG2M5A&pd_rd_wg=fhWoJ&pd_rd_r=2b31d3ff-e2d4-4077-b3f0-b92744817174\n",
      "Record Players: https://www.amazon.sg/b/?_encoding=UTF8&node=6436130051&bbn=6314449051&ref_=Oct_d_odnav_d_6436072051_4&pd_rd_w=4wFy1&content-id=amzn1.sym.80833b11-ffca-4e6a-8a04-ea9e915d944b&pf_rd_p=80833b11-ffca-4e6a-8a04-ea9e915d944b&pf_rd_r=HW85J0DHKKVQACSG2M5A&pd_rd_wg=fhWoJ&pd_rd_r=2b31d3ff-e2d4-4077-b3f0-b92744817174\n",
      "Radios & Boomboxes: https://www.amazon.sg/b/?_encoding=UTF8&node=6436128051&bbn=6314449051&ref_=Oct_d_odnav_d_6436072051_5&pd_rd_w=4wFy1&content-id=amzn1.sym.80833b11-ffca-4e6a-8a04-ea9e915d944b&pf_rd_p=80833b11-ffca-4e6a-8a04-ea9e915d944b&pf_rd_r=HW85J0DHKKVQACSG2M5A&pd_rd_wg=fhWoJ&pd_rd_r=2b31d3ff-e2d4-4077-b3f0-b92744817174\n",
      "Compact Stereos: https://www.amazon.sg/b/?_encoding=UTF8&node=6436126051&bbn=6314449051&ref_=Oct_d_odnav_d_6436072051_6&pd_rd_w=4wFy1&content-id=amzn1.sym.80833b11-ffca-4e6a-8a04-ea9e915d944b&pf_rd_p=80833b11-ffca-4e6a-8a04-ea9e915d944b&pf_rd_r=HW85J0DHKKVQACSG2M5A&pd_rd_wg=fhWoJ&pd_rd_r=2b31d3ff-e2d4-4077-b3f0-b92744817174\n",
      "CD, Disc & Tape Players: https://www.amazon.sg/b/?_encoding=UTF8&node=6436132051&bbn=6314449051&ref_=Oct_d_odnav_d_6436072051_7&pd_rd_w=4wFy1&content-id=amzn1.sym.80833b11-ffca-4e6a-8a04-ea9e915d944b&pf_rd_p=80833b11-ffca-4e6a-8a04-ea9e915d944b&pf_rd_r=HW85J0DHKKVQACSG2M5A&pd_rd_wg=fhWoJ&pd_rd_r=2b31d3ff-e2d4-4077-b3f0-b92744817174\n"
     ]
    }
   ],
   "source": [
    "# code to get urls\n",
    "driver = webdriver.Chrome()\n",
    "temp_url = subcategory_url['Hi-Fi & Home Audio']\n",
    "driver.get(temp_url)\n",
    "time.sleep(5)\n",
    "page_source = driver.page_source\n",
    "soup = BeautifulSoup(page_source, 'html.parser')\n",
    "home_url_dict = {}\n",
    "for sub_element in soup.find_all('a', class_ = \"a-link-normal octopus-pc-category-card-v2-category-link\"):\n",
    "    home_url_dict[sub_element['title']] = amazon_base_url + sub_element['href']\n",
    "    print(sub_element['title'] + \": \" + amazon_base_url + sub_element['href'])   \n",
    "    \n",
    "# quit the driver\n",
    "driver.quit()"
   ]
  },
  {
   "cell_type": "code",
   "execution_count": 21,
   "id": "68462dd1",
   "metadata": {
    "scrolled": true
   },
   "outputs": [
    {
     "data": {
      "application/vnd.jupyter.widget-view+json": {
       "model_id": "9e2f03682c5f4d3584df02a5bacde9ca",
       "version_major": 2,
       "version_minor": 0
      },
      "text/plain": [
       "Subcategory Progress:   0%|          | 0/8 [00:00<?, ?it/s]"
      ]
     },
     "metadata": {},
     "output_type": "display_data"
    },
    {
     "data": {
      "application/vnd.jupyter.widget-view+json": {
       "model_id": "c36a574240484d15819d63b3ef832d1c",
       "version_major": 2,
       "version_minor": 0
      },
      "text/plain": [
       "Page Progress:   0%|          | 0/4 [00:00<?, ?it/s]"
      ]
     },
     "metadata": {},
     "output_type": "display_data"
    },
    {
     "data": {
      "application/vnd.jupyter.widget-view+json": {
       "model_id": "64c17bfd5a48496f9c23f112b4b5ca33",
       "version_major": 2,
       "version_minor": 0
      },
      "text/plain": [
       "Product Progress:   0%|          | 0/34 [00:00<?, ?it/s]"
      ]
     },
     "metadata": {},
     "output_type": "display_data"
    },
    {
     "data": {
      "application/vnd.jupyter.widget-view+json": {
       "model_id": "17f3995812d5409fa14f302a452cfed5",
       "version_major": 2,
       "version_minor": 0
      },
      "text/plain": [
       "Product Progress:   0%|          | 0/34 [00:00<?, ?it/s]"
      ]
     },
     "metadata": {},
     "output_type": "display_data"
    },
    {
     "data": {
      "application/vnd.jupyter.widget-view+json": {
       "model_id": "0c8cc705153b4596ab8ff21cc2a4dd11",
       "version_major": 2,
       "version_minor": 0
      },
      "text/plain": [
       "Product Progress:   0%|          | 0/34 [00:00<?, ?it/s]"
      ]
     },
     "metadata": {},
     "output_type": "display_data"
    },
    {
     "data": {
      "application/vnd.jupyter.widget-view+json": {
       "model_id": "654cf828991748949d26a4cd2a77767d",
       "version_major": 2,
       "version_minor": 0
      },
      "text/plain": [
       "Product Progress:   0%|          | 0/34 [00:00<?, ?it/s]"
      ]
     },
     "metadata": {},
     "output_type": "display_data"
    },
    {
     "data": {
      "application/vnd.jupyter.widget-view+json": {
       "model_id": "99429414f9354c93b8a0f9fde081ec3b",
       "version_major": 2,
       "version_minor": 0
      },
      "text/plain": [
       "Page Progress:   0%|          | 0/4 [00:00<?, ?it/s]"
      ]
     },
     "metadata": {},
     "output_type": "display_data"
    },
    {
     "data": {
      "application/vnd.jupyter.widget-view+json": {
       "model_id": "0f0f853c3a7d454696911ab2f97a9d6d",
       "version_major": 2,
       "version_minor": 0
      },
      "text/plain": [
       "Product Progress:   0%|          | 0/28 [00:00<?, ?it/s]"
      ]
     },
     "metadata": {},
     "output_type": "display_data"
    },
    {
     "data": {
      "application/vnd.jupyter.widget-view+json": {
       "model_id": "03bf0bb4c9e3429f8c03279c4323678e",
       "version_major": 2,
       "version_minor": 0
      },
      "text/plain": [
       "Product Progress:   0%|          | 0/28 [00:00<?, ?it/s]"
      ]
     },
     "metadata": {},
     "output_type": "display_data"
    },
    {
     "data": {
      "application/vnd.jupyter.widget-view+json": {
       "model_id": "cac06a397e324dedbdbeb80800659238",
       "version_major": 2,
       "version_minor": 0
      },
      "text/plain": [
       "Product Progress:   0%|          | 0/28 [00:00<?, ?it/s]"
      ]
     },
     "metadata": {},
     "output_type": "display_data"
    },
    {
     "data": {
      "application/vnd.jupyter.widget-view+json": {
       "model_id": "51361dececba439987d2707ca62246eb",
       "version_major": 2,
       "version_minor": 0
      },
      "text/plain": [
       "Product Progress:   0%|          | 0/28 [00:00<?, ?it/s]"
      ]
     },
     "metadata": {},
     "output_type": "display_data"
    },
    {
     "data": {
      "application/vnd.jupyter.widget-view+json": {
       "model_id": "efce67ec8bb643c8b21a8f56bcce638a",
       "version_major": 2,
       "version_minor": 0
      },
      "text/plain": [
       "Page Progress:   0%|          | 0/4 [00:00<?, ?it/s]"
      ]
     },
     "metadata": {},
     "output_type": "display_data"
    },
    {
     "data": {
      "application/vnd.jupyter.widget-view+json": {
       "model_id": "0a6f16c9f3974efbb16acf911d74fa07",
       "version_major": 2,
       "version_minor": 0
      },
      "text/plain": [
       "Product Progress:   0%|          | 0/28 [00:00<?, ?it/s]"
      ]
     },
     "metadata": {},
     "output_type": "display_data"
    },
    {
     "data": {
      "application/vnd.jupyter.widget-view+json": {
       "model_id": "1f0dcda74af64987bdc10bab8f157b42",
       "version_major": 2,
       "version_minor": 0
      },
      "text/plain": [
       "Product Progress:   0%|          | 0/28 [00:00<?, ?it/s]"
      ]
     },
     "metadata": {},
     "output_type": "display_data"
    },
    {
     "data": {
      "application/vnd.jupyter.widget-view+json": {
       "model_id": "a937fafedf2042d4ad136bc663d96d9e",
       "version_major": 2,
       "version_minor": 0
      },
      "text/plain": [
       "Product Progress:   0%|          | 0/28 [00:00<?, ?it/s]"
      ]
     },
     "metadata": {},
     "output_type": "display_data"
    },
    {
     "data": {
      "application/vnd.jupyter.widget-view+json": {
       "model_id": "90045ccae04d443da21f0d91b571695c",
       "version_major": 2,
       "version_minor": 0
      },
      "text/plain": [
       "Product Progress:   0%|          | 0/28 [00:00<?, ?it/s]"
      ]
     },
     "metadata": {},
     "output_type": "display_data"
    },
    {
     "data": {
      "application/vnd.jupyter.widget-view+json": {
       "model_id": "7abac521901e4885bd59d741eed5e2ee",
       "version_major": 2,
       "version_minor": 0
      },
      "text/plain": [
       "Page Progress:   0%|          | 0/4 [00:00<?, ?it/s]"
      ]
     },
     "metadata": {},
     "output_type": "display_data"
    },
    {
     "data": {
      "application/vnd.jupyter.widget-view+json": {
       "model_id": "db7ae4ee0f3a4db6969ab259811b939c",
       "version_major": 2,
       "version_minor": 0
      },
      "text/plain": [
       "Product Progress:   0%|          | 0/29 [00:00<?, ?it/s]"
      ]
     },
     "metadata": {},
     "output_type": "display_data"
    },
    {
     "data": {
      "application/vnd.jupyter.widget-view+json": {
       "model_id": "cf156e311cc249e4888933d7c7b88a50",
       "version_major": 2,
       "version_minor": 0
      },
      "text/plain": [
       "Product Progress:   0%|          | 0/29 [00:00<?, ?it/s]"
      ]
     },
     "metadata": {},
     "output_type": "display_data"
    },
    {
     "data": {
      "application/vnd.jupyter.widget-view+json": {
       "model_id": "9aef509a5b7147439ede2555883ce815",
       "version_major": 2,
       "version_minor": 0
      },
      "text/plain": [
       "Product Progress:   0%|          | 0/29 [00:00<?, ?it/s]"
      ]
     },
     "metadata": {},
     "output_type": "display_data"
    },
    {
     "data": {
      "application/vnd.jupyter.widget-view+json": {
       "model_id": "2bf6a36119ab48d6954de0fd4baa9a1e",
       "version_major": 2,
       "version_minor": 0
      },
      "text/plain": [
       "Product Progress:   0%|          | 0/29 [00:00<?, ?it/s]"
      ]
     },
     "metadata": {},
     "output_type": "display_data"
    },
    {
     "data": {
      "application/vnd.jupyter.widget-view+json": {
       "model_id": "e16a3e7a87e84b8f948bd2f22362c7bc",
       "version_major": 2,
       "version_minor": 0
      },
      "text/plain": [
       "Page Progress:   0%|          | 0/4 [00:00<?, ?it/s]"
      ]
     },
     "metadata": {},
     "output_type": "display_data"
    },
    {
     "data": {
      "application/vnd.jupyter.widget-view+json": {
       "model_id": "85cad786b4b34d8d8ddd64d867d157d5",
       "version_major": 2,
       "version_minor": 0
      },
      "text/plain": [
       "Product Progress:   0%|          | 0/28 [00:00<?, ?it/s]"
      ]
     },
     "metadata": {},
     "output_type": "display_data"
    },
    {
     "data": {
      "application/vnd.jupyter.widget-view+json": {
       "model_id": "6579ab73964f410993cb91f1a79da064",
       "version_major": 2,
       "version_minor": 0
      },
      "text/plain": [
       "Product Progress:   0%|          | 0/28 [00:00<?, ?it/s]"
      ]
     },
     "metadata": {},
     "output_type": "display_data"
    },
    {
     "data": {
      "application/vnd.jupyter.widget-view+json": {
       "model_id": "354a7b186c6d46cfb96ab525ba724e1d",
       "version_major": 2,
       "version_minor": 0
      },
      "text/plain": [
       "Product Progress:   0%|          | 0/28 [00:00<?, ?it/s]"
      ]
     },
     "metadata": {},
     "output_type": "display_data"
    },
    {
     "data": {
      "application/vnd.jupyter.widget-view+json": {
       "model_id": "a4df02c561ab45d09145c52fbe50465c",
       "version_major": 2,
       "version_minor": 0
      },
      "text/plain": [
       "Product Progress:   0%|          | 0/28 [00:00<?, ?it/s]"
      ]
     },
     "metadata": {},
     "output_type": "display_data"
    },
    {
     "data": {
      "application/vnd.jupyter.widget-view+json": {
       "model_id": "fb18458c02db4667bad06bdcd114d3ce",
       "version_major": 2,
       "version_minor": 0
      },
      "text/plain": [
       "Page Progress:   0%|          | 0/4 [00:00<?, ?it/s]"
      ]
     },
     "metadata": {},
     "output_type": "display_data"
    },
    {
     "data": {
      "application/vnd.jupyter.widget-view+json": {
       "model_id": "e712376e0ef44a7380e7a153cb4eea04",
       "version_major": 2,
       "version_minor": 0
      },
      "text/plain": [
       "Product Progress:   0%|          | 0/28 [00:00<?, ?it/s]"
      ]
     },
     "metadata": {},
     "output_type": "display_data"
    },
    {
     "data": {
      "application/vnd.jupyter.widget-view+json": {
       "model_id": "f10b9244b362491da23cf0b90bbd9157",
       "version_major": 2,
       "version_minor": 0
      },
      "text/plain": [
       "Product Progress:   0%|          | 0/28 [00:00<?, ?it/s]"
      ]
     },
     "metadata": {},
     "output_type": "display_data"
    },
    {
     "data": {
      "application/vnd.jupyter.widget-view+json": {
       "model_id": "073d8b6e9657438bbc5dcfd47b55be06",
       "version_major": 2,
       "version_minor": 0
      },
      "text/plain": [
       "Product Progress:   0%|          | 0/28 [00:00<?, ?it/s]"
      ]
     },
     "metadata": {},
     "output_type": "display_data"
    },
    {
     "data": {
      "application/vnd.jupyter.widget-view+json": {
       "model_id": "a470aaf5cbdc4f30bea3c9ec96a531c4",
       "version_major": 2,
       "version_minor": 0
      },
      "text/plain": [
       "Product Progress:   0%|          | 0/28 [00:00<?, ?it/s]"
      ]
     },
     "metadata": {},
     "output_type": "display_data"
    },
    {
     "data": {
      "application/vnd.jupyter.widget-view+json": {
       "model_id": "2f62c5c4826e469bae62d52529901613",
       "version_major": 2,
       "version_minor": 0
      },
      "text/plain": [
       "Page Progress:   0%|          | 0/4 [00:00<?, ?it/s]"
      ]
     },
     "metadata": {},
     "output_type": "display_data"
    },
    {
     "data": {
      "application/vnd.jupyter.widget-view+json": {
       "model_id": "9132bd3390cb4e4c8a0f2bad18fa56b1",
       "version_major": 2,
       "version_minor": 0
      },
      "text/plain": [
       "Product Progress:   0%|          | 0/28 [00:00<?, ?it/s]"
      ]
     },
     "metadata": {},
     "output_type": "display_data"
    },
    {
     "data": {
      "application/vnd.jupyter.widget-view+json": {
       "model_id": "6a094cd2fc6b43b9a8f2c900c4ca57b8",
       "version_major": 2,
       "version_minor": 0
      },
      "text/plain": [
       "Product Progress:   0%|          | 0/28 [00:00<?, ?it/s]"
      ]
     },
     "metadata": {},
     "output_type": "display_data"
    },
    {
     "data": {
      "application/vnd.jupyter.widget-view+json": {
       "model_id": "1c2c3f092f3e4982a399c78f54436ec2",
       "version_major": 2,
       "version_minor": 0
      },
      "text/plain": [
       "Product Progress:   0%|          | 0/28 [00:00<?, ?it/s]"
      ]
     },
     "metadata": {},
     "output_type": "display_data"
    },
    {
     "data": {
      "application/vnd.jupyter.widget-view+json": {
       "model_id": "2edb74910c7d470fa9a4b90c6d06f952",
       "version_major": 2,
       "version_minor": 0
      },
      "text/plain": [
       "Product Progress:   0%|          | 0/28 [00:00<?, ?it/s]"
      ]
     },
     "metadata": {},
     "output_type": "display_data"
    },
    {
     "data": {
      "application/vnd.jupyter.widget-view+json": {
       "model_id": "19aba21b8e784afcbc6148d03b87536d",
       "version_major": 2,
       "version_minor": 0
      },
      "text/plain": [
       "Page Progress:   0%|          | 0/4 [00:00<?, ?it/s]"
      ]
     },
     "metadata": {},
     "output_type": "display_data"
    },
    {
     "data": {
      "application/vnd.jupyter.widget-view+json": {
       "model_id": "0686ab8b706947f18e103a7998338dba",
       "version_major": 2,
       "version_minor": 0
      },
      "text/plain": [
       "Product Progress:   0%|          | 0/28 [00:00<?, ?it/s]"
      ]
     },
     "metadata": {},
     "output_type": "display_data"
    },
    {
     "data": {
      "application/vnd.jupyter.widget-view+json": {
       "model_id": "4dbf05e9972d4f619fa6e4f6fce97876",
       "version_major": 2,
       "version_minor": 0
      },
      "text/plain": [
       "Product Progress:   0%|          | 0/28 [00:00<?, ?it/s]"
      ]
     },
     "metadata": {},
     "output_type": "display_data"
    },
    {
     "data": {
      "application/vnd.jupyter.widget-view+json": {
       "model_id": "bc06226fa2a348f0ad2b9074ba039877",
       "version_major": 2,
       "version_minor": 0
      },
      "text/plain": [
       "Product Progress:   0%|          | 0/28 [00:00<?, ?it/s]"
      ]
     },
     "metadata": {},
     "output_type": "display_data"
    },
    {
     "data": {
      "application/vnd.jupyter.widget-view+json": {
       "model_id": "0a71ba7e26da408da719541193e306bf",
       "version_major": 2,
       "version_minor": 0
      },
      "text/plain": [
       "Product Progress:   0%|          | 0/28 [00:00<?, ?it/s]"
      ]
     },
     "metadata": {},
     "output_type": "display_data"
    }
   ],
   "source": [
    "# code for Results Page \n",
    "driver = webdriver.Chrome()\n",
    "home_dict = {}\n",
    "for value in tqdm(home_url_dict.values(), desc = 'Subcategory Progress'): \n",
    "    sub_url = value\n",
    "    driver.get(sub_url)\n",
    "    time.sleep(3)\n",
    "    page_source = driver.page_source\n",
    "    soup = BeautifulSoup(page_source, 'html.parser')\n",
    "    \n",
    "    div_tag = soup.find('div', class_='fst-h1-st')\n",
    "\n",
    "    # extract the title of the Sub-Sub-Category\n",
    "    if div_tag:\n",
    "        title = div_tag.find('h1').get_text()\n",
    "\n",
    "    # getting Pagination Link to obtain page where all results are accessible\n",
    "    pagination_link_element = soup.find('a', id = 'apb-desktop-browse-search-see-all')\n",
    "\n",
    "    if pagination_link_element:\n",
    "        result_url = amazon_base_url + pagination_link_element.get('href')\n",
    "    else:\n",
    "        continue\n",
    "\n",
    "    driver.get(result_url)\n",
    "    time.sleep(3)\n",
    "    page_source = driver.page_source\n",
    "    soup = BeautifulSoup(page_source, 'html.parser')\n",
    "    \n",
    "    # checking whether pagination button is available\n",
    "    if (soup.find('a', class_ = 's-pagination-button') is None):\n",
    "        product_containers = soup.find_all('div', class_='s-result-item')\n",
    "        for product_tag in product_containers:\n",
    "            try:\n",
    "                # extract relevant information based on the structure of the HTML\n",
    "                product_url = product_tag.find('a', class_='a-link-normal').get('href')\n",
    "                driver.get(amazon_base_url + product_url)\n",
    "                time.sleep(3)\n",
    "                page_source = driver.page_source\n",
    "                new_soup = BeautifulSoup(page_source, 'html.parser')\n",
    "                title_element, rating_element, total_rating_element, price_element, description_element_list, product_features, description_element = product_information(new_soup)\n",
    "\n",
    "                products.append(\n",
    "                    {'Name': title_element, 'Ratings': rating_element, 'Total Number of Ratings': total_rating_element,\n",
    "                    'Price': price_element, 'Information': description_element_list, 'Features': product_features,\n",
    "                    'Description': description_element})\n",
    "            except AttributeError as e:\n",
    "                continue\n",
    "    else:\n",
    "        pagination_link = soup.find('a', class_ = 's-pagination-button').get('href')\n",
    "        # code to extract all information about products from the first 5 pages (our threshold for this project)\n",
    "        products = []\n",
    "        for iter in tqdm(range(1, 5), desc=\"Page Progress\"):  \n",
    "            url = amazon_base_url + pagination_link[:-1] + str(iter)\n",
    "            driver.get(url)\n",
    "            time.sleep(3)\n",
    "            page_source = driver.page_source\n",
    "            soup = BeautifulSoup(page_source, 'html.parser')\n",
    "            product_containers = soup.find_all('div', class_='s-result-item')\n",
    "            for product_tag in tqdm(product_containers, desc=\"Product Progress\"):\n",
    "                try:\n",
    "                    # extract relevant information based on the structure of the HTML\n",
    "                    product_url = product_tag.find('a', class_='a-link-normal').get('href')\n",
    "                    link_response = requests.get(amazon_base_url + product_url)\n",
    "                    time.sleep(3)\n",
    "                    new_soup = BeautifulSoup(link_response.text, 'html.parser')\n",
    "                    title_element, rating_element, total_rating_element, price_element, description_element_list, product_features, description_element = product_information(new_soup)\n",
    "\n",
    "                    products.append(\n",
    "                        {'Name': title_element, 'Ratings': rating_element, 'Total Number of Ratings': total_rating_element,\n",
    "                         'Price': price_element, 'Information': description_element_list, 'Features': product_features,\n",
    "                         'Description': description_element, 'URL': amazon_base_url + product_url})\n",
    "                except AttributeError as e:\n",
    "                    continue\n",
    "                    \n",
    "    # add the results to the category_dict\n",
    "    home_dict[title] = products\n",
    "\n",
    "# quit the driver\n",
    "driver.quit()"
   ]
  },
  {
   "cell_type": "code",
   "execution_count": 27,
   "id": "7caf6dfb",
   "metadata": {},
   "outputs": [
    {
     "data": {
      "text/plain": [
       "True"
      ]
     },
     "execution_count": 27,
     "metadata": {},
     "output_type": "execute_result"
    }
   ],
   "source": [
    "# save information to json file\n",
    "write_to_json(home_dict, 'electronics_set/Hi-Fi & Home Audio.json')"
   ]
  },
  {
   "cell_type": "markdown",
   "id": "480a95b0",
   "metadata": {},
   "source": [
    "### Camera & Photo"
   ]
  },
  {
   "cell_type": "code",
   "execution_count": 28,
   "id": "e7d0d455",
   "metadata": {},
   "outputs": [
    {
     "name": "stdout",
     "output_type": "stream",
     "text": [
      "Video Projectors: https://www.amazon.sg/b/?_encoding=UTF8&node=6436138051&bbn=6314449051&ref_=Oct_d_odnav_d_6436069051_0&pd_rd_w=I9jmH&content-id=amzn1.sym.80833b11-ffca-4e6a-8a04-ea9e915d944b&pf_rd_p=80833b11-ffca-4e6a-8a04-ea9e915d944b&pf_rd_r=C1B1XVKY0KX4SV9W8KRQ&pd_rd_wg=U51wn&pd_rd_r=dafd1816-7c27-4a4e-a5b8-95dea71b2ccc\n",
      "Lenses: https://www.amazon.sg/b/?_encoding=UTF8&node=6436101051&bbn=6314449051&ref_=Oct_d_odnav_d_6436069051_1&pd_rd_w=I9jmH&content-id=amzn1.sym.80833b11-ffca-4e6a-8a04-ea9e915d944b&pf_rd_p=80833b11-ffca-4e6a-8a04-ea9e915d944b&pf_rd_r=C1B1XVKY0KX4SV9W8KRQ&pd_rd_wg=U51wn&pd_rd_r=dafd1816-7c27-4a4e-a5b8-95dea71b2ccc\n",
      "Surveillance Cameras: https://www.amazon.sg/b/?_encoding=UTF8&node=6436103051&bbn=6314449051&ref_=Oct_d_odnav_d_6436069051_2&pd_rd_w=I9jmH&content-id=amzn1.sym.80833b11-ffca-4e6a-8a04-ea9e915d944b&pf_rd_p=80833b11-ffca-4e6a-8a04-ea9e915d944b&pf_rd_r=C1B1XVKY0KX4SV9W8KRQ&pd_rd_wg=U51wn&pd_rd_r=dafd1816-7c27-4a4e-a5b8-95dea71b2ccc\n",
      "Digital Picture Frames: https://www.amazon.sg/b/?_encoding=UTF8&node=6436098051&bbn=6314449051&ref_=Oct_d_odnav_d_6436069051_3&pd_rd_w=I9jmH&content-id=amzn1.sym.80833b11-ffca-4e6a-8a04-ea9e915d944b&pf_rd_p=80833b11-ffca-4e6a-8a04-ea9e915d944b&pf_rd_r=C1B1XVKY0KX4SV9W8KRQ&pd_rd_wg=U51wn&pd_rd_r=dafd1816-7c27-4a4e-a5b8-95dea71b2ccc\n",
      "Action Cameras: https://www.amazon.sg/b/?_encoding=UTF8&node=14616605051&bbn=6314449051&ref_=Oct_d_odnav_d_6436069051_4&pd_rd_w=I9jmH&content-id=amzn1.sym.80833b11-ffca-4e6a-8a04-ea9e915d944b&pf_rd_p=80833b11-ffca-4e6a-8a04-ea9e915d944b&pf_rd_r=C1B1XVKY0KX4SV9W8KRQ&pd_rd_wg=U51wn&pd_rd_r=dafd1816-7c27-4a4e-a5b8-95dea71b2ccc\n",
      "Digital Cameras: https://www.amazon.sg/b/?_encoding=UTF8&node=6436097051&bbn=6314449051&ref_=Oct_d_odnav_d_6436069051_5&pd_rd_w=I9jmH&content-id=amzn1.sym.80833b11-ffca-4e6a-8a04-ea9e915d944b&pf_rd_p=80833b11-ffca-4e6a-8a04-ea9e915d944b&pf_rd_r=C1B1XVKY0KX4SV9W8KRQ&pd_rd_wg=U51wn&pd_rd_r=dafd1816-7c27-4a4e-a5b8-95dea71b2ccc\n",
      "Tripods & Monopods: https://www.amazon.sg/b/?_encoding=UTF8&node=6436104051&bbn=6314449051&ref_=Oct_d_odnav_d_6436069051_6&pd_rd_w=I9jmH&content-id=amzn1.sym.80833b11-ffca-4e6a-8a04-ea9e915d944b&pf_rd_p=80833b11-ffca-4e6a-8a04-ea9e915d944b&pf_rd_r=C1B1XVKY0KX4SV9W8KRQ&pd_rd_wg=U51wn&pd_rd_r=dafd1816-7c27-4a4e-a5b8-95dea71b2ccc\n",
      "Accessories: https://www.amazon.sg/b/?_encoding=UTF8&node=6436094051&bbn=6314449051&ref_=Oct_d_odnav_d_6436069051_7&pd_rd_w=I9jmH&content-id=amzn1.sym.80833b11-ffca-4e6a-8a04-ea9e915d944b&pf_rd_p=80833b11-ffca-4e6a-8a04-ea9e915d944b&pf_rd_r=C1B1XVKY0KX4SV9W8KRQ&pd_rd_wg=U51wn&pd_rd_r=dafd1816-7c27-4a4e-a5b8-95dea71b2ccc\n",
      "Underwater Video & Photography: https://www.amazon.sg/b/?_encoding=UTF8&node=6436105051&bbn=6314449051&ref_=Oct_d_odnav_d_6436069051_8&pd_rd_w=I9jmH&content-id=amzn1.sym.80833b11-ffca-4e6a-8a04-ea9e915d944b&pf_rd_p=80833b11-ffca-4e6a-8a04-ea9e915d944b&pf_rd_r=C1B1XVKY0KX4SV9W8KRQ&pd_rd_wg=U51wn&pd_rd_r=dafd1816-7c27-4a4e-a5b8-95dea71b2ccc\n",
      "Flashes: https://www.amazon.sg/b/?_encoding=UTF8&node=6436100051&bbn=6314449051&ref_=Oct_d_odnav_d_6436069051_9&pd_rd_w=I9jmH&content-id=amzn1.sym.80833b11-ffca-4e6a-8a04-ea9e915d944b&pf_rd_p=80833b11-ffca-4e6a-8a04-ea9e915d944b&pf_rd_r=C1B1XVKY0KX4SV9W8KRQ&pd_rd_wg=U51wn&pd_rd_r=dafd1816-7c27-4a4e-a5b8-95dea71b2ccc\n",
      "Film Cameras: https://www.amazon.sg/b/?_encoding=UTF8&node=6436099051&bbn=6314449051&ref_=Oct_d_odnav_d_6436069051_10&pd_rd_w=I9jmH&content-id=amzn1.sym.80833b11-ffca-4e6a-8a04-ea9e915d944b&pf_rd_p=80833b11-ffca-4e6a-8a04-ea9e915d944b&pf_rd_r=C1B1XVKY0KX4SV9W8KRQ&pd_rd_wg=U51wn&pd_rd_r=dafd1816-7c27-4a4e-a5b8-95dea71b2ccc\n",
      "Dummy Cameras: https://www.amazon.sg/b/?_encoding=UTF8&node=6436223051&bbn=6314449051&ref_=Oct_d_odnav_d_6436069051_11&pd_rd_w=I9jmH&content-id=amzn1.sym.80833b11-ffca-4e6a-8a04-ea9e915d944b&pf_rd_p=80833b11-ffca-4e6a-8a04-ea9e915d944b&pf_rd_r=C1B1XVKY0KX4SV9W8KRQ&pd_rd_wg=U51wn&pd_rd_r=dafd1816-7c27-4a4e-a5b8-95dea71b2ccc\n",
      "Body Mounted Cameras: https://www.amazon.sg/b/?_encoding=UTF8&node=14692137051&bbn=6314449051&ref_=Oct_d_odnav_d_6436069051_12&pd_rd_w=I9jmH&content-id=amzn1.sym.80833b11-ffca-4e6a-8a04-ea9e915d944b&pf_rd_p=80833b11-ffca-4e6a-8a04-ea9e915d944b&pf_rd_r=C1B1XVKY0KX4SV9W8KRQ&pd_rd_wg=U51wn&pd_rd_r=dafd1816-7c27-4a4e-a5b8-95dea71b2ccc\n"
     ]
    }
   ],
   "source": [
    "# code to get urls\n",
    "driver = webdriver.Chrome()\n",
    "temp_url = subcategory_url['Camera & Photo']\n",
    "driver.get(temp_url)\n",
    "time.sleep(5)\n",
    "page_source = driver.page_source\n",
    "soup = BeautifulSoup(page_source, 'html.parser')\n",
    "camera_url_dict = {}\n",
    "for sub_element in soup.find_all('a', class_ = \"a-link-normal octopus-pc-category-card-v2-category-link\"):\n",
    "    camera_url_dict[sub_element['title']] = amazon_base_url + sub_element['href']\n",
    "    print(sub_element['title'] + \": \" + amazon_base_url + sub_element['href'])   \n",
    "    \n",
    "# quit the driver\n",
    "driver.quit()"
   ]
  },
  {
   "cell_type": "code",
   "execution_count": 29,
   "id": "29d55206",
   "metadata": {},
   "outputs": [
    {
     "data": {
      "application/vnd.jupyter.widget-view+json": {
       "model_id": "a50fa4a5dd5e4a1b974106c41f1f765f",
       "version_major": 2,
       "version_minor": 0
      },
      "text/plain": [
       "Subcategory Progress:   0%|          | 0/13 [00:00<?, ?it/s]"
      ]
     },
     "metadata": {},
     "output_type": "display_data"
    },
    {
     "data": {
      "application/vnd.jupyter.widget-view+json": {
       "model_id": "6ee2d4ac51b94c249157ad4a26e242e2",
       "version_major": 2,
       "version_minor": 0
      },
      "text/plain": [
       "Page Progress:   0%|          | 0/3 [00:00<?, ?it/s]"
      ]
     },
     "metadata": {},
     "output_type": "display_data"
    },
    {
     "data": {
      "application/vnd.jupyter.widget-view+json": {
       "model_id": "bec7dd393851453ea1b0a0c512d2ddfb",
       "version_major": 2,
       "version_minor": 0
      },
      "text/plain": [
       "Product Progress:   0%|          | 0/37 [00:00<?, ?it/s]"
      ]
     },
     "metadata": {},
     "output_type": "display_data"
    },
    {
     "data": {
      "application/vnd.jupyter.widget-view+json": {
       "model_id": "278302a08b6c44969ff4e78af2308623",
       "version_major": 2,
       "version_minor": 0
      },
      "text/plain": [
       "Product Progress:   0%|          | 0/37 [00:00<?, ?it/s]"
      ]
     },
     "metadata": {},
     "output_type": "display_data"
    },
    {
     "data": {
      "application/vnd.jupyter.widget-view+json": {
       "model_id": "54227553d7d0445ab0321ef5e87aaa9e",
       "version_major": 2,
       "version_minor": 0
      },
      "text/plain": [
       "Product Progress:   0%|          | 0/37 [00:00<?, ?it/s]"
      ]
     },
     "metadata": {},
     "output_type": "display_data"
    },
    {
     "data": {
      "application/vnd.jupyter.widget-view+json": {
       "model_id": "6db250563ccb497da169fab22ba4e94c",
       "version_major": 2,
       "version_minor": 0
      },
      "text/plain": [
       "Page Progress:   0%|          | 0/3 [00:00<?, ?it/s]"
      ]
     },
     "metadata": {},
     "output_type": "display_data"
    },
    {
     "data": {
      "application/vnd.jupyter.widget-view+json": {
       "model_id": "282ebc43d8c2473a9d4392ddaf648f24",
       "version_major": 2,
       "version_minor": 0
      },
      "text/plain": [
       "Product Progress:   0%|          | 0/28 [00:00<?, ?it/s]"
      ]
     },
     "metadata": {},
     "output_type": "display_data"
    },
    {
     "data": {
      "application/vnd.jupyter.widget-view+json": {
       "model_id": "d8ea782648fc48d7a148c6fb3b22c156",
       "version_major": 2,
       "version_minor": 0
      },
      "text/plain": [
       "Product Progress:   0%|          | 0/28 [00:00<?, ?it/s]"
      ]
     },
     "metadata": {},
     "output_type": "display_data"
    },
    {
     "data": {
      "application/vnd.jupyter.widget-view+json": {
       "model_id": "f31e52cbe52644aa8c9a28b8d7d4db42",
       "version_major": 2,
       "version_minor": 0
      },
      "text/plain": [
       "Product Progress:   0%|          | 0/28 [00:00<?, ?it/s]"
      ]
     },
     "metadata": {},
     "output_type": "display_data"
    },
    {
     "data": {
      "application/vnd.jupyter.widget-view+json": {
       "model_id": "844944598ce0450f9e8ae09e262d7327",
       "version_major": 2,
       "version_minor": 0
      },
      "text/plain": [
       "Page Progress:   0%|          | 0/3 [00:00<?, ?it/s]"
      ]
     },
     "metadata": {},
     "output_type": "display_data"
    },
    {
     "data": {
      "application/vnd.jupyter.widget-view+json": {
       "model_id": "5a1c6754643e4a59baa0a96bfcf578aa",
       "version_major": 2,
       "version_minor": 0
      },
      "text/plain": [
       "Product Progress:   0%|          | 0/37 [00:00<?, ?it/s]"
      ]
     },
     "metadata": {},
     "output_type": "display_data"
    },
    {
     "data": {
      "application/vnd.jupyter.widget-view+json": {
       "model_id": "c175b1348e3f4709a81fc20d4595e8bf",
       "version_major": 2,
       "version_minor": 0
      },
      "text/plain": [
       "Product Progress:   0%|          | 0/37 [00:00<?, ?it/s]"
      ]
     },
     "metadata": {},
     "output_type": "display_data"
    },
    {
     "data": {
      "application/vnd.jupyter.widget-view+json": {
       "model_id": "780681d90a804909af4a76015071f96e",
       "version_major": 2,
       "version_minor": 0
      },
      "text/plain": [
       "Product Progress:   0%|          | 0/37 [00:00<?, ?it/s]"
      ]
     },
     "metadata": {},
     "output_type": "display_data"
    },
    {
     "data": {
      "application/vnd.jupyter.widget-view+json": {
       "model_id": "a6d74f7f960a410f8235a3356662be5d",
       "version_major": 2,
       "version_minor": 0
      },
      "text/plain": [
       "Page Progress:   0%|          | 0/3 [00:00<?, ?it/s]"
      ]
     },
     "metadata": {},
     "output_type": "display_data"
    },
    {
     "data": {
      "application/vnd.jupyter.widget-view+json": {
       "model_id": "16b4c44d25db4469a6548ba7da93f91a",
       "version_major": 2,
       "version_minor": 0
      },
      "text/plain": [
       "Product Progress:   0%|          | 0/37 [00:00<?, ?it/s]"
      ]
     },
     "metadata": {},
     "output_type": "display_data"
    },
    {
     "data": {
      "application/vnd.jupyter.widget-view+json": {
       "model_id": "88d3e0630964418f9640220407ab7de9",
       "version_major": 2,
       "version_minor": 0
      },
      "text/plain": [
       "Product Progress:   0%|          | 0/37 [00:00<?, ?it/s]"
      ]
     },
     "metadata": {},
     "output_type": "display_data"
    },
    {
     "data": {
      "application/vnd.jupyter.widget-view+json": {
       "model_id": "ebebf7171f164276baa96cb996c23480",
       "version_major": 2,
       "version_minor": 0
      },
      "text/plain": [
       "Product Progress:   0%|          | 0/37 [00:00<?, ?it/s]"
      ]
     },
     "metadata": {},
     "output_type": "display_data"
    },
    {
     "data": {
      "application/vnd.jupyter.widget-view+json": {
       "model_id": "7f290fee1bee47dd9608c29f52452b81",
       "version_major": 2,
       "version_minor": 0
      },
      "text/plain": [
       "Page Progress:   0%|          | 0/3 [00:00<?, ?it/s]"
      ]
     },
     "metadata": {},
     "output_type": "display_data"
    },
    {
     "data": {
      "application/vnd.jupyter.widget-view+json": {
       "model_id": "90b98f7649664e989d3ec5e0232689b2",
       "version_major": 2,
       "version_minor": 0
      },
      "text/plain": [
       "Product Progress:   0%|          | 0/37 [00:00<?, ?it/s]"
      ]
     },
     "metadata": {},
     "output_type": "display_data"
    },
    {
     "data": {
      "application/vnd.jupyter.widget-view+json": {
       "model_id": "54831d6256594c53a5559e5f3de3f581",
       "version_major": 2,
       "version_minor": 0
      },
      "text/plain": [
       "Product Progress:   0%|          | 0/37 [00:00<?, ?it/s]"
      ]
     },
     "metadata": {},
     "output_type": "display_data"
    },
    {
     "data": {
      "application/vnd.jupyter.widget-view+json": {
       "model_id": "7ab0de7f1e484dae917f9c00a1175e8d",
       "version_major": 2,
       "version_minor": 0
      },
      "text/plain": [
       "Product Progress:   0%|          | 0/37 [00:00<?, ?it/s]"
      ]
     },
     "metadata": {},
     "output_type": "display_data"
    },
    {
     "data": {
      "application/vnd.jupyter.widget-view+json": {
       "model_id": "1e42e7b64645498f817cbd91452d752c",
       "version_major": 2,
       "version_minor": 0
      },
      "text/plain": [
       "Page Progress:   0%|          | 0/3 [00:00<?, ?it/s]"
      ]
     },
     "metadata": {},
     "output_type": "display_data"
    },
    {
     "data": {
      "application/vnd.jupyter.widget-view+json": {
       "model_id": "78058e9899a34eb4afa904e9a98efd30",
       "version_major": 2,
       "version_minor": 0
      },
      "text/plain": [
       "Product Progress:   0%|          | 0/37 [00:00<?, ?it/s]"
      ]
     },
     "metadata": {},
     "output_type": "display_data"
    },
    {
     "data": {
      "application/vnd.jupyter.widget-view+json": {
       "model_id": "d6540df7fc524ac7b50151664e4d9e5b",
       "version_major": 2,
       "version_minor": 0
      },
      "text/plain": [
       "Product Progress:   0%|          | 0/37 [00:00<?, ?it/s]"
      ]
     },
     "metadata": {},
     "output_type": "display_data"
    },
    {
     "data": {
      "application/vnd.jupyter.widget-view+json": {
       "model_id": "23540e872d0b45fe88a2467171523167",
       "version_major": 2,
       "version_minor": 0
      },
      "text/plain": [
       "Product Progress:   0%|          | 0/37 [00:00<?, ?it/s]"
      ]
     },
     "metadata": {},
     "output_type": "display_data"
    },
    {
     "data": {
      "application/vnd.jupyter.widget-view+json": {
       "model_id": "ba71a3c715974f4c8a1ff6b61e71e52b",
       "version_major": 2,
       "version_minor": 0
      },
      "text/plain": [
       "Page Progress:   0%|          | 0/3 [00:00<?, ?it/s]"
      ]
     },
     "metadata": {},
     "output_type": "display_data"
    },
    {
     "data": {
      "application/vnd.jupyter.widget-view+json": {
       "model_id": "3add46adeb3c4a3c9cf0778c5ba9d1a6",
       "version_major": 2,
       "version_minor": 0
      },
      "text/plain": [
       "Product Progress:   0%|          | 0/37 [00:00<?, ?it/s]"
      ]
     },
     "metadata": {},
     "output_type": "display_data"
    },
    {
     "data": {
      "application/vnd.jupyter.widget-view+json": {
       "model_id": "d478d85e04a84e43a5d6073f95592220",
       "version_major": 2,
       "version_minor": 0
      },
      "text/plain": [
       "Product Progress:   0%|          | 0/37 [00:00<?, ?it/s]"
      ]
     },
     "metadata": {},
     "output_type": "display_data"
    },
    {
     "data": {
      "application/vnd.jupyter.widget-view+json": {
       "model_id": "494a5663d3f84ee99c2f4ecf05aae256",
       "version_major": 2,
       "version_minor": 0
      },
      "text/plain": [
       "Product Progress:   0%|          | 0/37 [00:00<?, ?it/s]"
      ]
     },
     "metadata": {},
     "output_type": "display_data"
    },
    {
     "data": {
      "application/vnd.jupyter.widget-view+json": {
       "model_id": "8fe0aeb86fa64082a544aa4ddd28ac7f",
       "version_major": 2,
       "version_minor": 0
      },
      "text/plain": [
       "Page Progress:   0%|          | 0/3 [00:00<?, ?it/s]"
      ]
     },
     "metadata": {},
     "output_type": "display_data"
    },
    {
     "data": {
      "application/vnd.jupyter.widget-view+json": {
       "model_id": "f79f5e1dbf9f428486bb14d68aef0c1a",
       "version_major": 2,
       "version_minor": 0
      },
      "text/plain": [
       "Product Progress:   0%|          | 0/37 [00:00<?, ?it/s]"
      ]
     },
     "metadata": {},
     "output_type": "display_data"
    },
    {
     "data": {
      "application/vnd.jupyter.widget-view+json": {
       "model_id": "ddac8e6ece9e448fa2e84b8db7471371",
       "version_major": 2,
       "version_minor": 0
      },
      "text/plain": [
       "Product Progress:   0%|          | 0/37 [00:00<?, ?it/s]"
      ]
     },
     "metadata": {},
     "output_type": "display_data"
    },
    {
     "data": {
      "application/vnd.jupyter.widget-view+json": {
       "model_id": "20df428f3cd64dac983233cf528f2429",
       "version_major": 2,
       "version_minor": 0
      },
      "text/plain": [
       "Product Progress:   0%|          | 0/37 [00:00<?, ?it/s]"
      ]
     },
     "metadata": {},
     "output_type": "display_data"
    },
    {
     "data": {
      "application/vnd.jupyter.widget-view+json": {
       "model_id": "7cdacd3bd4ae4c9695497937a09cbf46",
       "version_major": 2,
       "version_minor": 0
      },
      "text/plain": [
       "Page Progress:   0%|          | 0/3 [00:00<?, ?it/s]"
      ]
     },
     "metadata": {},
     "output_type": "display_data"
    },
    {
     "data": {
      "application/vnd.jupyter.widget-view+json": {
       "model_id": "508b7f052c4244f78ee7bbf6587e43c6",
       "version_major": 2,
       "version_minor": 0
      },
      "text/plain": [
       "Product Progress:   0%|          | 0/32 [00:00<?, ?it/s]"
      ]
     },
     "metadata": {},
     "output_type": "display_data"
    },
    {
     "data": {
      "application/vnd.jupyter.widget-view+json": {
       "model_id": "5cabd6bd622e49e080ae6488bff8831d",
       "version_major": 2,
       "version_minor": 0
      },
      "text/plain": [
       "Product Progress:   0%|          | 0/32 [00:00<?, ?it/s]"
      ]
     },
     "metadata": {},
     "output_type": "display_data"
    },
    {
     "data": {
      "application/vnd.jupyter.widget-view+json": {
       "model_id": "e0ae2644aef94ba1935572fdf8726ca2",
       "version_major": 2,
       "version_minor": 0
      },
      "text/plain": [
       "Product Progress:   0%|          | 0/32 [00:00<?, ?it/s]"
      ]
     },
     "metadata": {},
     "output_type": "display_data"
    },
    {
     "data": {
      "application/vnd.jupyter.widget-view+json": {
       "model_id": "e4d5ebd5b05e4028bd6f573789bb98e7",
       "version_major": 2,
       "version_minor": 0
      },
      "text/plain": [
       "Page Progress:   0%|          | 0/3 [00:00<?, ?it/s]"
      ]
     },
     "metadata": {},
     "output_type": "display_data"
    },
    {
     "data": {
      "application/vnd.jupyter.widget-view+json": {
       "model_id": "7896bc04aabb40f8b3b19226913b98d9",
       "version_major": 2,
       "version_minor": 0
      },
      "text/plain": [
       "Product Progress:   0%|          | 0/29 [00:00<?, ?it/s]"
      ]
     },
     "metadata": {},
     "output_type": "display_data"
    },
    {
     "data": {
      "application/vnd.jupyter.widget-view+json": {
       "model_id": "492d9d55e7ad421398062d9481f6b116",
       "version_major": 2,
       "version_minor": 0
      },
      "text/plain": [
       "Product Progress:   0%|          | 0/29 [00:00<?, ?it/s]"
      ]
     },
     "metadata": {},
     "output_type": "display_data"
    },
    {
     "data": {
      "application/vnd.jupyter.widget-view+json": {
       "model_id": "4453b78b271944c09b73c8c802c4901a",
       "version_major": 2,
       "version_minor": 0
      },
      "text/plain": [
       "Product Progress:   0%|          | 0/29 [00:00<?, ?it/s]"
      ]
     },
     "metadata": {},
     "output_type": "display_data"
    },
    {
     "data": {
      "application/vnd.jupyter.widget-view+json": {
       "model_id": "866340fe8c8e42918f1807afc7b8312b",
       "version_major": 2,
       "version_minor": 0
      },
      "text/plain": [
       "Page Progress:   0%|          | 0/3 [00:00<?, ?it/s]"
      ]
     },
     "metadata": {},
     "output_type": "display_data"
    },
    {
     "data": {
      "application/vnd.jupyter.widget-view+json": {
       "model_id": "04b41978568e4fdfa3bb2914c6491310",
       "version_major": 2,
       "version_minor": 0
      },
      "text/plain": [
       "Product Progress:   0%|          | 0/29 [00:00<?, ?it/s]"
      ]
     },
     "metadata": {},
     "output_type": "display_data"
    },
    {
     "data": {
      "application/vnd.jupyter.widget-view+json": {
       "model_id": "efd4a4433306417ebeccddb4ed1765d2",
       "version_major": 2,
       "version_minor": 0
      },
      "text/plain": [
       "Product Progress:   0%|          | 0/29 [00:00<?, ?it/s]"
      ]
     },
     "metadata": {},
     "output_type": "display_data"
    },
    {
     "data": {
      "application/vnd.jupyter.widget-view+json": {
       "model_id": "bbab5914fba049299f994b0c8dd5f0ec",
       "version_major": 2,
       "version_minor": 0
      },
      "text/plain": [
       "Product Progress:   0%|          | 0/29 [00:00<?, ?it/s]"
      ]
     },
     "metadata": {},
     "output_type": "display_data"
    },
    {
     "data": {
      "application/vnd.jupyter.widget-view+json": {
       "model_id": "bb2172fa92074a6fb1e9d6a6def3ed9a",
       "version_major": 2,
       "version_minor": 0
      },
      "text/plain": [
       "Page Progress:   0%|          | 0/3 [00:00<?, ?it/s]"
      ]
     },
     "metadata": {},
     "output_type": "display_data"
    },
    {
     "data": {
      "application/vnd.jupyter.widget-view+json": {
       "model_id": "620a1c34622f46949bbc485688fc17f9",
       "version_major": 2,
       "version_minor": 0
      },
      "text/plain": [
       "Product Progress:   0%|          | 0/30 [00:00<?, ?it/s]"
      ]
     },
     "metadata": {},
     "output_type": "display_data"
    },
    {
     "data": {
      "application/vnd.jupyter.widget-view+json": {
       "model_id": "bea326faf483422cba4e81ad677c963f",
       "version_major": 2,
       "version_minor": 0
      },
      "text/plain": [
       "Product Progress:   0%|          | 0/30 [00:00<?, ?it/s]"
      ]
     },
     "metadata": {},
     "output_type": "display_data"
    },
    {
     "data": {
      "application/vnd.jupyter.widget-view+json": {
       "model_id": "d606a6e9954546dd80cef164d8f86377",
       "version_major": 2,
       "version_minor": 0
      },
      "text/plain": [
       "Product Progress:   0%|          | 0/30 [00:00<?, ?it/s]"
      ]
     },
     "metadata": {},
     "output_type": "display_data"
    }
   ],
   "source": [
    "# code for Results Page \n",
    "driver = webdriver.Chrome()\n",
    "camera_dict = {}\n",
    "for value in tqdm(camera_url_dict.values(), desc = 'Subcategory Progress'): \n",
    "    sub_url = value\n",
    "    driver.get(sub_url)\n",
    "    time.sleep(3)\n",
    "    page_source = driver.page_source\n",
    "    soup = BeautifulSoup(page_source, 'html.parser')\n",
    "    \n",
    "    div_tag = soup.find('div', class_='fst-h1-st')\n",
    "\n",
    "    # extract the title of the Sub-Sub-Category\n",
    "    if div_tag:\n",
    "        title = div_tag.find('h1').get_text()\n",
    "\n",
    "    # getting Pagination Link to obtain page where all results are accessible\n",
    "    pagination_link_element = soup.find('a', id = 'apb-desktop-browse-search-see-all')\n",
    "\n",
    "    if pagination_link_element:\n",
    "        result_url = amazon_base_url + pagination_link_element.get('href')\n",
    "    else:\n",
    "        continue\n",
    "\n",
    "    driver.get(result_url)\n",
    "    time.sleep(3)\n",
    "    page_source = driver.page_source\n",
    "    soup = BeautifulSoup(page_source, 'html.parser')\n",
    "    \n",
    "    # checking whether pagination button is available\n",
    "    if (soup.find('a', class_ = 's-pagination-button') is None):\n",
    "        product_containers = soup.find_all('div', class_='s-result-item')\n",
    "        for product_tag in product_containers:\n",
    "            try:\n",
    "                # extract relevant information based on the structure of the HTML\n",
    "                product_url = product_tag.find('a', class_='a-link-normal').get('href')\n",
    "                driver.get(amazon_base_url + product_url)\n",
    "                time.sleep(3)\n",
    "                page_source = driver.page_source\n",
    "                new_soup = BeautifulSoup(page_source, 'html.parser')\n",
    "                title_element, rating_element, total_rating_element, price_element, description_element_list, product_features, description_element = product_information(new_soup)\n",
    "\n",
    "                products.append(\n",
    "                    {'Name': title_element, 'Ratings': rating_element, 'Total Number of Ratings': total_rating_element,\n",
    "                    'Price': price_element, 'Information': description_element_list, 'Features': product_features,\n",
    "                    'Description': description_element})\n",
    "            except AttributeError as e:\n",
    "                continue\n",
    "    else:\n",
    "        pagination_link = soup.find('a', class_ = 's-pagination-button').get('href')\n",
    "        # code to extract all information about products from the first 5 pages (our threshold for this project)\n",
    "        products = []\n",
    "        for iter in tqdm(range(1, 4), desc=\"Page Progress\"):  \n",
    "            url = amazon_base_url + pagination_link[:-1] + str(iter)\n",
    "            driver.get(url)\n",
    "            time.sleep(3)\n",
    "            page_source = driver.page_source\n",
    "            soup = BeautifulSoup(page_source, 'html.parser')\n",
    "            product_containers = soup.find_all('div', class_='s-result-item')\n",
    "            for product_tag in tqdm(product_containers, desc=\"Product Progress\"):\n",
    "                try:\n",
    "                    # extract relevant information based on the structure of the HTML\n",
    "                    product_url = product_tag.find('a', class_='a-link-normal').get('href')\n",
    "                    link_response = requests.get(amazon_base_url + product_url)\n",
    "                    time.sleep(3)\n",
    "                    new_soup = BeautifulSoup(link_response.text, 'html.parser')\n",
    "                    title_element, rating_element, total_rating_element, price_element, description_element_list, product_features, description_element = product_information(new_soup)\n",
    "\n",
    "                    products.append(\n",
    "                        {'Name': title_element, 'Ratings': rating_element, 'Total Number of Ratings': total_rating_element,\n",
    "                         'Price': price_element, 'Information': description_element_list, 'Features': product_features,\n",
    "                         'Description': description_element, 'URL': amazon_base_url + product_url})\n",
    "                except AttributeError as e:\n",
    "                    continue\n",
    "                    \n",
    "    # add the results to the category_dict\n",
    "    camera_dict[title] = products\n",
    "\n",
    "# quit the driver\n",
    "driver.quit()"
   ]
  },
  {
   "cell_type": "code",
   "execution_count": 30,
   "id": "a9cc6f18",
   "metadata": {},
   "outputs": [
    {
     "data": {
      "text/plain": [
       "True"
      ]
     },
     "execution_count": 30,
     "metadata": {},
     "output_type": "execute_result"
    }
   ],
   "source": [
    "# save information to json file\n",
    "write_to_json(camera_dict, 'electronics_set/Camera & Photo.json')"
   ]
  },
  {
   "cell_type": "code",
   "execution_count": null,
   "id": "725400be",
   "metadata": {},
   "outputs": [],
   "source": []
  }
 ],
 "metadata": {
  "kernelspec": {
   "display_name": "Python 3 (ipykernel)",
   "language": "python",
   "name": "python3"
  },
  "language_info": {
   "codemirror_mode": {
    "name": "ipython",
    "version": 3
   },
   "file_extension": ".py",
   "mimetype": "text/x-python",
   "name": "python",
   "nbconvert_exporter": "python",
   "pygments_lexer": "ipython3",
   "version": "3.11.5"
  }
 },
 "nbformat": 4,
 "nbformat_minor": 5
}
